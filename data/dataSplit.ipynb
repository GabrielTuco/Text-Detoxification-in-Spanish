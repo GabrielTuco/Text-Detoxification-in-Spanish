{
 "cells": [
  {
   "cell_type": "code",
   "execution_count": 1,
   "metadata": {},
   "outputs": [],
   "source": [
    "from sklearn.model_selection import train_test_split\n",
    "import pandas as pd"
   ]
  },
  {
   "cell_type": "code",
   "execution_count": 2,
   "metadata": {},
   "outputs": [],
   "source": [
    "from sklearn.model_selection import train_test_split\n",
    "import pandas as pd"
   ]
  },
  {
   "cell_type": "code",
   "execution_count": 4,
   "metadata": {},
   "outputs": [],
   "source": [
    "toxic = pd.read_csv('./processed/toxicCorpusWSpellErr.txt', engine='python', names=['twt'])\n",
    "normal = pd.read_csv('./processed/normalCorpusWSpellErr.txt', engine='python', names=['twt'])"
   ]
  },
  {
   "cell_type": "code",
   "execution_count": 9,
   "metadata": {},
   "outputs": [],
   "source": [
    "def split_and_save(data, prefix, test_size=0.2, dev_size=0.1, random_state=42):\n",
    "    \n",
    "    train_data, temp_data = train_test_split(data, test_size=(test_size + dev_size), random_state=random_state)\n",
    "    \n",
    "    test_data, dev_data = train_test_split(temp_data, test_size=(dev_size / (test_size + dev_size)), random_state=random_state)\n",
    "    \n",
    "    train_data.to_csv(f'./processed/train_{prefix}.csv', index=False)\n",
    "    test_data.to_csv(f'./processed/test_{prefix}.csv', index=False)\n",
    "    dev_data.to_csv(f'./processed/dev_{prefix}.csv', index=False)"
   ]
  },
  {
   "cell_type": "code",
   "execution_count": 10,
   "metadata": {},
   "outputs": [],
   "source": [
    "split_and_save(toxic, 'toxic')\n",
    "split_and_save(normal, 'normal')"
   ]
  },
  {
   "cell_type": "code",
   "execution_count": null,
   "metadata": {},
   "outputs": [],
   "source": []
  }
 ],
 "metadata": {
  "kernelspec": {
   "display_name": "env",
   "language": "python",
   "name": "python3"
  },
  "language_info": {
   "codemirror_mode": {
    "name": "ipython",
    "version": 3
   },
   "file_extension": ".py",
   "mimetype": "text/x-python",
   "name": "python",
   "nbconvert_exporter": "python",
   "pygments_lexer": "ipython3",
   "version": "3.10.12"
  }
 },
 "nbformat": 4,
 "nbformat_minor": 2
}
