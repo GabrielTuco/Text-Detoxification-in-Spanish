{
  "cells": [
    {
      "cell_type": "markdown",
      "metadata": {
        "id": "2x0PVFskLQfC"
      },
      "source": [
        "This notebook reproduces creation of toxic and normal corpus\n"
      ]
    },
    {
      "cell_type": "markdown",
      "metadata": {},
      "source": [
        "# Requeriments"
      ]
    },
    {
      "cell_type": "code",
      "execution_count": 1,
      "metadata": {},
      "outputs": [],
      "source": [
        "import pandas as pd\n",
        "import emoji\n",
        "import re\n",
        "import string\n",
        "import spacy\n",
        "import es_core_news_sm\n",
        "nlp = spacy.load(\"es_core_news_sm\")\n",
        "import preprocessor as p\n",
        "from sklearn.feature_extraction.text import CountVectorizer\n",
        "from tqdm import tqdm"
      ]
    },
    {
      "cell_type": "code",
      "execution_count": 2,
      "metadata": {},
      "outputs": [
        {
          "name": "stdout",
          "output_type": "stream",
          "text": [
            "\u001b[33mDEPRECATION: https://github.com/explosion/spacy-models/releases/download/es_core_news_sm-2.3.1/es_core_news_sm-2.3.1.tar.gz#egg=es_core_news_sm==2.3.1 contains an egg fragment with a non-PEP 508 name pip 25.0 will enforce this behaviour change. A possible replacement is to use the req @ url syntax, and remove the egg fragment. Discussion can be found at https://github.com/pypa/pip/issues/11617\u001b[0m\u001b[33m\n",
            "\u001b[0mCollecting es_core_news_sm==2.3.1\n",
            "  Downloading https://github.com/explosion/spacy-models/releases/download/es_core_news_sm-2.3.1/es_core_news_sm-2.3.1.tar.gz (16.2 MB)\n",
            "\u001b[2K     \u001b[90m━━━━━━━━━━━━━━━━━━━━━━━━━━━━━━━━━━━━━━━━\u001b[0m \u001b[32m16.2/16.2 MB\u001b[0m \u001b[31m29.7 MB/s\u001b[0m eta \u001b[36m0:00:00\u001b[0m00:01\u001b[0m00:01\u001b[0m\n",
            "\u001b[?25h  Preparing metadata (setup.py) ... \u001b[?25ldone\n",
            "\u001b[?25hRequirement already satisfied: spacy<2.4.0,>=2.3.0 in /mnt/4CC63D9CC63D876C/loncos/Text-Detoxification-in-Spanish/env/lib/python3.8/site-packages (from es_core_news_sm==2.3.1) (2.3.7)\n",
            "Requirement already satisfied: numpy>=1.15.0 in /mnt/4CC63D9CC63D876C/loncos/Text-Detoxification-in-Spanish/env/lib/python3.8/site-packages (from spacy<2.4.0,>=2.3.0->es_core_news_sm==2.3.1) (1.19.5)\n",
            "Requirement already satisfied: requests<3.0.0,>=2.13.0 in /mnt/4CC63D9CC63D876C/loncos/Text-Detoxification-in-Spanish/env/lib/python3.8/site-packages (from spacy<2.4.0,>=2.3.0->es_core_news_sm==2.3.1) (2.32.3)\n",
            "Requirement already satisfied: cymem<2.1.0,>=2.0.2 in /mnt/4CC63D9CC63D876C/loncos/Text-Detoxification-in-Spanish/env/lib/python3.8/site-packages (from spacy<2.4.0,>=2.3.0->es_core_news_sm==2.3.1) (2.0.8)\n",
            "Requirement already satisfied: srsly<1.1.0,>=1.0.2 in /mnt/4CC63D9CC63D876C/loncos/Text-Detoxification-in-Spanish/env/lib/python3.8/site-packages (from spacy<2.4.0,>=2.3.0->es_core_news_sm==2.3.1) (1.0.7)\n",
            "Requirement already satisfied: tqdm<5.0.0,>=4.38.0 in /mnt/4CC63D9CC63D876C/loncos/Text-Detoxification-in-Spanish/env/lib/python3.8/site-packages (from spacy<2.4.0,>=2.3.0->es_core_news_sm==2.3.1) (4.66.5)\n",
            "Requirement already satisfied: thinc<7.5.0,>=7.4.1 in /mnt/4CC63D9CC63D876C/loncos/Text-Detoxification-in-Spanish/env/lib/python3.8/site-packages (from spacy<2.4.0,>=2.3.0->es_core_news_sm==2.3.1) (7.4.6)\n",
            "Requirement already satisfied: preshed<3.1.0,>=3.0.2 in /mnt/4CC63D9CC63D876C/loncos/Text-Detoxification-in-Spanish/env/lib/python3.8/site-packages (from spacy<2.4.0,>=2.3.0->es_core_news_sm==2.3.1) (3.0.9)\n",
            "Requirement already satisfied: wasabi<1.1.0,>=0.4.0 in /mnt/4CC63D9CC63D876C/loncos/Text-Detoxification-in-Spanish/env/lib/python3.8/site-packages (from spacy<2.4.0,>=2.3.0->es_core_news_sm==2.3.1) (0.10.1)\n",
            "Requirement already satisfied: blis<0.8.0,>=0.4.0 in /mnt/4CC63D9CC63D876C/loncos/Text-Detoxification-in-Spanish/env/lib/python3.8/site-packages (from spacy<2.4.0,>=2.3.0->es_core_news_sm==2.3.1) (0.7.11)\n",
            "Requirement already satisfied: plac<1.2.0,>=0.9.6 in /mnt/4CC63D9CC63D876C/loncos/Text-Detoxification-in-Spanish/env/lib/python3.8/site-packages (from spacy<2.4.0,>=2.3.0->es_core_news_sm==2.3.1) (1.1.3)\n",
            "Requirement already satisfied: murmurhash<1.1.0,>=0.28.0 in /mnt/4CC63D9CC63D876C/loncos/Text-Detoxification-in-Spanish/env/lib/python3.8/site-packages (from spacy<2.4.0,>=2.3.0->es_core_news_sm==2.3.1) (1.0.10)\n",
            "Requirement already satisfied: catalogue<1.1.0,>=0.0.7 in /mnt/4CC63D9CC63D876C/loncos/Text-Detoxification-in-Spanish/env/lib/python3.8/site-packages (from spacy<2.4.0,>=2.3.0->es_core_news_sm==2.3.1) (1.0.2)\n",
            "Requirement already satisfied: setuptools in /mnt/4CC63D9CC63D876C/loncos/Text-Detoxification-in-Spanish/env/lib/python3.8/site-packages (from spacy<2.4.0,>=2.3.0->es_core_news_sm==2.3.1) (56.0.0)\n",
            "Requirement already satisfied: urllib3<3,>=1.21.1 in /mnt/4CC63D9CC63D876C/loncos/Text-Detoxification-in-Spanish/env/lib/python3.8/site-packages (from requests<3.0.0,>=2.13.0->spacy<2.4.0,>=2.3.0->es_core_news_sm==2.3.1) (1.26.20)\n",
            "Requirement already satisfied: certifi>=2017.4.17 in /mnt/4CC63D9CC63D876C/loncos/Text-Detoxification-in-Spanish/env/lib/python3.8/site-packages (from requests<3.0.0,>=2.13.0->spacy<2.4.0,>=2.3.0->es_core_news_sm==2.3.1) (2024.8.30)\n",
            "Requirement already satisfied: charset-normalizer<4,>=2 in /mnt/4CC63D9CC63D876C/loncos/Text-Detoxification-in-Spanish/env/lib/python3.8/site-packages (from requests<3.0.0,>=2.13.0->spacy<2.4.0,>=2.3.0->es_core_news_sm==2.3.1) (3.3.2)\n",
            "Requirement already satisfied: idna<4,>=2.5 in /mnt/4CC63D9CC63D876C/loncos/Text-Detoxification-in-Spanish/env/lib/python3.8/site-packages (from requests<3.0.0,>=2.13.0->spacy<2.4.0,>=2.3.0->es_core_news_sm==2.3.1) (3.8)\n",
            "\u001b[33mWARNING: There was an error checking the latest version of pip.\u001b[0m\u001b[33m\n",
            "\u001b[0m\u001b[38;5;2m✔ Download and installation successful\u001b[0m\n",
            "You can now load the model via spacy.load('es_core_news_sm')\n"
          ]
        }
      ],
      "source": [
        "!python -m spacy download es_core_news_sm"
      ]
    },
    {
      "cell_type": "code",
      "execution_count": 3,
      "metadata": {},
      "outputs": [],
      "source": [
        "tqdm.pandas()  # Initialize tqdm for pandas"
      ]
    },
    {
      "cell_type": "markdown",
      "metadata": {},
      "source": [
        "# Cargando datos"
      ]
    },
    {
      "cell_type": "code",
      "execution_count": 4,
      "metadata": {},
      "outputs": [],
      "source": [
        "path_raw = './raw/'"
      ]
    },
    {
      "cell_type": "code",
      "execution_count": 5,
      "metadata": {
        "id": "0Ox6vuLGLNun"
      },
      "outputs": [],
      "source": [
        "\n",
        "ruta_archivo1 = path_raw + 'clean_comentarios_facebook.csv'\n",
        "ruta_archivo2 = path_raw + 'labeled_corpus_6K.txt'\n",
        "ruta_archivo3 = path_raw + 'sp_tweets.csv'\n",
        "ruta_archivo4 = path_raw + 'train_es.tsv'\n",
        "ruta_archivo5 = path_raw +'hascosva_2022_anonymized.tsv'"
      ]
    },
    {
      "cell_type": "code",
      "execution_count": 6,
      "metadata": {
        "id": "lkxLz3IoLhj6"
      },
      "outputs": [],
      "source": [
        "data1 = pd.read_csv(ruta_archivo1, sep=',', engine='python')\n",
        "data2 = pd.read_csv(ruta_archivo2, sep=';\\\\|\\\\|;', engine='python', names=['id','twt', 'label'])\n",
        "data3 = pd.read_csv(ruta_archivo3, sep=',', engine='python')\n",
        "data4 = pd.read_csv(ruta_archivo4, sep='\\t')\n",
        "data5 = pd.read_csv(ruta_archivo5, sep='\\t')"
      ]
    },
    {
      "cell_type": "code",
      "execution_count": 7,
      "metadata": {
        "id": "1pANckV3L7OH"
      },
      "outputs": [],
      "source": [
        "toxicData = []\n",
        "normalData = []\n",
        "\n",
        "normalData.extend(data1.loc[data1['Category'] == 0, 'Text'].tolist())\n",
        "toxicData.extend(data1.loc[data1['Category'] == 1, 'Text'].tolist())\n",
        "\n",
        "normalData.extend(data2.loc[data2['label'] == 0, 'twt'].tolist())\n",
        "toxicData.extend(data2.loc[data2['label'] == 1, 'twt'].tolist())\n",
        "\n",
        "toxicData.extend(data3['tweet'].tolist())\n",
        "\n",
        "normalData.extend(data4.loc[data4['HS'] == 0, 'text'].tolist())\n",
        "toxicData.extend(data4.loc[data4['HS'] == 1, 'text'].tolist())\n",
        "\n",
        "normalData.extend(data5.loc[data5['label'] == 0, 'text'].tolist())\n",
        "toxicData.extend(data5.loc[data5['label'] == 1, 'text'].tolist())\n"
      ]
    },
    {
      "cell_type": "code",
      "execution_count": 8,
      "metadata": {
        "id": "e_oo2FaEy1mR"
      },
      "outputs": [],
      "source": [
        "pdToxic = pd.DataFrame({'twt': toxicData, 'label': 1})\n",
        "pdNormal = pd.DataFrame({'twt': normalData, 'label': 0})"
      ]
    },
    {
      "cell_type": "code",
      "execution_count": 9,
      "metadata": {
        "id": "MnOFSszV2DtI"
      },
      "outputs": [],
      "source": [
        "df =  pd.concat([pdToxic, pdNormal], ignore_index=True)\n",
        "df[\"label\"] =  df[\"label\"].astype(bool)\n",
        "df[\"twt\"] =  df[\"twt\"].astype(str)"
      ]
    },
    {
      "cell_type": "code",
      "execution_count": 10,
      "metadata": {
        "colab": {
          "base_uri": "https://localhost:8080/"
        },
        "id": "TEZAzxX_4DvM",
        "outputId": "8fdb80e3-fdcb-41bc-81b0-709df2a2cb34"
      },
      "outputs": [
        {
          "data": {
            "text/plain": [
              "True     110678\n",
              "False     12181\n",
              "Name: label, dtype: int64"
            ]
          },
          "execution_count": 10,
          "metadata": {},
          "output_type": "execute_result"
        }
      ],
      "source": [
        "df[\"label\"].value_counts()"
      ]
    },
    {
      "cell_type": "markdown",
      "metadata": {
        "id": "yHAqGthXl1b_"
      },
      "source": [
        "# Pre procesamiento"
      ]
    },
    {
      "cell_type": "code",
      "execution_count": 11,
      "metadata": {},
      "outputs": [
        {
          "data": {
            "text/html": [
              "<div>\n",
              "<style scoped>\n",
              "    .dataframe tbody tr th:only-of-type {\n",
              "        vertical-align: middle;\n",
              "    }\n",
              "\n",
              "    .dataframe tbody tr th {\n",
              "        vertical-align: top;\n",
              "    }\n",
              "\n",
              "    .dataframe thead th {\n",
              "        text-align: right;\n",
              "    }\n",
              "</style>\n",
              "<table border=\"1\" class=\"dataframe\">\n",
              "  <thead>\n",
              "    <tr style=\"text-align: right;\">\n",
              "      <th></th>\n",
              "      <th>twt</th>\n",
              "      <th>label</th>\n",
              "    </tr>\n",
              "  </thead>\n",
              "  <tbody>\n",
              "    <tr>\n",
              "      <th>0</th>\n",
              "      <td>y pensar ganar respetar ver aborrencimiento de...</td>\n",
              "      <td>True</td>\n",
              "    </tr>\n",
              "    <tr>\n",
              "      <th>1</th>\n",
              "      <td>a a holgar ver hombre necesitar coser obvio ne...</td>\n",
              "      <td>True</td>\n",
              "    </tr>\n",
              "    <tr>\n",
              "      <th>2</th>\n",
              "      <td>drogar mocoso q empezar a hablar reportaje met...</td>\n",
              "      <td>True</td>\n",
              "    </tr>\n",
              "    <tr>\n",
              "      <th>3</th>\n",
              "      <td>mujer feminazi destruir año verdadero luchar f...</td>\n",
              "      <td>True</td>\n",
              "    </tr>\n",
              "    <tr>\n",
              "      <th>4</th>\n",
              "      <td>feminista feminoide</td>\n",
              "      <td>True</td>\n",
              "    </tr>\n",
              "  </tbody>\n",
              "</table>\n",
              "</div>"
            ],
            "text/plain": [
              "                                                 twt  label\n",
              "0  y pensar ganar respetar ver aborrencimiento de...   True\n",
              "1  a a holgar ver hombre necesitar coser obvio ne...   True\n",
              "2  drogar mocoso q empezar a hablar reportaje met...   True\n",
              "3  mujer feminazi destruir año verdadero luchar f...   True\n",
              "4                                feminista feminoide   True"
            ]
          },
          "execution_count": 11,
          "metadata": {},
          "output_type": "execute_result"
        }
      ],
      "source": [
        "df.head()"
      ]
    },
    {
      "cell_type": "markdown",
      "metadata": {
        "id": "qC06pNlf0R-M"
      },
      "source": [
        "## Limpiando texto"
      ]
    },
    {
      "cell_type": "code",
      "execution_count": 61,
      "metadata": {},
      "outputs": [],
      "source": [
        "def clean_text(text):\n",
        "    # Clean with tweet preprocessor: remove URLs, Hashtags, Mentions, Emojis, Smileys\n",
        "    text = p.clean(text) \n",
        "\n",
        "    # Convert text to lowercase, remove punctuation, characters with numbers, and newlines\n",
        "    text = text.lower()\n",
        "    text = re.sub(r'.,;*?¿', '', text)\n",
        "    text = re.sub(r'[%s]' % re.escape(string.punctuation), '', text)\n",
        "    text = re.sub(r'\\n', '', text)\n",
        "    text = re.sub(r'[0-9]+', '', text)\n",
        "    text = re.sub(r'(\\w)\\1{2,}', r'\\1\\1', text)\n",
        "\n",
        "    # Process the text with spaCy: remove stopwords and lemmatize\n",
        "    doc = nlp(text)\n",
        "    tokens = [token.lemma_ for token in doc if not token.is_stop]\n",
        "    text = \" \".join(tokens)\n",
        "\n",
        "    # Remove extra whitespaces\n",
        "    text = text.strip()\n",
        "    text = re.sub(r'\\s+', ' ', text)\n",
        "\n",
        "    # Remove words shorter than 2 letters\n",
        "    words = text.split() \n",
        "    filtered_words = [word for word in words if len(word) > 2]\n",
        "    text = ' '.join(filtered_words) \n",
        "\n",
        "    return text\n",
        "\n",
        "\n"
      ]
    },
    {
      "cell_type": "code",
      "execution_count": 62,
      "metadata": {
        "colab": {
          "base_uri": "https://localhost:8080/",
          "height": 424
        },
        "id": "YDafU5O_kmt8",
        "outputId": "1885b7da-2a05-4fe6-c5c9-c18246882938"
      },
      "outputs": [
        {
          "name": "stderr",
          "output_type": "stream",
          "text": [
            "100%|██████████| 122859/122859 [13:08<00:00, 155.76it/s]\n"
          ]
        },
        {
          "data": {
            "text/html": [
              "<div>\n",
              "<style scoped>\n",
              "    .dataframe tbody tr th:only-of-type {\n",
              "        vertical-align: middle;\n",
              "    }\n",
              "\n",
              "    .dataframe tbody tr th {\n",
              "        vertical-align: top;\n",
              "    }\n",
              "\n",
              "    .dataframe thead th {\n",
              "        text-align: right;\n",
              "    }\n",
              "</style>\n",
              "<table border=\"1\" class=\"dataframe\">\n",
              "  <thead>\n",
              "    <tr style=\"text-align: right;\">\n",
              "      <th></th>\n",
              "      <th>twt</th>\n",
              "      <th>label</th>\n",
              "      <th>twt_cleaned</th>\n",
              "      <th>twt_corr</th>\n",
              "    </tr>\n",
              "  </thead>\n",
              "  <tbody>\n",
              "    <tr>\n",
              "      <th>0</th>\n",
              "      <td>y pensar ganar respetar ver aborrencimiento de...</td>\n",
              "      <td>True</td>\n",
              "      <td>pensar ganar respetar aborrencimiento demasiar...</td>\n",
              "      <td>Y pensar ganar respetar aborrecimiento demasia...</td>\n",
              "    </tr>\n",
              "    <tr>\n",
              "      <th>1</th>\n",
              "      <td>a a holgar ver hombre necesitar coser obvio ne...</td>\n",
              "      <td>True</td>\n",
              "      <td>holgar hombre necesitar coser obviar necesitar...</td>\n",
              "      <td>a holgar hombre necesitar coser obviar necesit...</td>\n",
              "    </tr>\n",
              "    <tr>\n",
              "      <th>2</th>\n",
              "      <td>drogar mocoso q empezar a hablar reportaje met...</td>\n",
              "      <td>True</td>\n",
              "      <td>drogar mocoso empezar hablar reportaje meter p...</td>\n",
              "      <td>Drogar mocoso que empezar a hablar reportaje m...</td>\n",
              "    </tr>\n",
              "    <tr>\n",
              "      <th>3</th>\n",
              "      <td>mujer feminazi destruir año verdadero luchar f...</td>\n",
              "      <td>True</td>\n",
              "      <td>mujer feminazi destruir luchar feminista</td>\n",
              "      <td>Mujer féminas destruir a luchar feminista</td>\n",
              "    </tr>\n",
              "    <tr>\n",
              "      <th>4</th>\n",
              "      <td>feminista feminoide</td>\n",
              "      <td>True</td>\n",
              "      <td>feminista feminoide</td>\n",
              "      <td>Feminista feminoide</td>\n",
              "    </tr>\n",
              "    <tr>\n",
              "      <th>...</th>\n",
              "      <td>...</td>\n",
              "      <td>...</td>\n",
              "      <td>...</td>\n",
              "      <td>...</td>\n",
              "    </tr>\n",
              "    <tr>\n",
              "      <th>122854</th>\n",
              "      <td>Un debate interesante ¿las mujeres occidentale...</td>\n",
              "      <td>False</td>\n",
              "      <td>debatir interesante mujer occidental decidir l...</td>\n",
              "      <td>Debatir interesante mujer occidental decidir l...</td>\n",
              "    </tr>\n",
              "    <tr>\n",
              "      <th>122855</th>\n",
              "      <td>@ofya @ogsn De todo esto y leyendo las respues...</td>\n",
              "      <td>False</td>\n",
              "      <td>leer respuesta quen madurez mensaje correcto p...</td>\n",
              "      <td>Y leer respuesta que madurez y mensaje correct...</td>\n",
              "    </tr>\n",
              "    <tr>\n",
              "      <th>122856</th>\n",
              "      <td>@oxqh @oajv la reina respeta la religión musul...</td>\n",
              "      <td>False</td>\n",
              "      <td>reinar respetar religin musulmán marrueco resp...</td>\n",
              "      <td>Reinar respetar religión musulmán marrueco y r...</td>\n",
              "    </tr>\n",
              "    <tr>\n",
              "      <th>122857</th>\n",
              "      <td>\"Las decisiones económicas son exclusivas del ...</td>\n",
              "      <td>False</td>\n",
              "      <td>decisión econmicas exclusivo organización prof...</td>\n",
              "      <td>Decisión económicas exclusivo y organización p...</td>\n",
              "    </tr>\n",
              "    <tr>\n",
              "      <th>122858</th>\n",
              "      <td>@ofrt y pq te consideras de gibraltar?</td>\n",
              "      <td>False</td>\n",
              "      <td>considerar gibraltar</td>\n",
              "      <td>Y pH considerar Gibraltar</td>\n",
              "    </tr>\n",
              "  </tbody>\n",
              "</table>\n",
              "<p>122859 rows × 4 columns</p>\n",
              "</div>"
            ],
            "text/plain": [
              "                                                      twt  label  \\\n",
              "0       y pensar ganar respetar ver aborrencimiento de...   True   \n",
              "1       a a holgar ver hombre necesitar coser obvio ne...   True   \n",
              "2       drogar mocoso q empezar a hablar reportaje met...   True   \n",
              "3       mujer feminazi destruir año verdadero luchar f...   True   \n",
              "4                                     feminista feminoide   True   \n",
              "...                                                   ...    ...   \n",
              "122854  Un debate interesante ¿las mujeres occidentale...  False   \n",
              "122855  @ofya @ogsn De todo esto y leyendo las respues...  False   \n",
              "122856  @oxqh @oajv la reina respeta la religión musul...  False   \n",
              "122857  \"Las decisiones económicas son exclusivas del ...  False   \n",
              "122858             @ofrt y pq te consideras de gibraltar?  False   \n",
              "\n",
              "                                              twt_cleaned  \\\n",
              "0       pensar ganar respetar aborrencimiento demasiar...   \n",
              "1       holgar hombre necesitar coser obviar necesitar...   \n",
              "2       drogar mocoso empezar hablar reportaje meter p...   \n",
              "3                mujer feminazi destruir luchar feminista   \n",
              "4                                     feminista feminoide   \n",
              "...                                                   ...   \n",
              "122854  debatir interesante mujer occidental decidir l...   \n",
              "122855  leer respuesta quen madurez mensaje correcto p...   \n",
              "122856  reinar respetar religin musulmán marrueco resp...   \n",
              "122857  decisión econmicas exclusivo organización prof...   \n",
              "122858                               considerar gibraltar   \n",
              "\n",
              "                                                 twt_corr  \n",
              "0       Y pensar ganar respetar aborrecimiento demasia...  \n",
              "1       a holgar hombre necesitar coser obviar necesit...  \n",
              "2       Drogar mocoso que empezar a hablar reportaje m...  \n",
              "3               Mujer féminas destruir a luchar feminista  \n",
              "4                                     Feminista feminoide  \n",
              "...                                                   ...  \n",
              "122854  Debatir interesante mujer occidental decidir l...  \n",
              "122855  Y leer respuesta que madurez y mensaje correct...  \n",
              "122856  Reinar respetar religión musulmán marrueco y r...  \n",
              "122857  Decisión económicas exclusivo y organización p...  \n",
              "122858                          Y pH considerar Gibraltar  \n",
              "\n",
              "[122859 rows x 4 columns]"
            ]
          },
          "execution_count": 62,
          "metadata": {},
          "output_type": "execute_result"
        }
      ],
      "source": [
        "df['twt_cleaned'] = df['twt'].progress_apply(clean_text)\n",
        "df"
      ]
    },
    {
      "cell_type": "code",
      "execution_count": 63,
      "metadata": {},
      "outputs": [
        {
          "data": {
            "text/html": [
              "<div>\n",
              "<style scoped>\n",
              "    .dataframe tbody tr th:only-of-type {\n",
              "        vertical-align: middle;\n",
              "    }\n",
              "\n",
              "    .dataframe tbody tr th {\n",
              "        vertical-align: top;\n",
              "    }\n",
              "\n",
              "    .dataframe thead th {\n",
              "        text-align: right;\n",
              "    }\n",
              "</style>\n",
              "<table border=\"1\" class=\"dataframe\">\n",
              "  <thead>\n",
              "    <tr style=\"text-align: right;\">\n",
              "      <th></th>\n",
              "      <th>index</th>\n",
              "      <th>twt</th>\n",
              "      <th>label</th>\n",
              "      <th>twt_cleaned</th>\n",
              "      <th>twt_corr</th>\n",
              "    </tr>\n",
              "  </thead>\n",
              "  <tbody>\n",
              "    <tr>\n",
              "      <th>0</th>\n",
              "      <td>0</td>\n",
              "      <td>y pensar ganar respetar ver aborrencimiento de...</td>\n",
              "      <td>True</td>\n",
              "      <td>pensar ganar respetar aborrencimiento demasiar...</td>\n",
              "      <td>Y pensar ganar respetar aborrecimiento demasia...</td>\n",
              "    </tr>\n",
              "    <tr>\n",
              "      <th>1</th>\n",
              "      <td>1</td>\n",
              "      <td>a a holgar ver hombre necesitar coser obvio ne...</td>\n",
              "      <td>True</td>\n",
              "      <td>holgar hombre necesitar coser obviar necesitar...</td>\n",
              "      <td>a holgar hombre necesitar coser obviar necesit...</td>\n",
              "    </tr>\n",
              "    <tr>\n",
              "      <th>2</th>\n",
              "      <td>2</td>\n",
              "      <td>drogar mocoso q empezar a hablar reportaje met...</td>\n",
              "      <td>True</td>\n",
              "      <td>drogar mocoso empezar hablar reportaje meter p...</td>\n",
              "      <td>Drogar mocoso que empezar a hablar reportaje m...</td>\n",
              "    </tr>\n",
              "    <tr>\n",
              "      <th>3</th>\n",
              "      <td>3</td>\n",
              "      <td>mujer feminazi destruir año verdadero luchar f...</td>\n",
              "      <td>True</td>\n",
              "      <td>mujer feminazi destruir luchar feminista</td>\n",
              "      <td>Mujer féminas destruir a luchar feminista</td>\n",
              "    </tr>\n",
              "    <tr>\n",
              "      <th>4</th>\n",
              "      <td>4</td>\n",
              "      <td>feminista feminoide</td>\n",
              "      <td>True</td>\n",
              "      <td>feminista feminoide</td>\n",
              "      <td>Feminista feminoide</td>\n",
              "    </tr>\n",
              "    <tr>\n",
              "      <th>...</th>\n",
              "      <td>...</td>\n",
              "      <td>...</td>\n",
              "      <td>...</td>\n",
              "      <td>...</td>\n",
              "      <td>...</td>\n",
              "    </tr>\n",
              "    <tr>\n",
              "      <th>121533</th>\n",
              "      <td>122854</td>\n",
              "      <td>Un debate interesante ¿las mujeres occidentale...</td>\n",
              "      <td>False</td>\n",
              "      <td>debatir interesante mujer occidental decidir l...</td>\n",
              "      <td>Debatir interesante mujer occidental decidir l...</td>\n",
              "    </tr>\n",
              "    <tr>\n",
              "      <th>121534</th>\n",
              "      <td>122855</td>\n",
              "      <td>@ofya @ogsn De todo esto y leyendo las respues...</td>\n",
              "      <td>False</td>\n",
              "      <td>leer respuesta quen madurez mensaje correcto p...</td>\n",
              "      <td>Y leer respuesta que madurez y mensaje correct...</td>\n",
              "    </tr>\n",
              "    <tr>\n",
              "      <th>121535</th>\n",
              "      <td>122856</td>\n",
              "      <td>@oxqh @oajv la reina respeta la religión musul...</td>\n",
              "      <td>False</td>\n",
              "      <td>reinar respetar religin musulmán marrueco resp...</td>\n",
              "      <td>Reinar respetar religión musulmán marrueco y r...</td>\n",
              "    </tr>\n",
              "    <tr>\n",
              "      <th>121536</th>\n",
              "      <td>122857</td>\n",
              "      <td>\"Las decisiones económicas son exclusivas del ...</td>\n",
              "      <td>False</td>\n",
              "      <td>decisión econmicas exclusivo organización prof...</td>\n",
              "      <td>Decisión económicas exclusivo y organización p...</td>\n",
              "    </tr>\n",
              "    <tr>\n",
              "      <th>121537</th>\n",
              "      <td>122858</td>\n",
              "      <td>@ofrt y pq te consideras de gibraltar?</td>\n",
              "      <td>False</td>\n",
              "      <td>considerar gibraltar</td>\n",
              "      <td>Y pH considerar Gibraltar</td>\n",
              "    </tr>\n",
              "  </tbody>\n",
              "</table>\n",
              "<p>121538 rows × 5 columns</p>\n",
              "</div>"
            ],
            "text/plain": [
              "         index                                                twt  label  \\\n",
              "0            0  y pensar ganar respetar ver aborrencimiento de...   True   \n",
              "1            1  a a holgar ver hombre necesitar coser obvio ne...   True   \n",
              "2            2  drogar mocoso q empezar a hablar reportaje met...   True   \n",
              "3            3  mujer feminazi destruir año verdadero luchar f...   True   \n",
              "4            4                                feminista feminoide   True   \n",
              "...        ...                                                ...    ...   \n",
              "121533  122854  Un debate interesante ¿las mujeres occidentale...  False   \n",
              "121534  122855  @ofya @ogsn De todo esto y leyendo las respues...  False   \n",
              "121535  122856  @oxqh @oajv la reina respeta la religión musul...  False   \n",
              "121536  122857  \"Las decisiones económicas son exclusivas del ...  False   \n",
              "121537  122858             @ofrt y pq te consideras de gibraltar?  False   \n",
              "\n",
              "                                              twt_cleaned  \\\n",
              "0       pensar ganar respetar aborrencimiento demasiar...   \n",
              "1       holgar hombre necesitar coser obviar necesitar...   \n",
              "2       drogar mocoso empezar hablar reportaje meter p...   \n",
              "3                mujer feminazi destruir luchar feminista   \n",
              "4                                     feminista feminoide   \n",
              "...                                                   ...   \n",
              "121533  debatir interesante mujer occidental decidir l...   \n",
              "121534  leer respuesta quen madurez mensaje correcto p...   \n",
              "121535  reinar respetar religin musulmán marrueco resp...   \n",
              "121536  decisión econmicas exclusivo organización prof...   \n",
              "121537                               considerar gibraltar   \n",
              "\n",
              "                                                 twt_corr  \n",
              "0       Y pensar ganar respetar aborrecimiento demasia...  \n",
              "1       a holgar hombre necesitar coser obviar necesit...  \n",
              "2       Drogar mocoso que empezar a hablar reportaje m...  \n",
              "3               Mujer féminas destruir a luchar feminista  \n",
              "4                                     Feminista feminoide  \n",
              "...                                                   ...  \n",
              "121533  Debatir interesante mujer occidental decidir l...  \n",
              "121534  Y leer respuesta que madurez y mensaje correct...  \n",
              "121535  Reinar respetar religión musulmán marrueco y r...  \n",
              "121536  Decisión económicas exclusivo y organización p...  \n",
              "121537                          Y pH considerar Gibraltar  \n",
              "\n",
              "[121538 rows x 5 columns]"
            ]
          },
          "execution_count": 63,
          "metadata": {},
          "output_type": "execute_result"
        }
      ],
      "source": [
        "import numpy as np\n",
        "df.replace('', np.nan, inplace=True)\n",
        "df = df.dropna()\n",
        "df.reset_index(inplace=True)\n",
        "df"
      ]
    },
    {
      "cell_type": "code",
      "execution_count": 64,
      "metadata": {
        "id": "GeL2s4kxF_1W"
      },
      "outputs": [],
      "source": [
        "with open('./processed/normalCorpusWSpellErr.txt', 'w') as normal, open('./processed/toxicCorpusWSpellErr.txt', 'w') as toxic:\n",
        "    for twt in df[df['label']==0].twt_cleaned:\n",
        "        normal.writelines(f'{twt}\\n')\n",
        "    for twt in df[df['label']==1].twt_cleaned:\n",
        "        toxic.writelines(f'{twt}\\n')"
      ]
    },
    {
      "cell_type": "markdown",
      "metadata": {
        "id": "ozjCHgL_3EaO"
      },
      "source": [
        "# Corrigiendo palabras"
      ]
    },
    {
      "cell_type": "code",
      "execution_count": 25,
      "metadata": {
        "id": "fFs452A_Vjkl"
      },
      "outputs": [
        {
          "name": "stderr",
          "output_type": "stream",
          "text": [
            "Downloading LanguageTool 6.4: 100%|██████████| 246M/246M [00:09<00:00, 25.8MB/s] \n",
            "Unzipping /tmp/tmpc8dutqwj.zip to /home/gabriel/.cache/language_tool_python.\n",
            "Downloaded https://www.languagetool.org/download/LanguageTool-6.4.zip to /home/gabriel/.cache/language_tool_python.\n"
          ]
        }
      ],
      "source": [
        "import language_tool_python\n",
        "tool = language_tool_python.LanguageTool('es')"
      ]
    },
    {
      "cell_type": "code",
      "execution_count": 30,
      "metadata": {
        "id": "g3H2hTeQGboh"
      },
      "outputs": [],
      "source": [
        "def correct_text(text):\n",
        "    return tool.correct(text)"
      ]
    },
    {
      "cell_type": "code",
      "execution_count": 31,
      "metadata": {},
      "outputs": [
        {
          "name": "stderr",
          "output_type": "stream",
          "text": [
            "100%|██████████| 122859/122859 [54:10<00:00, 37.80it/s] \n"
          ]
        },
        {
          "data": {
            "text/html": [
              "<div>\n",
              "<style scoped>\n",
              "    .dataframe tbody tr th:only-of-type {\n",
              "        vertical-align: middle;\n",
              "    }\n",
              "\n",
              "    .dataframe tbody tr th {\n",
              "        vertical-align: top;\n",
              "    }\n",
              "\n",
              "    .dataframe thead th {\n",
              "        text-align: right;\n",
              "    }\n",
              "</style>\n",
              "<table border=\"1\" class=\"dataframe\">\n",
              "  <thead>\n",
              "    <tr style=\"text-align: right;\">\n",
              "      <th></th>\n",
              "      <th>twt</th>\n",
              "      <th>label</th>\n",
              "      <th>twt_cleaned</th>\n",
              "      <th>twt_corr</th>\n",
              "    </tr>\n",
              "  </thead>\n",
              "  <tbody>\n",
              "    <tr>\n",
              "      <th>0</th>\n",
              "      <td>y pensar ganar respetar ver aborrencimiento de...</td>\n",
              "      <td>True</td>\n",
              "      <td>y pensar ganar respetar aborrencimiento demasi...</td>\n",
              "      <td>Y pensar ganar respetar aborrecimiento demasia...</td>\n",
              "    </tr>\n",
              "    <tr>\n",
              "      <th>1</th>\n",
              "      <td>a a holgar ver hombre necesitar coser obvio ne...</td>\n",
              "      <td>True</td>\n",
              "      <td>a a holgar hombre necesitar coser obviar neces...</td>\n",
              "      <td>a holgar hombre necesitar coser obviar necesit...</td>\n",
              "    </tr>\n",
              "    <tr>\n",
              "      <th>2</th>\n",
              "      <td>drogar mocoso q empezar a hablar reportaje met...</td>\n",
              "      <td>True</td>\n",
              "      <td>drogar mocoso q empezar a hablar reportaje met...</td>\n",
              "      <td>Drogar mocoso que empezar a hablar reportaje m...</td>\n",
              "    </tr>\n",
              "    <tr>\n",
              "      <th>3</th>\n",
              "      <td>mujer feminazi destruir año verdadero luchar f...</td>\n",
              "      <td>True</td>\n",
              "      <td>mujer feminazi destruir ao luchar feminista</td>\n",
              "      <td>Mujer féminas destruir a luchar feminista</td>\n",
              "    </tr>\n",
              "    <tr>\n",
              "      <th>4</th>\n",
              "      <td>feminista feminoide</td>\n",
              "      <td>True</td>\n",
              "      <td>feminista feminoide</td>\n",
              "      <td>Feminista feminoide</td>\n",
              "    </tr>\n",
              "    <tr>\n",
              "      <th>...</th>\n",
              "      <td>...</td>\n",
              "      <td>...</td>\n",
              "      <td>...</td>\n",
              "      <td>...</td>\n",
              "    </tr>\n",
              "    <tr>\n",
              "      <th>122854</th>\n",
              "      <td>Un debate interesante ¿las mujeres occidentale...</td>\n",
              "      <td>False</td>\n",
              "      <td>debatir interesante mujer occidental decidir l...</td>\n",
              "      <td>Debatir interesante mujer occidental decidir l...</td>\n",
              "    </tr>\n",
              "    <tr>\n",
              "      <th>122855</th>\n",
              "      <td>@ofya @ogsn De todo esto y leyendo las respues...</td>\n",
              "      <td>False</td>\n",
              "      <td>y leer respuesta quen madurez y mensaje correc...</td>\n",
              "      <td>Y leer respuesta que madurez y mensaje correct...</td>\n",
              "    </tr>\n",
              "    <tr>\n",
              "      <th>122856</th>\n",
              "      <td>@oxqh @oajv la reina respeta la religión musul...</td>\n",
              "      <td>False</td>\n",
              "      <td>reinar respetar religin musulmán marrueco y re...</td>\n",
              "      <td>Reinar respetar religión musulmán marrueco y r...</td>\n",
              "    </tr>\n",
              "    <tr>\n",
              "      <th>122857</th>\n",
              "      <td>\"Las decisiones económicas son exclusivas del ...</td>\n",
              "      <td>False</td>\n",
              "      <td>decisión econmicas exclusivo y organización pr...</td>\n",
              "      <td>Decisión económicas exclusivo y organización p...</td>\n",
              "    </tr>\n",
              "    <tr>\n",
              "      <th>122858</th>\n",
              "      <td>@ofrt y pq te consideras de gibraltar?</td>\n",
              "      <td>False</td>\n",
              "      <td>y pq considerar gibraltar</td>\n",
              "      <td>Y pH considerar Gibraltar</td>\n",
              "    </tr>\n",
              "  </tbody>\n",
              "</table>\n",
              "<p>122859 rows × 4 columns</p>\n",
              "</div>"
            ],
            "text/plain": [
              "                                                      twt  label  \\\n",
              "0       y pensar ganar respetar ver aborrencimiento de...   True   \n",
              "1       a a holgar ver hombre necesitar coser obvio ne...   True   \n",
              "2       drogar mocoso q empezar a hablar reportaje met...   True   \n",
              "3       mujer feminazi destruir año verdadero luchar f...   True   \n",
              "4                                     feminista feminoide   True   \n",
              "...                                                   ...    ...   \n",
              "122854  Un debate interesante ¿las mujeres occidentale...  False   \n",
              "122855  @ofya @ogsn De todo esto y leyendo las respues...  False   \n",
              "122856  @oxqh @oajv la reina respeta la religión musul...  False   \n",
              "122857  \"Las decisiones económicas son exclusivas del ...  False   \n",
              "122858             @ofrt y pq te consideras de gibraltar?  False   \n",
              "\n",
              "                                              twt_cleaned  \\\n",
              "0       y pensar ganar respetar aborrencimiento demasi...   \n",
              "1       a a holgar hombre necesitar coser obviar neces...   \n",
              "2       drogar mocoso q empezar a hablar reportaje met...   \n",
              "3             mujer feminazi destruir ao luchar feminista   \n",
              "4                                     feminista feminoide   \n",
              "...                                                   ...   \n",
              "122854  debatir interesante mujer occidental decidir l...   \n",
              "122855  y leer respuesta quen madurez y mensaje correc...   \n",
              "122856  reinar respetar religin musulmán marrueco y re...   \n",
              "122857  decisión econmicas exclusivo y organización pr...   \n",
              "122858                          y pq considerar gibraltar   \n",
              "\n",
              "                                                 twt_corr  \n",
              "0       Y pensar ganar respetar aborrecimiento demasia...  \n",
              "1       a holgar hombre necesitar coser obviar necesit...  \n",
              "2       Drogar mocoso que empezar a hablar reportaje m...  \n",
              "3               Mujer féminas destruir a luchar feminista  \n",
              "4                                     Feminista feminoide  \n",
              "...                                                   ...  \n",
              "122854  Debatir interesante mujer occidental decidir l...  \n",
              "122855  Y leer respuesta que madurez y mensaje correct...  \n",
              "122856  Reinar respetar religión musulmán marrueco y r...  \n",
              "122857  Decisión económicas exclusivo y organización p...  \n",
              "122858                          Y pH considerar Gibraltar  \n",
              "\n",
              "[122859 rows x 4 columns]"
            ]
          },
          "execution_count": 31,
          "metadata": {},
          "output_type": "execute_result"
        }
      ],
      "source": [
        "df['twt_corr'] = df['twt_cleaned'].progress_apply(correct_text)\n",
        "df"
      ]
    },
    {
      "cell_type": "code",
      "execution_count": 40,
      "metadata": {},
      "outputs": [],
      "source": [
        "with open('./processed/normalCorpusSpellErr.txt', 'w') as normal, open('./processed/toxicCorpusSpellErr.txt', 'w') as toxic:\n",
        "    for twt in df_clean[df_clean['label']==0].twt_corr:\n",
        "        normal.writelines(f'{twt}\\n')\n",
        "    for twt in df_clean[df_clean['label']==1].twt_corr:\n",
        "        toxic.writelines(f'{twt}\\n')"
      ]
    },
    {
      "cell_type": "code",
      "execution_count": null,
      "metadata": {},
      "outputs": [],
      "source": []
    }
  ],
  "metadata": {
    "colab": {
      "collapsed_sections": [
        "_OSU4GCUrzSz",
        "U0eBCnOWTswe",
        "Trj1RgXQ_Ovu",
        "nOFI2_t3lkUR",
        "yHAqGthXl1b_",
        "ozjCHgL_3EaO",
        "7gni6msc9eY6"
      ],
      "provenance": []
    },
    "kernelspec": {
      "display_name": "env",
      "language": "python",
      "name": "python3"
    },
    "language_info": {
      "codemirror_mode": {
        "name": "ipython",
        "version": 3
      },
      "file_extension": ".py",
      "mimetype": "text/x-python",
      "name": "python",
      "nbconvert_exporter": "python",
      "pygments_lexer": "ipython3",
      "version": "3.8.19"
    }
  },
  "nbformat": 4,
  "nbformat_minor": 0
}
