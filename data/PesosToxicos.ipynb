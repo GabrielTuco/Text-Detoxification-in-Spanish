{
  "cells": [
    {
      "cell_type": "markdown",
      "metadata": {
        "id": "U0eBCnOWTswe"
      },
      "source": [
        "## Comentarios trump"
      ]
    },
    {
      "cell_type": "code",
      "execution_count": 1,
      "metadata": {},
      "outputs": [
        {
          "name": "stdout",
          "output_type": "stream",
          "text": [
            "Requirement already satisfied: langdetect in /mnt/4CC63D9CC63D876C/loncos/Text-Detoxification-in-Spanish/env/lib/python3.8/site-packages (1.0.9)\n",
            "Requirement already satisfied: six in /mnt/4CC63D9CC63D876C/loncos/Text-Detoxification-in-Spanish/env/lib/python3.8/site-packages (from langdetect) (1.16.0)\n",
            "\u001b[33mWARNING: There was an error checking the latest version of pip.\u001b[0m\u001b[33m\n",
            "\u001b[0m"
          ]
        }
      ],
      "source": [
        "!pip install langdetect"
      ]
    },
    {
      "cell_type": "code",
      "execution_count": 2,
      "metadata": {},
      "outputs": [],
      "source": [
        "import pandas as pd"
      ]
    },
    {
      "cell_type": "code",
      "execution_count": 3,
      "metadata": {
        "id": "YZh7PQgZUcGQ"
      },
      "outputs": [],
      "source": [
        "dataTrump = pd.read_csv('./raw/hashtag_donaldtrump.csv', sep=',', engine='python')\n",
        "dataTrump = dataTrump[['tweet','country']]"
      ]
    },
    {
      "cell_type": "code",
      "execution_count": 4,
      "metadata": {
        "colab": {
          "base_uri": "https://localhost:8080/",
          "height": 560
        },
        "id": "GAwAyTMMUqmq",
        "outputId": "a8a6a34d-55f2-427b-bde4-c05d3f5ab372"
      },
      "outputs": [
        {
          "data": {
            "text/html": [
              "<div>\n",
              "<style scoped>\n",
              "    .dataframe tbody tr th:only-of-type {\n",
              "        vertical-align: middle;\n",
              "    }\n",
              "\n",
              "    .dataframe tbody tr th {\n",
              "        vertical-align: top;\n",
              "    }\n",
              "\n",
              "    .dataframe thead th {\n",
              "        text-align: right;\n",
              "    }\n",
              "</style>\n",
              "<table border=\"1\" class=\"dataframe\">\n",
              "  <thead>\n",
              "    <tr style=\"text-align: right;\">\n",
              "      <th></th>\n",
              "      <th>tweet</th>\n",
              "      <th>country</th>\n",
              "    </tr>\n",
              "  </thead>\n",
              "  <tbody>\n",
              "    <tr>\n",
              "      <th>0</th>\n",
              "      <td>#Elecciones2020 | En #Florida: #JoeBiden dice ...</td>\n",
              "      <td>United States of America</td>\n",
              "    </tr>\n",
              "    <tr>\n",
              "      <th>1</th>\n",
              "      <td>Usa 2020, Trump contro Facebook e Twitter: cop...</td>\n",
              "      <td>NaN</td>\n",
              "    </tr>\n",
              "    <tr>\n",
              "      <th>2</th>\n",
              "      <td>#Trump: As a student I used to hear for years,...</td>\n",
              "      <td>United States of America</td>\n",
              "    </tr>\n",
              "    <tr>\n",
              "      <th>3</th>\n",
              "      <td>2 hours since last tweet from #Trump! Maybe he...</td>\n",
              "      <td>NaN</td>\n",
              "    </tr>\n",
              "    <tr>\n",
              "      <th>4</th>\n",
              "      <td>You get a tie! And you get a tie! #Trump ‘s ra...</td>\n",
              "      <td>United States of America</td>\n",
              "    </tr>\n",
              "  </tbody>\n",
              "</table>\n",
              "</div>"
            ],
            "text/plain": [
              "                                               tweet                   country\n",
              "0  #Elecciones2020 | En #Florida: #JoeBiden dice ...  United States of America\n",
              "1  Usa 2020, Trump contro Facebook e Twitter: cop...                       NaN\n",
              "2  #Trump: As a student I used to hear for years,...  United States of America\n",
              "3  2 hours since last tweet from #Trump! Maybe he...                       NaN\n",
              "4  You get a tie! And you get a tie! #Trump ‘s ra...  United States of America"
            ]
          },
          "execution_count": 4,
          "metadata": {},
          "output_type": "execute_result"
        }
      ],
      "source": [
        "dataTrump.head()"
      ]
    },
    {
      "cell_type": "code",
      "execution_count": 5,
      "metadata": {
        "colab": {
          "base_uri": "https://localhost:8080/"
        },
        "id": "Ej0pkgl3Usew",
        "outputId": "db2c8239-3889-4d02-e240-317a65ee5e22"
      },
      "outputs": [
        {
          "data": {
            "text/plain": [
              "(971087, 2)"
            ]
          },
          "execution_count": 5,
          "metadata": {},
          "output_type": "execute_result"
        }
      ],
      "source": [
        "dataTrump.shape\n"
      ]
    },
    {
      "cell_type": "code",
      "execution_count": 6,
      "metadata": {},
      "outputs": [],
      "source": [
        "dataTrumpfilter = dataTrump[dataTrump['country'].isin([\n",
        "    'Peru', 'Colombia', 'Ecuador', 'Venezuela', 'Mexico', 'Argentina', \n",
        "    'Bolivia', 'Chile', 'Costa Rica', 'Cuba', 'Dominican Republic', \n",
        "    'El Salvador', 'Guatemala', 'Honduras', 'Nicaragua', 'Panama', \n",
        "    'Paraguay', 'Spain', 'Uruguay'\n",
        "])]"
      ]
    },
    {
      "cell_type": "code",
      "execution_count": 9,
      "metadata": {},
      "outputs": [
        {
          "data": {
            "text/html": [
              "<div>\n",
              "<style scoped>\n",
              "    .dataframe tbody tr th:only-of-type {\n",
              "        vertical-align: middle;\n",
              "    }\n",
              "\n",
              "    .dataframe tbody tr th {\n",
              "        vertical-align: top;\n",
              "    }\n",
              "\n",
              "    .dataframe thead th {\n",
              "        text-align: right;\n",
              "    }\n",
              "</style>\n",
              "<table border=\"1\" class=\"dataframe\">\n",
              "  <thead>\n",
              "    <tr style=\"text-align: right;\">\n",
              "      <th></th>\n",
              "      <th>index</th>\n",
              "      <th>tweet</th>\n",
              "      <th>country</th>\n",
              "    </tr>\n",
              "  </thead>\n",
              "  <tbody>\n",
              "    <tr>\n",
              "      <th>0</th>\n",
              "      <td>30</td>\n",
              "      <td>#Trump \\n\\nLe Pdt @realDonaldTrump: \\n\"Nous ne...</td>\n",
              "      <td>Costa Rica</td>\n",
              "    </tr>\n",
              "    <tr>\n",
              "      <th>1</th>\n",
              "      <td>138</td>\n",
              "      <td>Las campañas de #Biden en la comunidad latina ...</td>\n",
              "      <td>Mexico</td>\n",
              "    </tr>\n",
              "    <tr>\n",
              "      <th>2</th>\n",
              "      <td>165</td>\n",
              "      <td>#Trump \\n\\nLe Pdt @realDonaldTrump:\\n\" Nous ve...</td>\n",
              "      <td>Costa Rica</td>\n",
              "    </tr>\n",
              "    <tr>\n",
              "      <th>3</th>\n",
              "      <td>195</td>\n",
              "      <td>#DonaldTrump afirma que se siente como “Superm...</td>\n",
              "      <td>Peru</td>\n",
              "    </tr>\n",
              "    <tr>\n",
              "      <th>4</th>\n",
              "      <td>226</td>\n",
              "      <td>SALUD con TALA 114 ❤ COVID 19 Una Sindemia // ...</td>\n",
              "      <td>Argentina</td>\n",
              "    </tr>\n",
              "  </tbody>\n",
              "</table>\n",
              "</div>"
            ],
            "text/plain": [
              "   index                                              tweet     country\n",
              "0     30  #Trump \\n\\nLe Pdt @realDonaldTrump: \\n\"Nous ne...  Costa Rica\n",
              "1    138  Las campañas de #Biden en la comunidad latina ...      Mexico\n",
              "2    165  #Trump \\n\\nLe Pdt @realDonaldTrump:\\n\" Nous ve...  Costa Rica\n",
              "3    195  #DonaldTrump afirma que se siente como “Superm...        Peru\n",
              "4    226  SALUD con TALA 114 ❤ COVID 19 Una Sindemia // ...   Argentina"
            ]
          },
          "execution_count": 9,
          "metadata": {},
          "output_type": "execute_result"
        }
      ],
      "source": [
        "dataTrumpfilter.reset_index(inplace=True)\n",
        "dataTrumpfilter.head()"
      ]
    },
    {
      "cell_type": "code",
      "execution_count": 10,
      "metadata": {
        "id": "BNgQEG2pdz_G"
      },
      "outputs": [],
      "source": [
        "from langdetect import detect\n",
        "def detectar_idioma(texto):\n",
        "    try:\n",
        "        return detect(texto)\n",
        "    except:\n",
        "        return None"
      ]
    },
    {
      "cell_type": "code",
      "execution_count": 11,
      "metadata": {
        "colab": {
          "base_uri": "https://localhost:8080/",
          "height": 217
        },
        "id": "h_NSM5rDo0-9",
        "outputId": "ea2e3bf7-b72f-4d48-b6b8-f2d93e6a75e9"
      },
      "outputs": [
        {
          "name": "stderr",
          "output_type": "stream",
          "text": [
            "/tmp/ipykernel_13500/1294495936.py:1: SettingWithCopyWarning: \n",
            "A value is trying to be set on a copy of a slice from a DataFrame.\n",
            "Try using .loc[row_indexer,col_indexer] = value instead\n",
            "\n",
            "See the caveats in the documentation: https://pandas.pydata.org/pandas-docs/stable/user_guide/indexing.html#returning-a-view-versus-a-copy\n",
            "  dataTrumpfilter['idioma'] = dataTrumpfilter['tweet'].apply(detectar_idioma)\n"
          ]
        }
      ],
      "source": [
        "dataTrumpfilter['idioma'] = dataTrumpfilter['tweet'].apply(detectar_idioma)"
      ]
    },
    {
      "cell_type": "code",
      "execution_count": 12,
      "metadata": {
        "colab": {
          "base_uri": "https://localhost:8080/"
        },
        "id": "vDiVTTWCpORt",
        "outputId": "f935aca5-86ed-496d-8798-2a7abbb0ebe0"
      },
      "outputs": [
        {
          "data": {
            "text/html": [
              "<div>\n",
              "<style scoped>\n",
              "    .dataframe tbody tr th:only-of-type {\n",
              "        vertical-align: middle;\n",
              "    }\n",
              "\n",
              "    .dataframe tbody tr th {\n",
              "        vertical-align: top;\n",
              "    }\n",
              "\n",
              "    .dataframe thead th {\n",
              "        text-align: right;\n",
              "    }\n",
              "</style>\n",
              "<table border=\"1\" class=\"dataframe\">\n",
              "  <thead>\n",
              "    <tr style=\"text-align: right;\">\n",
              "      <th></th>\n",
              "      <th>index</th>\n",
              "      <th>tweet</th>\n",
              "      <th>country</th>\n",
              "      <th>idioma</th>\n",
              "    </tr>\n",
              "  </thead>\n",
              "  <tbody>\n",
              "    <tr>\n",
              "      <th>0</th>\n",
              "      <td>30</td>\n",
              "      <td>#Trump \\n\\nLe Pdt @realDonaldTrump: \\n\"Nous ne...</td>\n",
              "      <td>Costa Rica</td>\n",
              "      <td>fr</td>\n",
              "    </tr>\n",
              "    <tr>\n",
              "      <th>1</th>\n",
              "      <td>138</td>\n",
              "      <td>Las campañas de #Biden en la comunidad latina ...</td>\n",
              "      <td>Mexico</td>\n",
              "      <td>es</td>\n",
              "    </tr>\n",
              "    <tr>\n",
              "      <th>2</th>\n",
              "      <td>165</td>\n",
              "      <td>#Trump \\n\\nLe Pdt @realDonaldTrump:\\n\" Nous ve...</td>\n",
              "      <td>Costa Rica</td>\n",
              "      <td>fr</td>\n",
              "    </tr>\n",
              "    <tr>\n",
              "      <th>3</th>\n",
              "      <td>195</td>\n",
              "      <td>#DonaldTrump afirma que se siente como “Superm...</td>\n",
              "      <td>Peru</td>\n",
              "      <td>es</td>\n",
              "    </tr>\n",
              "    <tr>\n",
              "      <th>4</th>\n",
              "      <td>226</td>\n",
              "      <td>SALUD con TALA 114 ❤ COVID 19 Una Sindemia // ...</td>\n",
              "      <td>Argentina</td>\n",
              "      <td>it</td>\n",
              "    </tr>\n",
              "    <tr>\n",
              "      <th>...</th>\n",
              "      <td>...</td>\n",
              "      <td>...</td>\n",
              "      <td>...</td>\n",
              "      <td>...</td>\n",
              "    </tr>\n",
              "    <tr>\n",
              "      <th>25954</th>\n",
              "      <td>971057</td>\n",
              "      <td>@elnuevoherald LOS MEDIOS A LA FUERZA QUIEREN ...</td>\n",
              "      <td>Ecuador</td>\n",
              "      <td>en</td>\n",
              "    </tr>\n",
              "    <tr>\n",
              "      <th>25955</th>\n",
              "      <td>971067</td>\n",
              "      <td>@elnuevoherald LOS MEDIOS A LA FUERZA QUIEREN ...</td>\n",
              "      <td>Ecuador</td>\n",
              "      <td>en</td>\n",
              "    </tr>\n",
              "    <tr>\n",
              "      <th>25956</th>\n",
              "      <td>971071</td>\n",
              "      <td>@elnuevoherald @ngameztorres LOS MEDIOS A LA F...</td>\n",
              "      <td>Ecuador</td>\n",
              "      <td>en</td>\n",
              "    </tr>\n",
              "    <tr>\n",
              "      <th>25957</th>\n",
              "      <td>971077</td>\n",
              "      <td>@elnuevoherald LOS MEDIOS A LA FUERZA QUIEREN ...</td>\n",
              "      <td>Ecuador</td>\n",
              "      <td>de</td>\n",
              "    </tr>\n",
              "    <tr>\n",
              "      <th>25958</th>\n",
              "      <td>971078</td>\n",
              "      <td>13 emails from #Trump and Trumpettes today. 20...</td>\n",
              "      <td>Chile</td>\n",
              "      <td>en</td>\n",
              "    </tr>\n",
              "  </tbody>\n",
              "</table>\n",
              "<p>25959 rows × 4 columns</p>\n",
              "</div>"
            ],
            "text/plain": [
              "        index                                              tweet     country  \\\n",
              "0          30  #Trump \\n\\nLe Pdt @realDonaldTrump: \\n\"Nous ne...  Costa Rica   \n",
              "1         138  Las campañas de #Biden en la comunidad latina ...      Mexico   \n",
              "2         165  #Trump \\n\\nLe Pdt @realDonaldTrump:\\n\" Nous ve...  Costa Rica   \n",
              "3         195  #DonaldTrump afirma que se siente como “Superm...        Peru   \n",
              "4         226  SALUD con TALA 114 ❤ COVID 19 Una Sindemia // ...   Argentina   \n",
              "...       ...                                                ...         ...   \n",
              "25954  971057  @elnuevoherald LOS MEDIOS A LA FUERZA QUIEREN ...     Ecuador   \n",
              "25955  971067  @elnuevoherald LOS MEDIOS A LA FUERZA QUIEREN ...     Ecuador   \n",
              "25956  971071  @elnuevoherald @ngameztorres LOS MEDIOS A LA F...     Ecuador   \n",
              "25957  971077  @elnuevoherald LOS MEDIOS A LA FUERZA QUIEREN ...     Ecuador   \n",
              "25958  971078  13 emails from #Trump and Trumpettes today. 20...       Chile   \n",
              "\n",
              "      idioma  \n",
              "0         fr  \n",
              "1         es  \n",
              "2         fr  \n",
              "3         es  \n",
              "4         it  \n",
              "...      ...  \n",
              "25954     en  \n",
              "25955     en  \n",
              "25956     en  \n",
              "25957     de  \n",
              "25958     en  \n",
              "\n",
              "[25959 rows x 4 columns]"
            ]
          },
          "execution_count": 12,
          "metadata": {},
          "output_type": "execute_result"
        }
      ],
      "source": [
        "dataTrumpfilter"
      ]
    },
    {
      "cell_type": "code",
      "execution_count": 14,
      "metadata": {
        "id": "YMkgbtYBqToU"
      },
      "outputs": [],
      "source": [
        "dataTrumpES = dataTrumpfilter[dataTrumpfilter['idioma'] == 'es']"
      ]
    },
    {
      "cell_type": "code",
      "execution_count": 15,
      "metadata": {},
      "outputs": [],
      "source": [
        "dataTrumpES.reset_index(inplace=True)"
      ]
    },
    {
      "cell_type": "code",
      "execution_count": 16,
      "metadata": {
        "colab": {
          "base_uri": "https://localhost:8080/"
        },
        "id": "ZOdcqWncqcst",
        "outputId": "9b32bf9b-bbe1-4192-f5a3-9d787d0dfd75"
      },
      "outputs": [
        {
          "data": {
            "text/plain": [
              "94380"
            ]
          },
          "execution_count": 16,
          "metadata": {},
          "output_type": "execute_result"
        }
      ],
      "source": [
        "dataTrumpES.size"
      ]
    },
    {
      "cell_type": "code",
      "execution_count": 18,
      "metadata": {
        "id": "fRYLulOcqoj1"
      },
      "outputs": [],
      "source": [
        "with open('./raw/corpusTrumpES.txt', 'w') as trump:\n",
        "    for twt in dataTrumpES['tweet']:\n",
        "          if twt.strip(): \n",
        "            trump.writelines(f'{twt}')"
      ]
    },
    {
      "cell_type": "code",
      "execution_count": null,
      "metadata": {
        "id": "sDcguVWSZbOe"
      },
      "outputs": [],
      "source": []
    }
  ],
  "metadata": {
    "colab": {
      "collapsed_sections": [
        "_OSU4GCUrzSz",
        "U0eBCnOWTswe",
        "Trj1RgXQ_Ovu",
        "nOFI2_t3lkUR",
        "yHAqGthXl1b_",
        "ozjCHgL_3EaO",
        "7gni6msc9eY6"
      ],
      "provenance": []
    },
    "kernelspec": {
      "display_name": "env",
      "language": "python",
      "name": "python3"
    },
    "language_info": {
      "codemirror_mode": {
        "name": "ipython",
        "version": 3
      },
      "file_extension": ".py",
      "mimetype": "text/x-python",
      "name": "python",
      "nbconvert_exporter": "python",
      "pygments_lexer": "ipython3",
      "version": "3.8.19"
    }
  },
  "nbformat": 4,
  "nbformat_minor": 0
}
