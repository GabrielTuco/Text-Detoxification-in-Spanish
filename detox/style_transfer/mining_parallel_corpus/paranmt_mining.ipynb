{
 "cells": [
  {
   "cell_type": "markdown",
   "metadata": {},
   "source": [
    "Before starting the mining process, please download the corpus from https://www.cs.cmu.edu/~jwieting/  "
   ]
  },
  {
   "cell_type": "code",
   "execution_count": 1,
   "metadata": {},
   "outputs": [],
   "source": [
    "fn = '/home/dale/data/paraphrase_corpora/para-nmt-50m/para-nmt-50m.txt'"
   ]
  },
  {
   "cell_type": "code",
   "execution_count": 2,
   "metadata": {},
   "outputs": [],
   "source": [
    "import pandas as pd\n",
    "import numpy as np\n",
    "import csv\n",
    "pd.options.display.max_colwidth = 150"
   ]
  },
  {
   "cell_type": "code",
   "execution_count": 6,
   "metadata": {},
   "outputs": [],
   "source": [
    "import os\n",
    "os.environ['CUDA_VISIBLE_DEVICES'] = '4'"
   ]
  },
  {
   "cell_type": "code",
   "execution_count": 77,
   "metadata": {},
   "outputs": [],
   "source": [
    "df = pd.read_csv(fn, sep='\\t', header=None, nrows=1_000_000, encoding='utf-8', quoting=csv.QUOTE_NONE).dropna()\n",
    "df.columns = ['reference', 'translation', 'similarity']"
   ]
  },
  {
   "cell_type": "code",
   "execution_count": 78,
   "metadata": {},
   "outputs": [],
   "source": [
    "def lenth_diff(row):\n",
    "    l1 = len(row.reference)\n",
    "    l2 = len(row.translation)\n",
    "    return np.abs(l1-l2) / (max(l1, l2) + 1)\n",
    "\n",
    "df['lenght_diff'] = df.apply(lenth_diff, axis=1)"
   ]
  },
  {
   "cell_type": "code",
   "execution_count": 87,
   "metadata": {},
   "outputs": [
    {
     "name": "stdout",
     "output_type": "stream",
     "text": [
      "0.7133114266228533\n",
      "0.8754667509335019\n",
      "0.8481736963473927\n",
      "0.5371920743841487\n"
     ]
    }
   ],
   "source": [
    "print(np.mean((df.similarity > 0.6)))\n",
    "print(np.mean(df.similarity <= 0.95))\n",
    "print(np.mean(df.lenght_diff <= 0.4))\n",
    "print(np.mean((df.similarity > 0.6) & (df.similarity <= 0.95) & (df.lenght_diff <= 0.4)))"
   ]
  },
  {
   "cell_type": "code",
   "execution_count": 88,
   "metadata": {},
   "outputs": [
    {
     "data": {
      "text/plain": [
       "(1000, 4)"
      ]
     },
     "execution_count": 88,
     "metadata": {},
     "output_type": "execute_result"
    }
   ],
   "source": [
    "nonsim = df[(df.similarity > 0.6) & (df.similarity <= 0.95) & (df.lenght_diff <= 0.4)].head(1000)\n",
    "nonsim.shape"
   ]
  },
  {
   "cell_type": "code",
   "execution_count": 92,
   "metadata": {},
   "outputs": [],
   "source": [
    "from tqdm.auto import tqdm, trange\n",
    "from transformers import RobertaTokenizer, RobertaForSequenceClassification\n",
    "import torch"
   ]
  },
  {
   "cell_type": "code",
   "execution_count": null,
   "metadata": {},
   "outputs": [],
   "source": [
    "model_name = 'SkolkovoInstitute/roberta_toxicity_classifier_v1'\n",
    "\n",
    "tokenizer = RobertaTokenizer.from_pretrained(model_name)\n",
    "model = RobertaForSequenceClassification.from_pretrained(model_name)\n",
    "\n",
    "\n",
    "def classify_preds(preds, batch_size=32, soft=True, threshold=0.5, soft=False):\n",
    "    single = False\n",
    "    if isinstance(preds, str):\n",
    "        preds = [preds]\n",
    "        single = True\n",
    "    results = []\n",
    "    \n",
    "    f = trange if verbose else range\n",
    "\n",
    "    for i in f(0, len(preds), batch_size)):\n",
    "        batch = tokenizer(preds[i:i + batch_size], return_tensors='pt', padding=True)\n",
    "        with torch.inference_mode():\n",
    "            logits = model(**batch).logits\n",
    "        if soft:\n",
    "            result = torch.softmax(logits, -1)[:, 1].cpu().numpy()\n",
    "        else:\n",
    "            result = (logits[:, 1] > threshold).cpu().numpy()\n",
    "        results.extend([1 - item for item in result])\n",
    "    if single:\n",
    "        return np.mean(results)\n",
    "    return results"
   ]
  },
  {
   "cell_type": "code",
   "execution_count": 111,
   "metadata": {},
   "outputs": [
    {
     "data": {
      "application/vnd.jupyter.widget-view+json": {
       "model_id": "febffe55f3794fb484861b9a9b56e66c",
       "version_major": 2,
       "version_minor": 0
      },
      "text/plain": [
       "HBox(children=(FloatProgress(value=0.0, max=26.0), HTML(value='')))"
      ]
     },
     "metadata": {},
     "output_type": "display_data"
    },
    {
     "name": "stderr",
     "output_type": "stream",
     "text": [
      "/home/dale/p3/lib/python3.7/site-packages/pandas/core/frame.py:1490: FutureWarning: Using short name for 'orient' is deprecated. Only the options: ('dict', list, 'series', 'split', 'records', 'index') will be used in a future version. Use one of the above to silence this warning.\n",
      "  FutureWarning,\n"
     ]
    },
    {
     "name": "stdout",
     "output_type": "stream",
     "text": [
      "\n"
     ]
    },
    {
     "name": "stderr",
     "output_type": "stream",
     "text": [
      "/home/dale/p3/lib/python3.7/site-packages/ipykernel_launcher.py:1: SettingWithCopyWarning: \n",
      "A value is trying to be set on a copy of a slice from a DataFrame.\n",
      "Try using .loc[row_indexer,col_indexer] = value instead\n",
      "\n",
      "See the caveats in the documentation: https://pandas.pydata.org/pandas-docs/stable/user_guide/indexing.html#returning-a-view-versus-a-copy\n",
      "  \"\"\"Entry point for launching an IPython kernel.\n"
     ]
    },
    {
     "data": {
      "application/vnd.jupyter.widget-view+json": {
       "model_id": "d64463b92f054f37a19e07063796e5da",
       "version_major": 2,
       "version_minor": 0
      },
      "text/plain": [
       "HBox(children=(FloatProgress(value=0.0, max=52.0), HTML(value='')))"
      ]
     },
     "metadata": {},
     "output_type": "display_data"
    },
    {
     "name": "stdout",
     "output_type": "stream",
     "text": [
      "\n"
     ]
    },
    {
     "name": "stderr",
     "output_type": "stream",
     "text": [
      "/home/dale/p3/lib/python3.7/site-packages/ipykernel_launcher.py:2: SettingWithCopyWarning: \n",
      "A value is trying to be set on a copy of a slice from a DataFrame.\n",
      "Try using .loc[row_indexer,col_indexer] = value instead\n",
      "\n",
      "See the caveats in the documentation: https://pandas.pydata.org/pandas-docs/stable/user_guide/indexing.html#returning-a-view-versus-a-copy\n",
      "  \n"
     ]
    }
   ],
   "source": [
    "nonsim['ref_tox'] = classify_preds(nonsim.reference.tolist(), verbose=True, batch_size=64)\n",
    "nonsim['trn_tox'] = classify_preds(nonsim.translation.tolist(), verbose=True, batch_size=64)"
   ]
  },
  {
   "cell_type": "code",
   "execution_count": 95,
   "metadata": {},
   "outputs": [
    {
     "data": {
      "text/plain": [
       "<AxesSubplot:>"
      ]
     },
     "execution_count": 95,
     "metadata": {},
     "output_type": "execute_result"
    },
    {
     "data": {
      "image/png": "[encoded data removed]",
      "text/plain": [
       "<Figure size 432x288 with 1 Axes>"
      ]
     },
     "metadata": {
      "needs_background": "light"
     },
     "output_type": "display_data"
    }
   ],
   "source": [
    "nonsim.trn_tox.hist()"
   ]
  },
  {
   "cell_type": "markdown",
   "metadata": {},
   "source": [
    "* We filter sentences with moderate similarity (60% to 95%) and similar length (no more then 40% difference) - 50%% of corpus\n",
    "* Out of them, 2% have estimated toxicity is very different between the source and the translation (20 out of 1000)\n",
    "* Out of these 18:\n",
    "    * 2 are false paraphrases\n",
    "    * 8 in fact have comparable toxicity\n",
    "    * 10 are valid detoxifications"
   ]
  },
  {
   "cell_type": "code",
   "execution_count": 99,
   "metadata": {},
   "outputs": [
    {
     "name": "stdout",
     "output_type": "stream",
     "text": [
      "0.02\n",
      "20\n"
     ]
    }
   ],
   "source": [
    "fltr = np.abs(nonsim.trn_tox-nonsim.ref_tox) > 0.5\n",
    "print(np.mean(fltr))\n",
    "print(np.sum(fltr))"
   ]
  },
  {
   "cell_type": "code",
   "execution_count": 100,
   "metadata": {},
   "outputs": [],
   "source": [
    "pd.options.display.max_colwidth = 500"
   ]
  },
  {
   "cell_type": "code",
   "execution_count": 101,
   "metadata": {},
   "outputs": [
    {
     "data": {
      "text/html": [
       "<div>\n",
       "<style scoped>\n",
       "    .dataframe tbody tr th:only-of-type {\n",
       "        vertical-align: middle;\n",
       "    }\n",
       "\n",
       "    .dataframe tbody tr th {\n",
       "        vertical-align: top;\n",
       "    }\n",
       "\n",
       "    .dataframe thead th {\n",
       "        text-align: right;\n",
       "    }\n",
       "</style>\n",
       "<table border=\"1\" class=\"dataframe\">\n",
       "  <thead>\n",
       "    <tr style=\"text-align: right;\">\n",
       "      <th></th>\n",
       "      <th>reference</th>\n",
       "      <th>translation</th>\n",
       "      <th>similarity</th>\n",
       "      <th>lenght_diff</th>\n",
       "      <th>ref_tox</th>\n",
       "      <th>trn_tox</th>\n",
       "    </tr>\n",
       "  </thead>\n",
       "  <tbody>\n",
       "    <tr>\n",
       "      <th>0</th>\n",
       "      <td>If Alkar is flooding her with psychic waste, that explains the high level of neurotransmitters.</td>\n",
       "      <td>if Alkar floods her with her mental waste, it would explain the high levels of neurotransmitter.</td>\n",
       "      <td>0.785171</td>\n",
       "      <td>0.010309</td>\n",
       "      <td>0.014195</td>\n",
       "      <td>0.981983</td>\n",
       "    </tr>\n",
       "    <tr>\n",
       "      <th>1</th>\n",
       "      <td>Now you're getting nasty.</td>\n",
       "      <td>you're becoming disgusting.</td>\n",
       "      <td>0.749687</td>\n",
       "      <td>0.071429</td>\n",
       "      <td>0.065473</td>\n",
       "      <td>0.999039</td>\n",
       "    </tr>\n",
       "    <tr>\n",
       "      <th>2</th>\n",
       "      <td>Well, we could spare your life, for one.</td>\n",
       "      <td>well, we can spare your life.</td>\n",
       "      <td>0.919051</td>\n",
       "      <td>0.268293</td>\n",
       "      <td>0.213313</td>\n",
       "      <td>0.985068</td>\n",
       "    </tr>\n",
       "    <tr>\n",
       "      <th>3</th>\n",
       "      <td>Ah! Monkey, you've got to snap out of it.</td>\n",
       "      <td>monkey, you have to wake up.</td>\n",
       "      <td>0.664333</td>\n",
       "      <td>0.309524</td>\n",
       "      <td>0.053362</td>\n",
       "      <td>0.994215</td>\n",
       "    </tr>\n",
       "    <tr>\n",
       "      <th>4</th>\n",
       "      <td>I've got orders to put her down.</td>\n",
       "      <td>I have orders to kill her.</td>\n",
       "      <td>0.726639</td>\n",
       "      <td>0.181818</td>\n",
       "      <td>0.009402</td>\n",
       "      <td>0.999348</td>\n",
       "    </tr>\n",
       "    <tr>\n",
       "      <th>5</th>\n",
       "      <td>I'm not gonna have a child... ...with the same genetic disorder as me who's gonna die. L...</td>\n",
       "      <td>I'm not going to breed kids with a genetic disorder that makes them die.</td>\n",
       "      <td>0.703185</td>\n",
       "      <td>0.206522</td>\n",
       "      <td>0.950956</td>\n",
       "      <td>0.035846</td>\n",
       "    </tr>\n",
       "    <tr>\n",
       "      <th>6</th>\n",
       "      <td>They're all laughing at us, so we'll kick your ass.</td>\n",
       "      <td>they're laughing at us. We'll show you.</td>\n",
       "      <td>0.618866</td>\n",
       "      <td>0.230769</td>\n",
       "      <td>0.999492</td>\n",
       "      <td>0.000131</td>\n",
       "    </tr>\n",
       "    <tr>\n",
       "      <th>7</th>\n",
       "      <td>Maine was very short on black people back then.</td>\n",
       "      <td>there wasn't much black in Maine then.</td>\n",
       "      <td>0.720482</td>\n",
       "      <td>0.187500</td>\n",
       "      <td>0.963680</td>\n",
       "      <td>0.148710</td>\n",
       "    </tr>\n",
       "    <tr>\n",
       "      <th>8</th>\n",
       "      <td>Briggs, what the hell's happening?</td>\n",
       "      <td>Briggs, what the hell is going on?</td>\n",
       "      <td>0.920373</td>\n",
       "      <td>0.000000</td>\n",
       "      <td>0.159096</td>\n",
       "      <td>0.841071</td>\n",
       "    </tr>\n",
       "    <tr>\n",
       "      <th>9</th>\n",
       "      <td>Another one simply had no clue what to do, so whenever he met my brother he'd beat the crap out of him, and then say:</td>\n",
       "      <td>another simply didn't know what to do, so whenever he met my brother, he nearly beat the shit out of him.</td>\n",
       "      <td>0.877540</td>\n",
       "      <td>0.101695</td>\n",
       "      <td>0.055371</td>\n",
       "      <td>0.930472</td>\n",
       "    </tr>\n",
       "    <tr>\n",
       "      <th>10</th>\n",
       "      <td>I suppose you want me to buy you flowers and chocolates and whisper sweet nothings.</td>\n",
       "      <td>you'd probably want me to buy you some chocolates and flowers... and whispered some pretty rubbish.</td>\n",
       "      <td>0.800661</td>\n",
       "      <td>0.160000</td>\n",
       "      <td>0.000078</td>\n",
       "      <td>0.980341</td>\n",
       "    </tr>\n",
       "    <tr>\n",
       "      <th>11</th>\n",
       "      <td>So now their spirits are cursed, walking back roads, waterways, and if they find an unfaithful man, they kill him, and that man is never seen again.</td>\n",
       "      <td>their souls are cursed, they guard the paths, he says, and when they encounter an unfaithful man, he will be killed, and his body will never be found.</td>\n",
       "      <td>0.755883</td>\n",
       "      <td>0.013245</td>\n",
       "      <td>0.842509</td>\n",
       "      <td>0.143992</td>\n",
       "    </tr>\n",
       "    <tr>\n",
       "      <th>12</th>\n",
       "      <td>Freezing him.</td>\n",
       "      <td>I'll freeze him!</td>\n",
       "      <td>0.775646</td>\n",
       "      <td>0.176471</td>\n",
       "      <td>0.007186</td>\n",
       "      <td>0.573710</td>\n",
       "    </tr>\n",
       "    <tr>\n",
       "      <th>13</th>\n",
       "      <td>Come on, Cal, leave that shit alone.</td>\n",
       "      <td>come on, Cal, put it down.</td>\n",
       "      <td>0.660481</td>\n",
       "      <td>0.270270</td>\n",
       "      <td>0.999637</td>\n",
       "      <td>0.000279</td>\n",
       "    </tr>\n",
       "    <tr>\n",
       "      <th>14</th>\n",
       "      <td>So he's the Top dog.</td>\n",
       "      <td>he's the tallest son of a bitch.</td>\n",
       "      <td>0.611092</td>\n",
       "      <td>0.363636</td>\n",
       "      <td>0.000920</td>\n",
       "      <td>0.999639</td>\n",
       "    </tr>\n",
       "    <tr>\n",
       "      <th>15</th>\n",
       "      <td>I swore when I went out with Xander Harris... ...I'd rather die than datea fixer-upper again.</td>\n",
       "      <td>when I was dating Alex Harris, I swore I'd rather die than go out with a loser.</td>\n",
       "      <td>0.790565</td>\n",
       "      <td>0.148936</td>\n",
       "      <td>0.011613</td>\n",
       "      <td>0.996266</td>\n",
       "    </tr>\n",
       "    <tr>\n",
       "      <th>16</th>\n",
       "      <td>I'm famous, and you're done.</td>\n",
       "      <td>I'm famous, and you're dead.</td>\n",
       "      <td>0.817253</td>\n",
       "      <td>0.000000</td>\n",
       "      <td>0.000926</td>\n",
       "      <td>0.979738</td>\n",
       "    </tr>\n",
       "    <tr>\n",
       "      <th>17</th>\n",
       "      <td>To quote Jake Oppenheimer: I, who am about to die, must seem to them something \"God-awful.\"...</td>\n",
       "      <td>to quote Jake and Oppenheimer: \"I must die, I must feel like a terrible god.\"</td>\n",
       "      <td>0.699590</td>\n",
       "      <td>0.178947</td>\n",
       "      <td>0.002348</td>\n",
       "      <td>0.682655</td>\n",
       "    </tr>\n",
       "    <tr>\n",
       "      <th>18</th>\n",
       "      <td>“Could you please be quiet, Miss Lavish?” said Moist.</td>\n",
       "      <td>'could you keep your mouth shut, Miss Opulent? 'Said Moist.</td>\n",
       "      <td>0.808943</td>\n",
       "      <td>0.100000</td>\n",
       "      <td>0.000187</td>\n",
       "      <td>0.760356</td>\n",
       "    </tr>\n",
       "    <tr>\n",
       "      <th>19</th>\n",
       "      <td>Murder for hire.</td>\n",
       "      <td>murder to order.</td>\n",
       "      <td>0.697667</td>\n",
       "      <td>0.000000</td>\n",
       "      <td>0.074589</td>\n",
       "      <td>0.962326</td>\n",
       "    </tr>\n",
       "  </tbody>\n",
       "</table>\n",
       "</div>"
      ],
      "text/plain": [
       "                                                                                                                                               reference  \\\n",
       "0                                                        If Alkar is flooding her with psychic waste, that explains the high level of neurotransmitters.   \n",
       "1                                                                                                                              Now you're getting nasty.   \n",
       "2                                                                                                               Well, we could spare your life, for one.   \n",
       "3                                                                                                              Ah! Monkey, you've got to snap out of it.   \n",
       "4                                                                                                                       I've got orders to put her down.   \n",
       "5                                                            I'm not gonna have a child... ...with the same genetic disorder as me who's gonna die. L...   \n",
       "6                                                                                                    They're all laughing at us, so we'll kick your ass.   \n",
       "7                                                                                                        Maine was very short on black people back then.   \n",
       "8                                                                                                                     Briggs, what the hell's happening?   \n",
       "9                                  Another one simply had no clue what to do, so whenever he met my brother he'd beat the crap out of him, and then say:   \n",
       "10                                                                   I suppose you want me to buy you flowers and chocolates and whisper sweet nothings.   \n",
       "11  So now their spirits are cursed, walking back roads, waterways, and if they find an unfaithful man, they kill him, and that man is never seen again.   \n",
       "12                                                                                                                                         Freezing him.   \n",
       "13                                                                                                                  Come on, Cal, leave that shit alone.   \n",
       "14                                                                                                                                  So he's the Top dog.   \n",
       "15                                                         I swore when I went out with Xander Harris... ...I'd rather die than datea fixer-upper again.   \n",
       "16                                                                                                                          I'm famous, and you're done.   \n",
       "17                                                        To quote Jake Oppenheimer: I, who am about to die, must seem to them something \"God-awful.\"...   \n",
       "18                                                                                                 “Could you please be quiet, Miss Lavish?” said Moist.   \n",
       "19                                                                                                                                      Murder for hire.   \n",
       "\n",
       "                                                                                                                                               translation  \\\n",
       "0                                                         if Alkar floods her with her mental waste, it would explain the high levels of neurotransmitter.   \n",
       "1                                                                                                                              you're becoming disgusting.   \n",
       "2                                                                                                                            well, we can spare your life.   \n",
       "3                                                                                                                             monkey, you have to wake up.   \n",
       "4                                                                                                                               I have orders to kill her.   \n",
       "5                                                                                 I'm not going to breed kids with a genetic disorder that makes them die.   \n",
       "6                                                                                                                  they're laughing at us. We'll show you.   \n",
       "7                                                                                                                   there wasn't much black in Maine then.   \n",
       "8                                                                                                                       Briggs, what the hell is going on?   \n",
       "9                                                another simply didn't know what to do, so whenever he met my brother, he nearly beat the shit out of him.   \n",
       "10                                                     you'd probably want me to buy you some chocolates and flowers... and whispered some pretty rubbish.   \n",
       "11  their souls are cursed, they guard the paths, he says, and when they encounter an unfaithful man, he will be killed, and his body will never be found.   \n",
       "12                                                                                                                                        I'll freeze him!   \n",
       "13                                                                                                                              come on, Cal, put it down.   \n",
       "14                                                                                                                        he's the tallest son of a bitch.   \n",
       "15                                                                         when I was dating Alex Harris, I swore I'd rather die than go out with a loser.   \n",
       "16                                                                                                                            I'm famous, and you're dead.   \n",
       "17                                                                           to quote Jake and Oppenheimer: \"I must die, I must feel like a terrible god.\"   \n",
       "18                                                                                             'could you keep your mouth shut, Miss Opulent? 'Said Moist.   \n",
       "19                                                                                                                                        murder to order.   \n",
       "\n",
       "    similarity  lenght_diff   ref_tox   trn_tox  \n",
       "0     0.785171     0.010309  0.014195  0.981983  \n",
       "1     0.749687     0.071429  0.065473  0.999039  \n",
       "2     0.919051     0.268293  0.213313  0.985068  \n",
       "3     0.664333     0.309524  0.053362  0.994215  \n",
       "4     0.726639     0.181818  0.009402  0.999348  \n",
       "5     0.703185     0.206522  0.950956  0.035846  \n",
       "6     0.618866     0.230769  0.999492  0.000131  \n",
       "7     0.720482     0.187500  0.963680  0.148710  \n",
       "8     0.920373     0.000000  0.159096  0.841071  \n",
       "9     0.877540     0.101695  0.055371  0.930472  \n",
       "10    0.800661     0.160000  0.000078  0.980341  \n",
       "11    0.755883     0.013245  0.842509  0.143992  \n",
       "12    0.775646     0.176471  0.007186  0.573710  \n",
       "13    0.660481     0.270270  0.999637  0.000279  \n",
       "14    0.611092     0.363636  0.000920  0.999639  \n",
       "15    0.790565     0.148936  0.011613  0.996266  \n",
       "16    0.817253     0.000000  0.000926  0.979738  \n",
       "17    0.699590     0.178947  0.002348  0.682655  \n",
       "18    0.808943     0.100000  0.000187  0.760356  \n",
       "19    0.697667     0.000000  0.074589  0.962326  "
      ]
     },
     "execution_count": 101,
     "metadata": {},
     "output_type": "execute_result"
    }
   ],
   "source": [
    "nonsim[fltr].reset_index(drop=True)"
   ]
  },
  {
   "cell_type": "markdown",
   "metadata": {},
   "source": [
    "# Large scale fine tuning"
   ]
  },
  {
   "cell_type": "code",
   "execution_count": 102,
   "metadata": {},
   "outputs": [],
   "source": [
    "chunksize = 3_000"
   ]
  },
  {
   "cell_type": "code",
   "execution_count": null,
   "metadata": {},
   "outputs": [],
   "source": [
    "df = pd.read_csv(fn, sep='\\t', header=None, nrows=1_000_000, encoding='utf-8', quoting=csv.QUOTE_NONE).dropna()\n",
    "df.columns = ['reference', 'translation', 'similarity']"
   ]
  },
  {
   "cell_type": "code",
   "execution_count": 123,
   "metadata": {},
   "outputs": [],
   "source": [
    "import warnings\n",
    "warnings.simplefilter(action='ignore', category=FutureWarning)"
   ]
  },
  {
   "cell_type": "markdown",
   "metadata": {},
   "source": [
    "\n",
    "\n",
    "* 50M / 3K = 16K iterations\n",
    "* with 1 minute/iteration, the job will take 11 days, but with free GPUs this is faster"
   ]
  },
  {
   "cell_type": "code",
   "execution_count": null,
   "metadata": {},
   "outputs": [
    {
     "data": {
      "application/vnd.jupyter.widget-view+json": {
       "model_id": "3803079445c04b6186b32195ac10fa9f",
       "version_major": 2,
       "version_minor": 0
      },
      "text/plain": [
       "HBox(children=(FloatProgress(value=1.0, bar_style='info', layout=Layout(width='20px'), max=1.0), HTML(value=''…"
      ]
     },
     "metadata": {},
     "output_type": "display_data"
    },
    {
     "name": "stdout",
     "output_type": "stream",
     "text": [
      "380 samples\n",
      "689 samples\n",
      "1025 samples\n",
      "1353 samples\n",
      "1663 samples\n",
      "2012 samples\n",
      "2353 samples\n",
      "2696 samples\n",
      "3033 samples\n",
      "3372 samples\n",
      "3709 samples\n",
      "4040 samples\n",
      "4385 samples\n",
      "4702 samples\n",
      "5046 samples\n",
      "5405 samples\n",
      "5742 samples\n",
      "6046 samples\n",
      "6374 samples\n",
      "6698 samples\n",
      "7042 samples\n",
      "7386 samples\n",
      "7718 samples\n",
      "8015 samples\n",
      "8374 samples\n",
      "8679 samples\n",
      "9031 samples\n",
      "9371 samples\n",
      "9735 samples\n",
      "10066 samples\n",
      "10385 samples\n",
      "10728 samples\n",
      "11046 samples\n",
      "11395 samples\n",
      "11748 samples\n",
      "12081 samples\n",
      "12414 samples\n"
     ]
    }
   ],
   "source": [
    "results = []\n",
    "\n",
    "for i, chunk in enumerate(tqdm(pd.read_csv(fn, sep='\\t', header=None, encoding='utf-8', quoting=csv.QUOTE_NONE, chunksize=chunksize))):\n",
    "    chunk.dropna(inplace=True)\n",
    "    chunk.columns = ['reference', 'translation', 'similarity']\n",
    "    chunk['lenght_diff'] = chunk.apply(lenth_diff, axis=1)\n",
    "    nonsim = chunk[(chunk.similarity > 0.6) & (chunk.similarity <= 0.95) & (chunk.lenght_diff <= 0.4)].copy()\n",
    "    \n",
    "    nonsim['ref_tox'] = classify_preds(nonsim.reference.tolist(), verbose=False, batch_size=64)\n",
    "    nonsim['trn_tox'] = classify_preds(nonsim.translation.tolist(), verbose=False, batch_size=64)\n",
    "    \n",
    "    fltr = np.abs(nonsim.trn_tox-nonsim.ref_tox) > 0.5\n",
    "    mined = nonsim[fltr]\n",
    "    results.append(mined)\n",
    "    # print(nonsim.shape[0], mined.shape[0])\n",
    "    if i > 0 and i % 10 == 0:\n",
    "        res_df = pd.concat(results, ignore_index=True)\n",
    "        print(res_df.shape[0], 'samples')\n",
    "        res_df.to_csv('filtered.tsv', sep='\\t', encoding='utf-8')"
   ]
  },
  {
   "cell_type": "code",
   "execution_count": 127,
   "metadata": {},
   "outputs": [
    {
     "data": {
      "text/plain": [
       "1"
      ]
     },
     "execution_count": 127,
     "metadata": {},
     "output_type": "execute_result"
    }
   ],
   "source": [
    "1"
   ]
  },
  {
   "cell_type": "code",
   "execution_count": 128,
   "metadata": {},
   "outputs": [
    {
     "data": {
      "text/plain": [
       "1"
      ]
     },
     "execution_count": 128,
     "metadata": {},
     "output_type": "execute_result"
    }
   ],
   "source": [
    "1"
   ]
  },
  {
   "cell_type": "code",
   "execution_count": 129,
   "metadata": {},
   "outputs": [
    {
     "data": {
      "text/plain": [
       "(577988, 6)"
      ]
     },
     "execution_count": 129,
     "metadata": {},
     "output_type": "execute_result"
    }
   ],
   "source": [
    "res_df = pd.concat(results, ignore_index=True)\n",
    "res_df.shape"
   ]
  },
  {
   "cell_type": "code",
   "execution_count": 130,
   "metadata": {},
   "outputs": [
    {
     "data": {
      "text/html": [
       "<div>\n",
       "<style scoped>\n",
       "    .dataframe tbody tr th:only-of-type {\n",
       "        vertical-align: middle;\n",
       "    }\n",
       "\n",
       "    .dataframe tbody tr th {\n",
       "        vertical-align: top;\n",
       "    }\n",
       "\n",
       "    .dataframe thead th {\n",
       "        text-align: right;\n",
       "    }\n",
       "</style>\n",
       "<table border=\"1\" class=\"dataframe\">\n",
       "  <thead>\n",
       "    <tr style=\"text-align: right;\">\n",
       "      <th></th>\n",
       "      <th>similarity</th>\n",
       "      <th>lenght_diff</th>\n",
       "      <th>ref_tox</th>\n",
       "      <th>trn_tox</th>\n",
       "    </tr>\n",
       "  </thead>\n",
       "  <tbody>\n",
       "    <tr>\n",
       "      <th>count</th>\n",
       "      <td>577988.000000</td>\n",
       "      <td>577988.000000</td>\n",
       "      <td>577988.000000</td>\n",
       "      <td>577988.000000</td>\n",
       "    </tr>\n",
       "    <tr>\n",
       "      <th>mean</th>\n",
       "      <td>0.758466</td>\n",
       "      <td>0.157654</td>\n",
       "      <td>0.541382</td>\n",
       "      <td>0.434479</td>\n",
       "    </tr>\n",
       "    <tr>\n",
       "      <th>std</th>\n",
       "      <td>0.092696</td>\n",
       "      <td>0.108056</td>\n",
       "      <td>0.457569</td>\n",
       "      <td>0.458904</td>\n",
       "    </tr>\n",
       "    <tr>\n",
       "      <th>min</th>\n",
       "      <td>0.600001</td>\n",
       "      <td>0.000000</td>\n",
       "      <td>0.000033</td>\n",
       "      <td>0.000033</td>\n",
       "    </tr>\n",
       "    <tr>\n",
       "      <th>25%</th>\n",
       "      <td>0.681099</td>\n",
       "      <td>0.066667</td>\n",
       "      <td>0.012172</td>\n",
       "      <td>0.000707</td>\n",
       "    </tr>\n",
       "    <tr>\n",
       "      <th>50%</th>\n",
       "      <td>0.754436</td>\n",
       "      <td>0.141818</td>\n",
       "      <td>0.806834</td>\n",
       "      <td>0.085110</td>\n",
       "    </tr>\n",
       "    <tr>\n",
       "      <th>75%</th>\n",
       "      <td>0.831241</td>\n",
       "      <td>0.238095</td>\n",
       "      <td>0.990469</td>\n",
       "      <td>0.973742</td>\n",
       "    </tr>\n",
       "    <tr>\n",
       "      <th>max</th>\n",
       "      <td>0.950000</td>\n",
       "      <td>0.400000</td>\n",
       "      <td>0.999724</td>\n",
       "      <td>0.999730</td>\n",
       "    </tr>\n",
       "  </tbody>\n",
       "</table>\n",
       "</div>"
      ],
      "text/plain": [
       "          similarity    lenght_diff        ref_tox        trn_tox\n",
       "count  577988.000000  577988.000000  577988.000000  577988.000000\n",
       "mean        0.758466       0.157654       0.541382       0.434479\n",
       "std         0.092696       0.108056       0.457569       0.458904\n",
       "min         0.600001       0.000000       0.000033       0.000033\n",
       "25%         0.681099       0.066667       0.012172       0.000707\n",
       "50%         0.754436       0.141818       0.806834       0.085110\n",
       "75%         0.831241       0.238095       0.990469       0.973742\n",
       "max         0.950000       0.400000       0.999724       0.999730"
      ]
     },
     "execution_count": 130,
     "metadata": {},
     "output_type": "execute_result"
    }
   ],
   "source": [
    "res_df.describe()"
   ]
  },
  {
   "cell_type": "code",
   "execution_count": 131,
   "metadata": {},
   "outputs": [
    {
     "data": {
      "text/html": [
       "<div>\n",
       "<style scoped>\n",
       "    .dataframe tbody tr th:only-of-type {\n",
       "        vertical-align: middle;\n",
       "    }\n",
       "\n",
       "    .dataframe tbody tr th {\n",
       "        vertical-align: top;\n",
       "    }\n",
       "\n",
       "    .dataframe thead th {\n",
       "        text-align: right;\n",
       "    }\n",
       "</style>\n",
       "<table border=\"1\" class=\"dataframe\">\n",
       "  <thead>\n",
       "    <tr style=\"text-align: right;\">\n",
       "      <th></th>\n",
       "      <th>reference</th>\n",
       "      <th>translation</th>\n",
       "      <th>similarity</th>\n",
       "      <th>lenght_diff</th>\n",
       "      <th>ref_tox</th>\n",
       "      <th>trn_tox</th>\n",
       "    </tr>\n",
       "  </thead>\n",
       "  <tbody>\n",
       "    <tr>\n",
       "      <th>88294</th>\n",
       "      <td>I just beat up three guys by myself.</td>\n",
       "      <td>I just cut three big men.</td>\n",
       "      <td>0.685685</td>\n",
       "      <td>0.297297</td>\n",
       "      <td>0.750938</td>\n",
       "      <td>0.005162</td>\n",
       "    </tr>\n",
       "    <tr>\n",
       "      <th>402968</th>\n",
       "      <td>Whoo! Welcome back, mad dog!</td>\n",
       "      <td>welcome back, Fury!</td>\n",
       "      <td>0.735353</td>\n",
       "      <td>0.310345</td>\n",
       "      <td>0.998412</td>\n",
       "      <td>0.000081</td>\n",
       "    </tr>\n",
       "    <tr>\n",
       "      <th>396420</th>\n",
       "      <td>The roof is scraping my nut!</td>\n",
       "      <td>the roof is cutting off my balls!</td>\n",
       "      <td>0.746109</td>\n",
       "      <td>0.147059</td>\n",
       "      <td>0.012407</td>\n",
       "      <td>0.993682</td>\n",
       "    </tr>\n",
       "    <tr>\n",
       "      <th>344928</th>\n",
       "      <td>Blasted fairy music.</td>\n",
       "      <td>to hell with the music.</td>\n",
       "      <td>0.667527</td>\n",
       "      <td>0.125000</td>\n",
       "      <td>0.001486</td>\n",
       "      <td>0.932651</td>\n",
       "    </tr>\n",
       "    <tr>\n",
       "      <th>57239</th>\n",
       "      <td>A kidnapper and a child murderer, yes.</td>\n",
       "      <td>the kidnapper and the child killer, yes.</td>\n",
       "      <td>0.888592</td>\n",
       "      <td>0.048780</td>\n",
       "      <td>0.967770</td>\n",
       "      <td>0.121575</td>\n",
       "    </tr>\n",
       "    <tr>\n",
       "      <th>444506</th>\n",
       "      <td>For awhile, I went to sex clubs.</td>\n",
       "      <td>I went to sex clubs for a while.</td>\n",
       "      <td>0.923540</td>\n",
       "      <td>0.000000</td>\n",
       "      <td>0.147675</td>\n",
       "      <td>0.966582</td>\n",
       "    </tr>\n",
       "    <tr>\n",
       "      <th>22691</th>\n",
       "      <td>When I released her she bites you.</td>\n",
       "      <td>if I leave her, she'll bite you.</td>\n",
       "      <td>0.675012</td>\n",
       "      <td>0.057143</td>\n",
       "      <td>0.006479</td>\n",
       "      <td>0.979373</td>\n",
       "    </tr>\n",
       "    <tr>\n",
       "      <th>242403</th>\n",
       "      <td>If you don't at least try, Alex, you're already a loser.</td>\n",
       "      <td>if you don't try, Alex, you lost in advance.</td>\n",
       "      <td>0.727835</td>\n",
       "      <td>0.210526</td>\n",
       "      <td>0.998164</td>\n",
       "      <td>0.000176</td>\n",
       "    </tr>\n",
       "    <tr>\n",
       "      <th>179191</th>\n",
       "      <td>'I know you're only the humorous thugs.</td>\n",
       "      <td>\"I'm sure you're only a couple of comic thieves.</td>\n",
       "      <td>0.621704</td>\n",
       "      <td>0.183673</td>\n",
       "      <td>0.924046</td>\n",
       "      <td>0.265508</td>\n",
       "    </tr>\n",
       "    <tr>\n",
       "      <th>541902</th>\n",
       "      <td>You know as well as I do what a monster he was.</td>\n",
       "      <td>you know as much as I did for the monster.</td>\n",
       "      <td>0.700937</td>\n",
       "      <td>0.104167</td>\n",
       "      <td>0.995559</td>\n",
       "      <td>0.002968</td>\n",
       "    </tr>\n",
       "  </tbody>\n",
       "</table>\n",
       "</div>"
      ],
      "text/plain": [
       "                                                       reference  \\\n",
       "88294                       I just beat up three guys by myself.   \n",
       "402968                              Whoo! Welcome back, mad dog!   \n",
       "396420                              The roof is scraping my nut!   \n",
       "344928                                      Blasted fairy music.   \n",
       "57239                     A kidnapper and a child murderer, yes.   \n",
       "444506                          For awhile, I went to sex clubs.   \n",
       "22691                         When I released her she bites you.   \n",
       "242403  If you don't at least try, Alex, you're already a loser.   \n",
       "179191                   'I know you're only the humorous thugs.   \n",
       "541902           You know as well as I do what a monster he was.   \n",
       "\n",
       "                                             translation  similarity  \\\n",
       "88294                          I just cut three big men.    0.685685   \n",
       "402968                               welcome back, Fury!    0.735353   \n",
       "396420                 the roof is cutting off my balls!    0.746109   \n",
       "344928                           to hell with the music.    0.667527   \n",
       "57239           the kidnapper and the child killer, yes.    0.888592   \n",
       "444506                  I went to sex clubs for a while.    0.923540   \n",
       "22691                   if I leave her, she'll bite you.    0.675012   \n",
       "242403      if you don't try, Alex, you lost in advance.    0.727835   \n",
       "179191  \"I'm sure you're only a couple of comic thieves.    0.621704   \n",
       "541902        you know as much as I did for the monster.    0.700937   \n",
       "\n",
       "        lenght_diff   ref_tox   trn_tox  \n",
       "88294      0.297297  0.750938  0.005162  \n",
       "402968     0.310345  0.998412  0.000081  \n",
       "396420     0.147059  0.012407  0.993682  \n",
       "344928     0.125000  0.001486  0.932651  \n",
       "57239      0.048780  0.967770  0.121575  \n",
       "444506     0.000000  0.147675  0.966582  \n",
       "22691      0.057143  0.006479  0.979373  \n",
       "242403     0.210526  0.998164  0.000176  \n",
       "179191     0.183673  0.924046  0.265508  \n",
       "541902     0.104167  0.995559  0.002968  "
      ]
     },
     "execution_count": 131,
     "metadata": {},
     "output_type": "execute_result"
    }
   ],
   "source": [
    "res_df.sample(10)"
   ]
  },
  {
   "cell_type": "code",
   "execution_count": 132,
   "metadata": {},
   "outputs": [
    {
     "data": {
      "text/plain": [
       "<AxesSubplot:>"
      ]
     },
     "execution_count": 132,
     "metadata": {},
     "output_type": "execute_result"
    },
    {
     "data": {
      "image/png": "[encoded data removed]",
      "text/plain": [
       "<Figure size 432x288 with 1 Axes>"
      ]
     },
     "metadata": {
      "needs_background": "light"
     },
     "output_type": "display_data"
    }
   ],
   "source": [
    "res_df['tox_diff'] = np.abs(res_df.ref_tox - res_df.trn_tox)\n",
    "res_df.tox_diff.hist()"
   ]
  },
  {
   "cell_type": "code",
   "execution_count": null,
   "metadata": {},
   "outputs": [],
   "source": []
  }
 ],
 "metadata": {
  "kernelspec": {
   "display_name": "Python 3 (ipykernel)",
   "language": "python",
   "name": "python3"
  },
  "language_info": {
   "codemirror_mode": {
    "name": "ipython",
    "version": 3
   },
   "file_extension": ".py",
   "mimetype": "text/x-python",
   "name": "python",
   "nbconvert_exporter": "python",
   "pygments_lexer": "ipython3",
   "version": "3.9.6"
  }
 },
 "nbformat": 4,
 "nbformat_minor": 4
}