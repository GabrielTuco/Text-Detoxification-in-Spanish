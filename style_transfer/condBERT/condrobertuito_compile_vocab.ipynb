{
  "cells": [
    {
      "cell_type": "markdown",
      "metadata": {
        "id": "NMW5FgWeTGeJ"
      },
      "source": [
        "This notebook reproduces creation of CondRoBERTuito vocabulary in Google Colaboratory.\n",
        "\n",
        "This notebook creates the files: `positive-words.txt`, `negative-words.txt`, `toxic_words.txt`, `token_toxicities.txt` and `word2coef.pkl`"
      ]
    },
    {
      "cell_type": "markdown",
      "metadata": {
        "id": "Y3knhe94TGeO"
      },
      "source": [
        "# 0. Prerequisites"
      ]
    },
    {
      "cell_type": "code",
      "execution_count": 1,
      "metadata": {
        "colab": {
          "base_uri": "https://localhost:8080/"
        },
        "id": "WlNFLG7exRky",
        "outputId": "149b23c0-e40a-40b8-d8fb-871383ea4c76"
      },
      "outputs": [
        {
          "name": "stdout",
          "output_type": "stream",
          "text": [
            "\u001b[33mDEPRECATION: https://github.com/explosion/spacy-models/releases/download/es_core_news_sm-2.3.1/es_core_news_sm-2.3.1.tar.gz#egg=es_core_news_sm==2.3.1 contains an egg fragment with a non-PEP 508 name pip 25.0 will enforce this behaviour change. A possible replacement is to use the req @ url syntax, and remove the egg fragment. Discussion can be found at https://github.com/pypa/pip/issues/11617\u001b[0m\u001b[33m\n",
            "\u001b[0mCollecting es_core_news_sm==2.3.1\n",
            "  Downloading https://github.com/explosion/spacy-models/releases/download/es_core_news_sm-2.3.1/es_core_news_sm-2.3.1.tar.gz (16.2 MB)\n",
            "\u001b[2K     \u001b[90m━━━━━━━━━━━━━━━━━━━━━━━━━━━━━━━━━━━━━━━━\u001b[0m \u001b[32m16.2/16.2 MB\u001b[0m \u001b[31m11.1 MB/s\u001b[0m eta \u001b[36m0:00:00\u001b[0m00:01\u001b[0m00:01\u001b[0m\n",
            "\u001b[?25h  Preparing metadata (setup.py) ... \u001b[?25ldone\n",
            "\u001b[?25hRequirement already satisfied: spacy<2.4.0,>=2.3.0 in /mnt/4CC63D9CC63D876C/loncos/Text-Detoxification-in-Spanish/env/lib/python3.8/site-packages (from es_core_news_sm==2.3.1) (2.3.7)\n",
            "Requirement already satisfied: catalogue<1.1.0,>=0.0.7 in /mnt/4CC63D9CC63D876C/loncos/Text-Detoxification-in-Spanish/env/lib/python3.8/site-packages (from spacy<2.4.0,>=2.3.0->es_core_news_sm==2.3.1) (1.0.2)\n",
            "Requirement already satisfied: thinc<7.5.0,>=7.4.1 in /mnt/4CC63D9CC63D876C/loncos/Text-Detoxification-in-Spanish/env/lib/python3.8/site-packages (from spacy<2.4.0,>=2.3.0->es_core_news_sm==2.3.1) (7.4.6)\n",
            "Requirement already satisfied: tqdm<5.0.0,>=4.38.0 in /mnt/4CC63D9CC63D876C/loncos/Text-Detoxification-in-Spanish/env/lib/python3.8/site-packages (from spacy<2.4.0,>=2.3.0->es_core_news_sm==2.3.1) (4.66.5)\n",
            "Requirement already satisfied: numpy>=1.15.0 in /mnt/4CC63D9CC63D876C/loncos/Text-Detoxification-in-Spanish/env/lib/python3.8/site-packages (from spacy<2.4.0,>=2.3.0->es_core_news_sm==2.3.1) (1.19.5)\n",
            "Requirement already satisfied: preshed<3.1.0,>=3.0.2 in /mnt/4CC63D9CC63D876C/loncos/Text-Detoxification-in-Spanish/env/lib/python3.8/site-packages (from spacy<2.4.0,>=2.3.0->es_core_news_sm==2.3.1) (3.0.9)\n",
            "Requirement already satisfied: plac<1.2.0,>=0.9.6 in /mnt/4CC63D9CC63D876C/loncos/Text-Detoxification-in-Spanish/env/lib/python3.8/site-packages (from spacy<2.4.0,>=2.3.0->es_core_news_sm==2.3.1) (1.1.3)\n",
            "Requirement already satisfied: murmurhash<1.1.0,>=0.28.0 in /mnt/4CC63D9CC63D876C/loncos/Text-Detoxification-in-Spanish/env/lib/python3.8/site-packages (from spacy<2.4.0,>=2.3.0->es_core_news_sm==2.3.1) (1.0.10)\n",
            "Requirement already satisfied: srsly<1.1.0,>=1.0.2 in /mnt/4CC63D9CC63D876C/loncos/Text-Detoxification-in-Spanish/env/lib/python3.8/site-packages (from spacy<2.4.0,>=2.3.0->es_core_news_sm==2.3.1) (1.0.7)\n",
            "Requirement already satisfied: wasabi<1.1.0,>=0.4.0 in /mnt/4CC63D9CC63D876C/loncos/Text-Detoxification-in-Spanish/env/lib/python3.8/site-packages (from spacy<2.4.0,>=2.3.0->es_core_news_sm==2.3.1) (0.10.1)\n",
            "Requirement already satisfied: requests<3.0.0,>=2.13.0 in /mnt/4CC63D9CC63D876C/loncos/Text-Detoxification-in-Spanish/env/lib/python3.8/site-packages (from spacy<2.4.0,>=2.3.0->es_core_news_sm==2.3.1) (2.32.3)\n",
            "Requirement already satisfied: cymem<2.1.0,>=2.0.2 in /mnt/4CC63D9CC63D876C/loncos/Text-Detoxification-in-Spanish/env/lib/python3.8/site-packages (from spacy<2.4.0,>=2.3.0->es_core_news_sm==2.3.1) (2.0.8)\n",
            "Requirement already satisfied: blis<0.8.0,>=0.4.0 in /mnt/4CC63D9CC63D876C/loncos/Text-Detoxification-in-Spanish/env/lib/python3.8/site-packages (from spacy<2.4.0,>=2.3.0->es_core_news_sm==2.3.1) (0.7.11)\n",
            "Requirement already satisfied: setuptools in /mnt/4CC63D9CC63D876C/loncos/Text-Detoxification-in-Spanish/env/lib/python3.8/site-packages (from spacy<2.4.0,>=2.3.0->es_core_news_sm==2.3.1) (56.0.0)\n",
            "Requirement already satisfied: urllib3<3,>=1.21.1 in /mnt/4CC63D9CC63D876C/loncos/Text-Detoxification-in-Spanish/env/lib/python3.8/site-packages (from requests<3.0.0,>=2.13.0->spacy<2.4.0,>=2.3.0->es_core_news_sm==2.3.1) (1.26.20)\n",
            "Requirement already satisfied: certifi>=2017.4.17 in /mnt/4CC63D9CC63D876C/loncos/Text-Detoxification-in-Spanish/env/lib/python3.8/site-packages (from requests<3.0.0,>=2.13.0->spacy<2.4.0,>=2.3.0->es_core_news_sm==2.3.1) (2024.8.30)\n",
            "Requirement already satisfied: idna<4,>=2.5 in /mnt/4CC63D9CC63D876C/loncos/Text-Detoxification-in-Spanish/env/lib/python3.8/site-packages (from requests<3.0.0,>=2.13.0->spacy<2.4.0,>=2.3.0->es_core_news_sm==2.3.1) (3.8)\n",
            "Requirement already satisfied: charset-normalizer<4,>=2 in /mnt/4CC63D9CC63D876C/loncos/Text-Detoxification-in-Spanish/env/lib/python3.8/site-packages (from requests<3.0.0,>=2.13.0->spacy<2.4.0,>=2.3.0->es_core_news_sm==2.3.1) (3.3.2)\n",
            "\u001b[33mWARNING: There was an error checking the latest version of pip.\u001b[0m\u001b[33m\n",
            "\u001b[0m\u001b[38;5;2m✔ Download and installation successful\u001b[0m\n",
            "You can now load the model via spacy.load('es_core_news_sm')\n"
          ]
        }
      ],
      "source": [
        "!python -m spacy download es_core_news_sm"
      ]
    },
    {
      "cell_type": "markdown",
      "metadata": {
        "id": "7QGTX7NNWv6G"
      },
      "source": [
        "## Setting up"
      ]
    },
    {
      "cell_type": "code",
      "execution_count": 2,
      "metadata": {
        "colab": {
          "base_uri": "https://localhost:8080/"
        },
        "id": "8EQtDc-NW6zR",
        "outputId": "fc16a55a-6ece-4528-f87d-465493b8c787"
      },
      "outputs": [
        {
          "data": {
            "text/plain": [
              "<module 'condbert' from '/mnt/4CC63D9CC63D876C/loncos/Text-Detoxification-in-Spanish/style_transfer/condBERT/condbert.py'>"
            ]
          },
          "execution_count": 2,
          "metadata": {},
          "output_type": "execute_result"
        }
      ],
      "source": [
        "from importlib import reload\n",
        "import condbert\n",
        "reload(condbert)"
      ]
    },
    {
      "cell_type": "code",
      "execution_count": 3,
      "metadata": {
        "id": "0u5mJfp2TGeP"
      },
      "outputs": [],
      "source": [
        "VOCAB_DIRNAME = 'vocab'"
      ]
    },
    {
      "cell_type": "code",
      "execution_count": 4,
      "metadata": {
        "id": "I72Hz700TGeR"
      },
      "outputs": [
        {
          "name": "stderr",
          "output_type": "stream",
          "text": [
            "/mnt/4CC63D9CC63D876C/loncos/Text-Detoxification-in-Spanish/env/lib/python3.8/site-packages/tqdm/auto.py:21: TqdmWarning: IProgress not found. Please update jupyter and ipywidgets. See https://ipywidgets.readthedocs.io/en/stable/user_install.html\n",
            "  from .autonotebook import tqdm as notebook_tqdm\n"
          ]
        }
      ],
      "source": [
        "from condbert import CondBertRewriter\n",
        "from choosers import EmbeddingSimilarityChooser\n",
        "from multiword.masked_token_predictor_bert import MaskedTokenPredictorBert"
      ]
    },
    {
      "cell_type": "markdown",
      "metadata": {
        "id": "7hlfLRHyTGeR"
      },
      "source": [
        "# 1. Loading BERT"
      ]
    },
    {
      "cell_type": "code",
      "execution_count": 5,
      "metadata": {
        "id": "nCJpo0_dTGeS"
      },
      "outputs": [],
      "source": [
        "import torch\n",
        "from transformers import BertTokenizer, BertForMaskedLM\n",
        "import numpy as np\n",
        "import pickle\n",
        "import os\n",
        "from tqdm.auto import tqdm, trange"
      ]
    },
    {
      "cell_type": "code",
      "execution_count": 6,
      "metadata": {
        "id": "OK8ct_krTGeS"
      },
      "outputs": [
        {
          "name": "stdout",
          "output_type": "stream",
          "text": [
            "cuda\n"
          ]
        }
      ],
      "source": [
        "if torch.cuda.is_available():\n",
        "    device = torch.device('cuda:0')\n",
        "    print(\"cuda\")\n",
        "else:\n",
        "    device = torch.device('cpu')\n",
        "    print(\"cpu\")\n",
        "\n",
        "if device.type == 'cuda':\n",
        "    os.environ['CUDA_VISIBLE_DEVICES'] = '0'\n"
      ]
    },
    {
      "cell_type": "code",
      "execution_count": 7,
      "metadata": {
        "id": "in2DVjsdLkq8"
      },
      "outputs": [],
      "source": [
        "from transformers import AutoModelForSequenceClassification, AutoTokenizer\n"
      ]
    },
    {
      "cell_type": "code",
      "execution_count": 8,
      "metadata": {
        "colab": {
          "base_uri": "https://localhost:8080/",
          "referenced_widgets": [
            "91a23638067c4dc7ab3a416212b62b8b",
            "49845e679c9b4e89abb6ec4818120762",
            "5adf5ba846914231b08293d4db2262ea",
            "d56e79ea9d624f728e2ce48516a1df53",
            "6d2a68647b8944a589932daed0e775a5",
            "a4ac8b5bc78840ec9887fca7a2784f55",
            "9b87a03f57414c07990fbc285ed95135",
            "ff1ca9ccc01648cf8007279344d14a9a",
            "cf88313006c649ae811e44272481913a",
            "52ea7c1740d64f27a349e5bd5c507d7f",
            "b3bdbda5a626418ebe2fbb904506befa",
            "648e28eb1c4e4903a3a6debb4e2c6e8d",
            "f8211b0452514d40af600bb9fadc3193",
            "5f267b537b75432cb746d9761f9dc424",
            "54d4e4395abf4f61bb5057d168d72852",
            "10e567d2f55e4f4480fce3698c905008",
            "2267c9c689e643c3991b0e1c961a29ec",
            "46d7b9862ec34975b421a99ce096b6ce",
            "9f05543611e044fc9f4537b9f5ef3d83",
            "9d78c4c01c1c461e821034332a22ecb0",
            "edd3c0dac35c4347979164feac1af96f",
            "8b85ffbe51ea44cbb13bc9bc58e55654",
            "5285b51adfb84248a27d753743d5f690",
            "8ef1f9d8d68d440fa54bf17b52af7fad",
            "c6fddce6918d4b13920db86eb0abb393",
            "cfa48014c6c746af90c31925f518c2d5",
            "a3502bc64216431a9251df1a53d7e764",
            "2f8d1ff60cee4f7ebf914c44f351c445",
            "32904e55fd204ab5a239e066bf3b1ddd",
            "81d63c6d75424e9b86c1305440cd1f4b",
            "04364c85dd3d4c3e9dba12c7b8a361d1",
            "ae00008536f44e6b998f0cd378308f7c",
            "6498537257f64f839b9ee6cc2e8e09b6",
            "0d117522d0d8410a903ce9cc3b3d103a",
            "0546fdb0ab094c4891e6ab474ad0db7a",
            "b7ecb1ebae0a488793626e74bc1766df",
            "3b03c937fc054fbe85a033f51f46d72e",
            "8cf51edd0dbf47b188571c23a34df20b",
            "92d03274da734a42a67238eada3c2c85",
            "96365b9eab2146f8b89bed15a068e1b1",
            "3c8bc76951a8467aa03639d2c43015a3",
            "5693f1559ba54277bb6fc91dd0ee3d07",
            "81dbe7a8d82345b09626de2b9cdc8f11",
            "dfc7f17ead4f4c88bb2dccc917d7a62b",
            "4936ebf5f5c9401391c0c0844766f47c",
            "dd4730209e064beab095f9989ec5797d",
            "78613c9d4c1449948530003d20b354d4",
            "d3e553531b194b1b8b1b773be47be694",
            "33585211f7ae4ddda6f7405c1546707f",
            "f324c2be33494227ba2003f21ce54b77",
            "fcd6caef97db4f0790f2b83f501ee47e",
            "33b41b72e2fe49ad8d11f30befd77a48",
            "32572cb8e1254d0ea6487cef05dfc919",
            "bf144e552d074288bdf1d8c888c08af6",
            "327f16782e8945538eed7d0726507c21"
          ]
        },
        "id": "UY-ozV3X7M3J",
        "outputId": "1e026a27-aea5-451a-b4b2-b0babab5371c"
      },
      "outputs": [
        {
          "name": "stderr",
          "output_type": "stream",
          "text": [
            "/mnt/4CC63D9CC63D876C/loncos/Text-Detoxification-in-Spanish/env/lib/python3.8/site-packages/huggingface_hub/file_download.py:1150: FutureWarning: `resume_download` is deprecated and will be removed in version 1.0.0. Downloads always resume when possible. If you want to force a new download, use `force_download=True`.\n",
            "  warnings.warn(\n"
          ]
        }
      ],
      "source": [
        "from transformers import RobertaForMaskedLM, RobertaTokenizer\n",
        "model_name = \"pysentimiento/robertuito-base-uncased\" #Robertuito\n",
        "tokenizer = AutoTokenizer.from_pretrained(model_name)\n",
        "model = RobertaForMaskedLM.from_pretrained(model_name)"
      ]
    },
    {
      "cell_type": "code",
      "execution_count": 9,
      "metadata": {
        "id": "UnjDIGsXTGeS"
      },
      "outputs": [],
      "source": [
        "#model_name = 'dccuchile/bert-base-spanish-wwm-uncased' #BETO\n",
        "#tokenizer = BertTokenizer.from_pretrained(model_name)\n",
        "#model = BertForMaskedLM.from_pretrained(model_name)"
      ]
    },
    {
      "cell_type": "code",
      "execution_count": 10,
      "metadata": {
        "id": "ym6teU_lTGeU"
      },
      "outputs": [
        {
          "data": {
            "text/plain": [
              "RobertaForMaskedLM(\n",
              "  (roberta): RobertaModel(\n",
              "    (embeddings): RobertaEmbeddings(\n",
              "      (word_embeddings): Embedding(30000, 768, padding_idx=1)\n",
              "      (position_embeddings): Embedding(130, 768, padding_idx=1)\n",
              "      (token_type_embeddings): Embedding(1, 768)\n",
              "      (LayerNorm): LayerNorm((768,), eps=1e-12, elementwise_affine=True)\n",
              "      (dropout): Dropout(p=0.1, inplace=False)\n",
              "    )\n",
              "    (encoder): RobertaEncoder(\n",
              "      (layer): ModuleList(\n",
              "        (0-11): 12 x RobertaLayer(\n",
              "          (attention): RobertaAttention(\n",
              "            (self): RobertaSelfAttention(\n",
              "              (query): Linear(in_features=768, out_features=768, bias=True)\n",
              "              (key): Linear(in_features=768, out_features=768, bias=True)\n",
              "              (value): Linear(in_features=768, out_features=768, bias=True)\n",
              "              (dropout): Dropout(p=0.1, inplace=False)\n",
              "            )\n",
              "            (output): RobertaSelfOutput(\n",
              "              (dense): Linear(in_features=768, out_features=768, bias=True)\n",
              "              (LayerNorm): LayerNorm((768,), eps=1e-12, elementwise_affine=True)\n",
              "              (dropout): Dropout(p=0.1, inplace=False)\n",
              "            )\n",
              "          )\n",
              "          (intermediate): RobertaIntermediate(\n",
              "            (dense): Linear(in_features=768, out_features=3072, bias=True)\n",
              "            (intermediate_act_fn): GELUActivation()\n",
              "          )\n",
              "          (output): RobertaOutput(\n",
              "            (dense): Linear(in_features=3072, out_features=768, bias=True)\n",
              "            (LayerNorm): LayerNorm((768,), eps=1e-12, elementwise_affine=True)\n",
              "            (dropout): Dropout(p=0.1, inplace=False)\n",
              "          )\n",
              "        )\n",
              "      )\n",
              "    )\n",
              "  )\n",
              "  (lm_head): RobertaLMHead(\n",
              "    (dense): Linear(in_features=768, out_features=768, bias=True)\n",
              "    (layer_norm): LayerNorm((768,), eps=1e-12, elementwise_affine=True)\n",
              "    (decoder): Linear(in_features=768, out_features=30000, bias=True)\n",
              "  )\n",
              ")"
            ]
          },
          "execution_count": 10,
          "metadata": {},
          "output_type": "execute_result"
        }
      ],
      "source": [
        "model.to(device)"
      ]
    },
    {
      "cell_type": "markdown",
      "metadata": {
        "id": "OLFNo3VCTGeU"
      },
      "source": [
        "# 2. Preparing the vocabularires."
      ]
    },
    {
      "cell_type": "markdown",
      "metadata": {
        "id": "dNvdRZMoTGeV"
      },
      "source": [
        "\n",
        "- negative-words.txt\n",
        "- positive-words.txt\n",
        "- word2coef.pkl\n",
        "- token_toxicities.txt\n",
        "\n",
        "These files should be prepared once."
      ]
    },
    {
      "cell_type": "code",
      "execution_count": 11,
      "metadata": {
        "id": "WYHFWYu9TGeV"
      },
      "outputs": [],
      "source": [
        "tox_corpus_path = '../../data/processed/toxicCorpusWSpellErr.txt'\n",
        "norm_corpus_path = '../../data/processed/normalCorpusWSpellErr.txt'"
      ]
    },
    {
      "cell_type": "code",
      "execution_count": 12,
      "metadata": {
        "id": "R1OBqsubTGeV"
      },
      "outputs": [],
      "source": [
        "if not os.path.exists(VOCAB_DIRNAME):\n",
        "    os.makedirs(VOCAB_DIRNAME)"
      ]
    },
    {
      "cell_type": "markdown",
      "metadata": {
        "id": "OM4aR-I5TGeW"
      },
      "source": [
        "### 2.1 Preparing the DRG-like vocabularies"
      ]
    },
    {
      "cell_type": "code",
      "execution_count": 13,
      "metadata": {
        "colab": {
          "base_uri": "https://localhost:8080/"
        },
        "id": "6e2U-c_lwVaW",
        "outputId": "0ac138e7-b187-4c93-a1e3-e217aa0c9651"
      },
      "outputs": [
        {
          "name": "stderr",
          "output_type": "stream",
          "text": [
            "[nltk_data] Downloading package stopwords to\n",
            "[nltk_data]     /home/gabriel/nltk_data...\n",
            "[nltk_data]   Package stopwords is already up-to-date!\n"
          ]
        }
      ],
      "source": [
        "import nltk\n",
        "from nltk.corpus import stopwords\n",
        "\n",
        "nltk.download('stopwords')\n",
        "from sklearn.feature_extraction.text import CountVectorizer\n",
        "\n",
        "custom_stop_words = stopwords.words('spanish')\n"
      ]
    },
    {
      "cell_type": "code",
      "execution_count": 14,
      "metadata": {
        "id": "ObUQtA5kTGeW"
      },
      "outputs": [],
      "source": [
        "import os\n",
        "import argparse\n",
        "import numpy as np\n",
        "from tqdm import tqdm\n",
        "from nltk import ngrams\n",
        "from sklearn.linear_model import LogisticRegression\n",
        "from sklearn.feature_extraction.text import TfidfVectorizer, CountVectorizer\n",
        "\n",
        "class NgramSalienceCalculator():\n",
        "    def __init__(self, tox_corpus, norm_corpus, use_ngrams=False):\n",
        "        ngrams = (1, 3) if use_ngrams else (1, 1)\n",
        "        self.vectorizer = CountVectorizer(ngram_range=ngrams, stop_words=custom_stop_words)\n",
        "\n",
        "        tox_count_matrix = self.vectorizer.fit_transform(tox_corpus)\n",
        "        self.tox_vocab = self.vectorizer.vocabulary_\n",
        "        self.tox_counts = np.sum(tox_count_matrix, axis=0)\n",
        "\n",
        "        norm_count_matrix = self.vectorizer.fit_transform(norm_corpus)\n",
        "        self.norm_vocab = self.vectorizer.vocabulary_\n",
        "        self.norm_counts = np.sum(norm_count_matrix, axis=0)\n",
        "\n",
        "    def salience(self, feature, attribute='tox', lmbda=0.5):\n",
        "        assert attribute in ['tox', 'norm']\n",
        "        if feature not in self.tox_vocab:\n",
        "            tox_count = 0.0\n",
        "        else:\n",
        "            tox_count = self.tox_counts[0, self.tox_vocab[feature]]\n",
        "\n",
        "        if feature not in self.norm_vocab:\n",
        "            norm_count = 0.0\n",
        "        else:\n",
        "            norm_count = self.norm_counts[0, self.norm_vocab[feature]]\n",
        "\n",
        "        if attribute == 'tox':\n",
        "            return (tox_count + lmbda) / (norm_count + lmbda)\n",
        "        else:\n",
        "            return (norm_count + lmbda) / (tox_count + lmbda)\n"
      ]
    },
    {
      "cell_type": "code",
      "execution_count": 15,
      "metadata": {
        "colab": {
          "base_uri": "https://localhost:8080/"
        },
        "id": "8BGJjjgVTGeW",
        "outputId": "e0189a9e-81ba-4f2d-8bb9-66f8c3cd1a1a"
      },
      "outputs": [],
      "source": [
        "from collections import Counter\n",
        "c = Counter()\n",
        "\n",
        "for fn in [tox_corpus_path, norm_corpus_path]:\n",
        "    with open(fn, 'r') as corpus:\n",
        "        for line in corpus.readlines():\n",
        "            for tok in line.strip().split():\n",
        "                c[tok] += 1"
      ]
    },
    {
      "cell_type": "code",
      "execution_count": 16,
      "metadata": {
        "colab": {
          "base_uri": "https://localhost:8080/"
        },
        "id": "Loqo1cpXTGeX",
        "outputId": "af53aedd-6433-4b9b-9c08-47946e6574b9"
      },
      "outputs": [],
      "source": [
        "vocab = {w for w, _ in c.most_common() if _ > 0 and  len(w)>2}  # if we took words with > 1 occurences, vocabulary would be x2 smaller, but we'll survive this size"
      ]
    },
    {
      "cell_type": "code",
      "execution_count": 17,
      "metadata": {
        "id": "ueqf7Y5cTGeX"
      },
      "outputs": [],
      "source": [
        "with open(tox_corpus_path, 'r') as tox_corpus, open(norm_corpus_path, 'r') as norm_corpus:\n",
        "    corpus_tox = [' '.join([w if w in vocab else '<unk>' for w in line.strip().split()]) for line in tox_corpus.readlines()]\n",
        "    corpus_norm = [' '.join([w if w in vocab else '<unk>' for w in line.strip().split()]) for line in norm_corpus.readlines()]"
      ]
    },
    {
      "cell_type": "code",
      "execution_count": 18,
      "metadata": {
        "id": "TQgCTb5TTGeX"
      },
      "outputs": [],
      "source": [
        "neg_out_name = VOCAB_DIRNAME + '/negative-words.txt'\n",
        "pos_out_name = VOCAB_DIRNAME + '/positive-words.txt'"
      ]
    },
    {
      "cell_type": "code",
      "execution_count": 19,
      "metadata": {
        "id": "jCOQOZv8TGeY"
      },
      "outputs": [],
      "source": [
        "threshold = 4"
      ]
    },
    {
      "cell_type": "code",
      "execution_count": 20,
      "metadata": {
        "id": "FP9D9aA40DTN"
      },
      "outputs": [],
      "source": [
        "import pandas as pd"
      ]
    },
    {
      "cell_type": "code",
      "execution_count": 21,
      "metadata": {
        "id": "8ULG4TMMSASE"
      },
      "outputs": [],
      "source": [
        "inmi = pd.read_csv('../../data/lexicons/immigrant_lexicon.txt', sep='\\t', names=['token'])\n",
        "ins = pd.read_csv('../../data/lexicons/insults_lexicon.txt', sep='\\t', names=['token'])\n",
        "miso = pd.read_csv('../../data/lexicons/misogyny_lexicon.txt', sep='\\t', names=['token'])\n",
        "xeno = pd.read_csv('../../data/lexicons/xenophobia_lexicon.txt', sep='\\t', names=['token'])\n",
        "que = pd.read_csv('../../data/lexicons/badwords_quechua.txt', sep='\\t', names=['token'])"
      ]
    },
    {
      "cell_type": "code",
      "execution_count": 22,
      "metadata": {
        "id": "46kGatQ1SMED"
      },
      "outputs": [],
      "source": [
        "tokens_lexicon = pd.concat([inmi,ins, miso, xeno,que], axis=0)"
      ]
    },
    {
      "cell_type": "code",
      "execution_count": 23,
      "metadata": {
        "id": "1-wx5d6sS5HW"
      },
      "outputs": [],
      "source": [
        "tokens_lexicon=tokens_lexicon.reset_index(drop=True)"
      ]
    },
    {
      "cell_type": "code",
      "execution_count": 24,
      "metadata": {
        "id": "-WQNAR6xeTLY"
      },
      "outputs": [],
      "source": [
        "import spacy\n",
        "nlp = spacy.load('es_core_news_sm')\n",
        "\n",
        "def es_adjetivo(palabra):\n",
        "    doc = nlp(palabra)\n",
        "    for token in doc:\n",
        "        if token.pos_ == 'ADJ':\n",
        "            return True\n",
        "\n",
        "    return False"
      ]
    },
    {
      "cell_type": "code",
      "execution_count": 25,
      "metadata": {
        "id": "34974tgZTGeY"
      },
      "outputs": [],
      "source": [
        "sc = NgramSalienceCalculator(corpus_tox, corpus_norm, False)\n",
        "seen_grams = set(tuple(row) for row in tokens_lexicon.itertuples(index=False))\n",
        "\n",
        "with open(neg_out_name, 'w') as neg_out, open(pos_out_name, 'w') as pos_out:\n",
        "    for gram in set(sc.tox_vocab.keys()).union(set(sc.norm_vocab.keys())):\n",
        "        if gram not in seen_grams and es_adjetivo(gram):\n",
        "            seen_grams.add(gram)\n",
        "            toxic_salience = sc.salience(gram, attribute='tox')\n",
        "            polite_salience = sc.salience(gram, attribute='norm')\n",
        "            if toxic_salience > threshold:\n",
        "                neg_out.writelines(f'{gram}\\n')\n",
        "            elif polite_salience > threshold:\n",
        "                pos_out.writelines(f'{gram}\\n')"
      ]
    },
    {
      "cell_type": "code",
      "execution_count": 26,
      "metadata": {
        "id": "PgGSe0M3Hp0W"
      },
      "outputs": [],
      "source": [
        "with open(neg_out_name, 'a') as neg_out:\n",
        "  for tok in tokens_lexicon[\"token\"]:\n",
        "    neg_out.writelines(f'{tok}\\n')"
      ]
    },
    {
      "cell_type": "markdown",
      "metadata": {
        "id": "hqqycgtATGeY"
      },
      "source": [
        "## 2.2 Evaluating word toxicities with a logistic regression"
      ]
    },
    {
      "cell_type": "code",
      "execution_count": 27,
      "metadata": {
        "id": "M0b0zWmdTGeZ"
      },
      "outputs": [],
      "source": [
        "from sklearn.pipeline import make_pipeline\n",
        "pipe = make_pipeline(CountVectorizer(stop_words=custom_stop_words), LogisticRegression(max_iter=1000))"
      ]
    },
    {
      "cell_type": "code",
      "execution_count": 28,
      "metadata": {
        "id": "R-__fEjwTGeZ"
      },
      "outputs": [
        {
          "name": "stderr",
          "output_type": "stream",
          "text": [
            "/mnt/4CC63D9CC63D876C/loncos/Text-Detoxification-in-Spanish/env/lib/python3.8/site-packages/sklearn/linear_model/_logistic.py:460: ConvergenceWarning: lbfgs failed to converge (status=1):\n",
            "STOP: TOTAL NO. of ITERATIONS REACHED LIMIT.\n",
            "\n",
            "Increase the number of iterations (max_iter) or scale the data as shown in:\n",
            "    https://scikit-learn.org/stable/modules/preprocessing.html\n",
            "Please also refer to the documentation for alternative solver options:\n",
            "    https://scikit-learn.org/stable/modules/linear_model.html#logistic-regression\n",
            "  n_iter_i = _check_optimize_result(\n"
          ]
        }
      ],
      "source": [
        "X_train = corpus_tox + corpus_norm\n",
        "y_train = [1] * len(corpus_tox) + [0] * len(corpus_norm)\n",
        "pipe.fit(X_train, y_train);"
      ]
    },
    {
      "cell_type": "code",
      "execution_count": 29,
      "metadata": {
        "colab": {
          "base_uri": "https://localhost:8080/"
        },
        "id": "KAa3ZwdXTGeZ",
        "outputId": "9ec68af9-596f-456f-c06a-b6bb13ba5afd"
      },
      "outputs": [
        {
          "data": {
            "text/plain": [
              "(387168,)"
            ]
          },
          "execution_count": 29,
          "metadata": {},
          "output_type": "execute_result"
        }
      ],
      "source": [
        "coefs = pipe[1].coef_[0]\n",
        "coefs.shape"
      ]
    },
    {
      "cell_type": "code",
      "execution_count": 30,
      "metadata": {
        "id": "jGAjj_waTGea"
      },
      "outputs": [],
      "source": [
        "word2coef = {w: coefs[idx] for w, idx in pipe[0].vocabulary_.items()}"
      ]
    },
    {
      "cell_type": "code",
      "execution_count": 31,
      "metadata": {
        "id": "GVi5GGh6XoMh"
      },
      "outputs": [],
      "source": [
        "for token in tokens_lexicon['token']:\n",
        "    word2coef[token] = 5"
      ]
    },
    {
      "cell_type": "code",
      "execution_count": 32,
      "metadata": {
        "id": "LrmRRPs4TGeb"
      },
      "outputs": [],
      "source": [
        "import pickle\n",
        "with open(VOCAB_DIRNAME + '/word2coef.pkl', 'wb') as f:\n",
        "    pickle.dump(word2coef, f)"
      ]
    },
    {
      "cell_type": "markdown",
      "metadata": {
        "id": "2UAVOKdSTGeb"
      },
      "source": [
        "## 2.3 Labelling BERT tokens by toxicity"
      ]
    },
    {
      "cell_type": "code",
      "execution_count": 33,
      "metadata": {
        "colab": {
          "base_uri": "https://localhost:8080/"
        },
        "id": "65YfbIzxTGeb",
        "outputId": "1577675a-e33b-4139-e03a-c6fcc194882e"
      },
      "outputs": [
        {
          "name": "stderr",
          "output_type": "stream",
          "text": [
            "100%|██████████| 142907/142907 [00:11<00:00, 12231.72it/s]\n",
            "100%|██████████| 251944/251944 [00:37<00:00, 6751.47it/s]\n"
          ]
        }
      ],
      "source": [
        "from collections import defaultdict\n",
        "toxic_counter = defaultdict(lambda: 1)\n",
        "nontoxic_counter = defaultdict(lambda: 1)\n",
        "\n",
        "for text in tqdm(corpus_tox):\n",
        "    for token in tokenizer.encode(text):\n",
        "        toxic_counter[token] += 1\n",
        "for text in tqdm(corpus_norm):\n",
        "    for token in tokenizer.encode(text):\n",
        "        nontoxic_counter[token] += 1"
      ]
    },
    {
      "cell_type": "code",
      "execution_count": 34,
      "metadata": {
        "id": "ve6NFJGrTGeb"
      },
      "outputs": [],
      "source": [
        "token_toxicities = [toxic_counter[i] / (nontoxic_counter[i] + toxic_counter[i]) for i in range(len(tokenizer.vocab))]"
      ]
    },
    {
      "cell_type": "code",
      "execution_count": 35,
      "metadata": {
        "id": "uDm9v27qTGec"
      },
      "outputs": [],
      "source": [
        "with open(VOCAB_DIRNAME + '/token_toxicities.txt', 'w') as f:\n",
        "    for t in token_toxicities:\n",
        "        f.write(str(t))\n",
        "        f.write('\\n')"
      ]
    },
    {
      "cell_type": "markdown",
      "metadata": {
        "id": "hNZGwX95TGec"
      },
      "source": [
        "# 3. Setting up the model"
      ]
    },
    {
      "cell_type": "markdown",
      "metadata": {
        "id": "BUsrHeztTGec"
      },
      "source": [
        "### 3.1 Loading the vocabularies"
      ]
    },
    {
      "cell_type": "code",
      "execution_count": 36,
      "metadata": {
        "id": "Zp-aObQPTGec"
      },
      "outputs": [],
      "source": [
        "with open(VOCAB_DIRNAME + \"/negative-words.txt\", \"r\") as f:\n",
        "    s = f.readlines()\n",
        "negative_words = list(map(lambda x: x[:-1], s))\n",
        "\n",
        "with open(VOCAB_DIRNAME + \"/positive-words.txt\", \"r\") as f:\n",
        "    s = f.readlines()\n",
        "positive_words = list(map(lambda x: x[:-1], s))"
      ]
    },
    {
      "cell_type": "code",
      "execution_count": 37,
      "metadata": {
        "id": "4srN5nEVTGed"
      },
      "outputs": [],
      "source": [
        "import pickle\n",
        "with open(VOCAB_DIRNAME + '/word2coef.pkl', 'rb') as f:\n",
        "    word2coef = pickle.load(f)"
      ]
    },
    {
      "cell_type": "code",
      "execution_count": 38,
      "metadata": {
        "id": "P0b_xp1sTGed"
      },
      "outputs": [],
      "source": [
        "token_toxicities = []\n",
        "with open(VOCAB_DIRNAME + '/token_toxicities.txt', 'r') as f:\n",
        "    for line in f.readlines():\n",
        "        token_toxicities.append(float(line))\n",
        "token_toxicities = np.array(token_toxicities)\n",
        "token_toxicities = np.maximum(0, np.log(1/(1/token_toxicities-1)))   # log odds ratio\n",
        "\n",
        "# discourage meaningless tokens\n",
        "for tok in ['.', ',', '-']:\n",
        "    token_toxicities[tokenizer.encode(tok)][1] = 3\n",
        "\n",
        "for tok in ['you']:\n",
        "    token_toxicities[tokenizer.encode(tok)][1] = 0"
      ]
    },
    {
      "cell_type": "code",
      "execution_count": 39,
      "metadata": {
        "id": "bhM6Ti42TGed"
      },
      "outputs": [],
      "source": [
        "def adjust_logits(logits, label=0):\n",
        "    return logits - token_toxicities * 100 * (1 - 2 * label)\n",
        "\n",
        "predictor = MaskedTokenPredictorBert(model, tokenizer, max_len=250, device=device, label=0, contrast_penalty=0.0, logits_postprocessor=adjust_logits)\n",
        "\n",
        "editor = CondBertRewriter(\n",
        "    model=model,\n",
        "    tokenizer=tokenizer,\n",
        "    device=device,\n",
        "    neg_words=negative_words,\n",
        "    pos_words=positive_words,\n",
        "    word2coef=word2coef,\n",
        "    token_toxicities=token_toxicities,\n",
        "    predictor=predictor,\n",
        ")"
      ]
    },
    {
      "cell_type": "markdown",
      "metadata": {
        "id": "n0GGXNgLTGed"
      },
      "source": [
        "The model below is used for reranking BERT hypotheses and helps to increase semantic similarity by choosing the hypotheses with  embeddings similar to the orignal words."
      ]
    },
    {
      "cell_type": "code",
      "execution_count": 40,
      "metadata": {
        "colab": {
          "base_uri": "https://localhost:8080/"
        },
        "id": "dbRJ0yztTGek",
        "outputId": "7e035afe-1f42-456c-ba6a-b0229b5577cd"
      },
      "outputs": [],
      "source": [
        "chooser = EmbeddingSimilarityChooser(sim_coef=10, tokenizer=tokenizer)"
      ]
    },
    {
      "cell_type": "markdown",
      "metadata": {
        "id": "5EjucHNgTGek"
      },
      "source": [
        "# 4. Finally, the inference"
      ]
    },
    {
      "cell_type": "code",
      "execution_count": 41,
      "metadata": {
        "colab": {
          "base_uri": "https://localhost:8080/"
        },
        "id": "YCJwtYXZIrKP",
        "outputId": "133d33b2-a5aa-4377-828d-414ddcb1ce56"
      },
      "outputs": [
        {
          "name": "stdout",
          "output_type": "stream",
          "text": [
            "oye por qué no molestas a tu santa madre?\n"
          ]
        }
      ],
      "source": [
        "print(editor.translate('Oye por qué no molestas a tu puta madre?', prnt=False))"
      ]
    },
    {
      "cell_type": "code",
      "execution_count": 42,
      "metadata": {
        "colab": {
          "base_uri": "https://localhost:8080/"
        },
        "id": "tJQhLMh6IseI",
        "outputId": "f57a0ff0-a67a-4708-a09d-2674f444ed21"
      },
      "outputs": [
        {
          "name": "stdout",
          "output_type": "stream",
          "text": [
            "['tas'] -> ['tas']\n",
            "['▁puta'] -> ['▁p', '***']\n",
            "oye por qué no molestas a tu p*** madre?\n"
          ]
        }
      ],
      "source": [
        "print(editor.replacement_loop('Oye por qué no molestas a tu puta madre?', verbose=True, chooser=chooser, n_tokens=(1, 2), n_top=10))"
      ]
    },
    {
      "cell_type": "markdown",
      "metadata": {
        "id": "xtm7rUftTGem"
      },
      "source": [
        "Parameters that could be tuned:\n",
        "* The coeffincient in `adjust_logits` - the larger it is, the more the model avoids toxic words\n",
        "* The coefficient in `EmbeddingSimilarityChooser` - the larger it is, the more the model tries to preserve content\n",
        "* n_tokens - how many words can be generated from one\n",
        "* n_top - how many BERT hypotheses are reranked"
      ]
    },
    {
      "cell_type": "code",
      "execution_count": 43,
      "metadata": {},
      "outputs": [
        {
          "name": "stdout",
          "output_type": "stream",
          "text": [
            "feminista de mierda.\n"
          ]
        }
      ],
      "source": [
        "print(editor.translate('feminista de mierda', prnt=False))"
      ]
    },
    {
      "cell_type": "code",
      "execution_count": 44,
      "metadata": {},
      "outputs": [
        {
          "name": "stdout",
          "output_type": "stream",
          "text": [
            "['▁mierda'] -> ['▁vida']\n",
            "feminista de vida\n"
          ]
        }
      ],
      "source": [
        "print(editor.replacement_loop('feminista de mierda', verbose=True, chooser=chooser, n_tokens=(1, 2), n_top=10))"
      ]
    },
    {
      "cell_type": "markdown",
      "metadata": {},
      "source": [
        "# Evaluation"
      ]
    },
    {
      "cell_type": "code",
      "execution_count": 71,
      "metadata": {},
      "outputs": [],
      "source": [
        "dataTest = pd.read_csv('../../data/processed/train_es.tsv', sep='\\t')"
      ]
    },
    {
      "cell_type": "code",
      "execution_count": 72,
      "metadata": {},
      "outputs": [
        {
          "data": {
            "text/html": [
              "<div>\n",
              "<style scoped>\n",
              "    .dataframe tbody tr th:only-of-type {\n",
              "        vertical-align: middle;\n",
              "    }\n",
              "\n",
              "    .dataframe tbody tr th {\n",
              "        vertical-align: top;\n",
              "    }\n",
              "\n",
              "    .dataframe thead th {\n",
              "        text-align: right;\n",
              "    }\n",
              "</style>\n",
              "<table border=\"1\" class=\"dataframe\">\n",
              "  <thead>\n",
              "    <tr style=\"text-align: right;\">\n",
              "      <th></th>\n",
              "      <th>id</th>\n",
              "      <th>text</th>\n",
              "      <th>HS</th>\n",
              "      <th>TR</th>\n",
              "      <th>AG</th>\n",
              "    </tr>\n",
              "  </thead>\n",
              "  <tbody>\n",
              "    <tr>\n",
              "      <th>0</th>\n",
              "      <td>20001</td>\n",
              "      <td>Easyjet quiere duplicar el número de mujeres p...</td>\n",
              "      <td>1</td>\n",
              "      <td>0</td>\n",
              "      <td>0</td>\n",
              "    </tr>\n",
              "    <tr>\n",
              "      <th>1</th>\n",
              "      <td>20002</td>\n",
              "      <td>El gobierno debe crear un control estricto de ...</td>\n",
              "      <td>1</td>\n",
              "      <td>0</td>\n",
              "      <td>0</td>\n",
              "    </tr>\n",
              "    <tr>\n",
              "      <th>2</th>\n",
              "      <td>20003</td>\n",
              "      <td>Yo veo a mujeres destruidas por acoso laboral ...</td>\n",
              "      <td>0</td>\n",
              "      <td>0</td>\n",
              "      <td>0</td>\n",
              "    </tr>\n",
              "    <tr>\n",
              "      <th>3</th>\n",
              "      <td>20004</td>\n",
              "      <td>— Yo soy respetuoso con los demás, sólamente l...</td>\n",
              "      <td>0</td>\n",
              "      <td>0</td>\n",
              "      <td>0</td>\n",
              "    </tr>\n",
              "    <tr>\n",
              "      <th>4</th>\n",
              "      <td>20007</td>\n",
              "      <td>Antonio Caballero y como ser de mal gusto e ig...</td>\n",
              "      <td>0</td>\n",
              "      <td>0</td>\n",
              "      <td>0</td>\n",
              "    </tr>\n",
              "    <tr>\n",
              "      <th>...</th>\n",
              "      <td>...</td>\n",
              "      <td>...</td>\n",
              "      <td>...</td>\n",
              "      <td>...</td>\n",
              "      <td>...</td>\n",
              "    </tr>\n",
              "    <tr>\n",
              "      <th>4464</th>\n",
              "      <td>24996</td>\n",
              "      <td>@miriaan_ac @Linaveso_2105 @HumildesSquad_ CÁL...</td>\n",
              "      <td>1</td>\n",
              "      <td>1</td>\n",
              "      <td>1</td>\n",
              "    </tr>\n",
              "    <tr>\n",
              "      <th>4465</th>\n",
              "      <td>24997</td>\n",
              "      <td>@IvanDuque presidente en Cúcuta , tenemos prob...</td>\n",
              "      <td>1</td>\n",
              "      <td>0</td>\n",
              "      <td>1</td>\n",
              "    </tr>\n",
              "    <tr>\n",
              "      <th>4466</th>\n",
              "      <td>24998</td>\n",
              "      <td>- Callaté Visto Que Te Dejo En Puta🎤🎶</td>\n",
              "      <td>0</td>\n",
              "      <td>0</td>\n",
              "      <td>0</td>\n",
              "    </tr>\n",
              "    <tr>\n",
              "      <th>4467</th>\n",
              "      <td>24999</td>\n",
              "      <td>-¿porque los hombres se casan con las mujeres?...</td>\n",
              "      <td>1</td>\n",
              "      <td>0</td>\n",
              "      <td>0</td>\n",
              "    </tr>\n",
              "    <tr>\n",
              "      <th>4468</th>\n",
              "      <td>25000</td>\n",
              "      <td>— No hay nada más lento que un caracol. — Cáll...</td>\n",
              "      <td>0</td>\n",
              "      <td>0</td>\n",
              "      <td>0</td>\n",
              "    </tr>\n",
              "  </tbody>\n",
              "</table>\n",
              "<p>4469 rows × 5 columns</p>\n",
              "</div>"
            ],
            "text/plain": [
              "         id                                               text  HS  TR  AG\n",
              "0     20001  Easyjet quiere duplicar el número de mujeres p...   1   0   0\n",
              "1     20002  El gobierno debe crear un control estricto de ...   1   0   0\n",
              "2     20003  Yo veo a mujeres destruidas por acoso laboral ...   0   0   0\n",
              "3     20004  — Yo soy respetuoso con los demás, sólamente l...   0   0   0\n",
              "4     20007  Antonio Caballero y como ser de mal gusto e ig...   0   0   0\n",
              "...     ...                                                ...  ..  ..  ..\n",
              "4464  24996  @miriaan_ac @Linaveso_2105 @HumildesSquad_ CÁL...   1   1   1\n",
              "4465  24997  @IvanDuque presidente en Cúcuta , tenemos prob...   1   0   1\n",
              "4466  24998              - Callaté Visto Que Te Dejo En Puta🎤🎶   0   0   0\n",
              "4467  24999  -¿porque los hombres se casan con las mujeres?...   1   0   0\n",
              "4468  25000  — No hay nada más lento que un caracol. — Cáll...   0   0   0\n",
              "\n",
              "[4469 rows x 5 columns]"
            ]
          },
          "execution_count": 72,
          "metadata": {},
          "output_type": "execute_result"
        }
      ],
      "source": [
        "dataTest"
      ]
    },
    {
      "cell_type": "code",
      "execution_count": 73,
      "metadata": {},
      "outputs": [],
      "source": [
        "dataTest = dataTest[\"text\"].head(50)\n"
      ]
    },
    {
      "cell_type": "code",
      "execution_count": 74,
      "metadata": {},
      "outputs": [
        {
          "data": {
            "text/plain": [
              "0     Easyjet quiere duplicar el número de mujeres p...\n",
              "1     El gobierno debe crear un control estricto de ...\n",
              "2     Yo veo a mujeres destruidas por acoso laboral ...\n",
              "3     — Yo soy respetuoso con los demás, sólamente l...\n",
              "4     Antonio Caballero y como ser de mal gusto e ig...\n",
              "5     @Zurine3 Cuánto hijo de puta sobra en el mundo...\n",
              "6     Pablo Casado debería estudiar un máster en inm...\n",
              "7     vos me haces eso te pego una patada en la cara...\n",
              "8     #Noticiasdelalinea: Detienen en Guatapanal mot...\n",
              "9             @MaivePerez Llora te lo.mereces por zorra\n",
              "10    Padres indocumentados realizaron una huelga de...\n",
              "11    No sé porque hay personas que piensan que todo...\n",
              "12    A Tomi Alegre JAKSKKSJSJ — Cállate q tdv estoy...\n",
              "13    @mspn95 @SC_ESPN Callate gallina puta y cntala...\n",
              "14    Albondigas! Casi al estilo de las fodongas per...\n",
              "15    Todos: -#NoTodosLosHombres -PPK, presidente de...\n",
              "16    El juez cita a declarar a la menor que denunci...\n",
              "17    VAMOOOO LA PUTA MADRE SE LO MERECÍA TANTO ESFU...\n",
              "18    Pd a ver si cierran de una puta vez Tv3 que no...\n",
              "19    Yo estaba claro que esta vida de trabajador in...\n",
              "20    Mira de vd estoy hasta la polla ya, no aguanto...\n",
              "21    @enkarny282 @irenejunquera No tienes ni puta i...\n",
              "22    @PepeGonzalezRP @EsmeSese Diappoler* jajaja cá...\n",
              "23    ¿Mojigatas, moralinas? ¿Neta? ¿Por estar en co...\n",
              "24    Si cualquier cosa es violación o acoso, se min...\n",
              "25    Que divertido que consideres que una piba por ...\n",
              "26    Odio los viejos que se creen que se merecen to...\n",
              "27             @elultimopeter Tu eres demasiado perra 😂\n",
              "28    @Manu_Sainz @elchiringuito El papapapartido im...\n",
              "29    @Setxuki @Daii__24 callate la puta boca gordo ...\n",
              "30    Es un gran regalo???? Y una polla un regalo, a...\n",
              "31    me saqué un 9 en el final de biología para vos...\n",
              "32    @ValentinaaCruz Puteria y perico también somos...\n",
              "33    @PatonGuzman eres una verdadera cagada, puto, ...\n",
              "34    I added a video to a @YouTube playlist https:/...\n",
              "35    @AgusMariano17 @astrobrix @saintlean asi le di...\n",
              "36    @intonarumori13 Cállate y ven ya joder hostia ...\n",
              "37    Dos amigos hablando: -Raúl, q me das por mi mu...\n",
              "38      @AngeAlvarez7 Callate perra, re despierta estoy\n",
              "39    #esdemexicanos que te digan güero aunque seas ...\n",
              "40    Ah vaina, ¿ahora no puedo criticar porque soy ...\n",
              "41    Immigration ? Invasion ? Entrada masiva de INM...\n",
              "42    De esto que estás escribiendo y te preguntas l...\n",
              "43    En ese listado deben estar de segundo los árab...\n",
              "44    Querida tú eres una puta sin llenadero.. que d...\n",
              "45    Guyana recibirá $30 mil de Unicef para atender...\n",
              "46    Cómo cuando estás bien prietita y te dicen güe...\n",
              "47    @DrodriguezVen tu eres la perra mas perra de l...\n",
              "48    Inmigrantes intentan fugarse de Ceuta escondid...\n",
              "49    @Proctologo Maldito hijo de perra... no sé por...\n",
              "Name: text, dtype: object"
            ]
          },
          "execution_count": 74,
          "metadata": {},
          "output_type": "execute_result"
        }
      ],
      "source": [
        "dataTest"
      ]
    },
    {
      "cell_type": "code",
      "execution_count": 75,
      "metadata": {},
      "outputs": [],
      "source": [
        "test = []\n",
        "for twt in dataTest:\n",
        "    test.append(editor.translate(twt, prnt=False))"
      ]
    },
    {
      "cell_type": "code",
      "execution_count": 76,
      "metadata": {},
      "outputs": [
        {
          "data": {
            "text/plain": [
              "[\"easyjet quiere duplicar el número de mujeres piloto' verás tú para aparcar el avión.. http://t.co/46nulkm09x\",\n",
              " 'el gobierno debe crear un control estricto de inmigración en las zonas fronterizas con colombia por q después del 20-8 querrán venir en masa',\n",
              " 'Yo veo a mujeres destruidas por acoso laboral y callejero. Otras con depresión debido a violación sexual o maltrato físico. Y conocí a varias que se suicidaron por este tipo de comportamientos machistas. Vas a seguir con tu show pobre? https://t.co/JE6MEgvIh4',\n",
              " ' yo soy respetuoso con los demás, sólamente les recuerdo lo que son. y si son escoria no es culpa mía. ...  ¡claro que lo sé! ¿¡por quién me tomas!?',\n",
              " 'antonio caballero y como ser de mal gusto e ignorante a la vez. claro que no es lo mismo acoso sexual y violación pero hay varias conductas que componen la violencia sexual.',\n",
              " '@zurine3 cuánto hijo de puta, sobra en el mundo...',\n",
              " 'Pablo Casado debería estudiar un máster en inmigración https://t.co/Pcz6GPJ6dG',\n",
              " 'vos me haces eso te pego una patada en la cara https://t.co/2drqUu5Rwc',\n",
              " '#noticiasdelalinea: detienen en guatapanal motocicleta y nacional haitiano indocumentado https://t.co/qs9mtkddqk',\n",
              " '@maiveperez llora te lo.mereces por url',\n",
              " 'padres indocumentados realizaron una huelga de hambre para pedir ser liberados https://t.co/zpubt8kurk https://t.co/zrentrv0kq',\n",
              " 'no sé porque hay personas que piensan que todos los migrantes son delincuentes',\n",
              " 'a tomi alegre jakskksjsj  cállate q tdv estoy de duelo . https://t.co/ilhp09ozck',\n",
              " '@mspn95 @sc_espn callate gallina puta, y cntala cmo quieras!! bolso culo frio!! jajajaaj hijooo',\n",
              " 'albondigas! casi al estilo de las fodongas pero en el gabacho.',\n",
              " 'todos: -#notodosloshombres -ppk, presidente de lujo -perú no va al mundial 2017: já, ilusos.',\n",
              " 'el juez cita a declarar a la menor que denunció abusos por parte de jugadores de la #arandina https://t.co/vd92mxs04q https://t.co/kbtiyipwol',\n",
              " 'vamoooo la gente madre se lo merecía tanto esfuerzo y haber pasado tantos teléfonos necesitábamos este descanso #soltartenoestáenmisplanesmica',\n",
              " 'pd a ver si cierran de una santa vez tv3 que no sé todavía qué servicio público ofrece para que merezca dinero de nuestros impuestos o solo hace daño que roben unos?',\n",
              " 'yo estaba claro que esta vida de trabajador inmigrante fundido máquina iba a ser difícil. y es verdad, es difícil jajaja',\n",
              " 'Mira de vd estoy hasta la polla ya, no aguanto más tonterías',\n",
              " '@enkarny282 @irenejunquera no tienes ni una idea.la melodia es mi novia es sevillista...una santa mas.',\n",
              " '@pepegonzalezrp @esmesese diappoler* jajaja cállate pepe niño polla si me han llenado de notificaciónes jajajajaja',\n",
              " '¿Mojigatas, moralinas? ¿Neta? ¿Por estar en contra del acoso sexual y la violación en el trabajo?',\n",
              " 'Si cualquier cosa es violación o acoso, se minimizan la violación y el acoso. Por lo tanto, pierden las víctimas de las mierdas que se dedican a violar y/o acosar.',\n",
              " 'que divertido que consideres que una piba por estar con uno con novia es una lacra... si mal no recuerdo tambien te habias meti con uno con novia, no hay que hacer lo que no nos gusta que nos hagan',\n",
              " 'odio los viejos que se creen que se merecen todo, hijo de puta, tú lo que te mereces es una tumba.',\n",
              " '@elultimopeter tu eres demasiado url ',\n",
              " '@manu_sainz @elchiringuito el papapapartido imimimporta... callate tartaja!!! come polla de madeira',\n",
              " '@setxuki @daii__24 callate la santa boca gordo almagro',\n",
              " 'es un gran regalo???? y una polla un regalo, aquí no le han regalado nada. se lo ha currado muchísimo, ya vale con las tonterías #otgala8',\n",
              " 'me saqué un 9 en el final de biología para vos hija de puta, q no me quisiste promocionar por unas centésimas en tu cara y en tu cancha',\n",
              " '@valentinaacruz puteria y perico también somos almas gemelas excepto que tu eres puta, desde él vientre.',\n",
              " '@patonguzman eres una verdadera cagada, puto, mierda, entre la mierda, por eso a los putos argentos, sudakas miserables, se le aborrece, por escorias como mico sorete mal parido',\n",
              " 'i added a video to a @youtube playlist https://t.co/lwxlqnkxyq el güero bastidas - enigma norteño (2011)',\n",
              " '@agusmariano17 @astrobrix @saintlean asi le digo a tu mami callate url',\n",
              " '@intonarumori13 cállate y ven ya joder hostia url',\n",
              " 'Dos amigos hablando: -Raúl, q me das por mi mujer? -Nada -Trato hecho.',\n",
              " '@angealvarez7 callate perra, re despierta estoy',\n",
              " '#esdemexicanos que te digan güero aunque seas mas negro que la noche',\n",
              " 'ah vaina, ¿ahora no puedo criticar porque soy inmigrante? dios mío ¿por que hay gente así?  https://t.co/rahmxdl7g1',\n",
              " 'immigration ? invasion ? entrada masiva de migrantes subsaharianos a ceuta | españa https://t.co/sue4dozlxb via @youtub information passée sous silence par les médias belges #desinformation',\n",
              " 'de esto que estás escribiendo y te preguntas lo callada que está la perra. miras hacia atrás y te encuentras esto. https://t.co/lkdwuvhgaj',\n",
              " 'en ese listado deben estar de segundo los árabes y chinos que nos tienen jodidos. vienen de sus países con una mano delante y una atrás y consiguen préstamos gigantescos para sus negocios y para maltratar al venezolano. acá en margarita se ve mucho esa vaina https://t.co/ghdymtl68v',\n",
              " 'querida tú eres una puta, sin llenadero.. que dicen tus hijos de tu nuevo amor? sigues siendo su ejemplo ',\n",
              " 'guyana recibirá $30 mil de unicef para atender a refugiados venezolanos -  https://t.co/qat9ezivvw https://t.co/8jm5ezcitq',\n",
              " 'Cómo cuando estás bien prietita y te dicen güera jajaja',\n",
              " '@drodriguezven tu eres la perros mas bella de las perras',\n",
              " 'migrantes intentan fugarse de ceuta escondidos en un ferry https://t.co/pzsyxikvuh vía',\n",
              " '@proctologo maldita hijo de pu... no sé por que no se fue por una santa letrina en su pueblo y se ahogó en mierda, como lo merecia.']"
            ]
          },
          "execution_count": 76,
          "metadata": {},
          "output_type": "execute_result"
        }
      ],
      "source": [
        "test"
      ]
    },
    {
      "cell_type": "code",
      "execution_count": 78,
      "metadata": {},
      "outputs": [
        {
          "name": "stdout",
          "output_type": "stream",
          "text": [
            "2024-10-08 20:56:49,629 Warning: An empty Sentence was created! Are there empty strings in your dataset?\n",
            "2024-10-08 20:56:49,629 Warning: An empty Sentence was created! Are there empty strings in your dataset?\n",
            "2024-10-08 20:56:49,630 Warning: An empty Sentence was created! Are there empty strings in your dataset?\n",
            "2024-10-08 20:56:49,630 Warning: An empty Sentence was created! Are there empty strings in your dataset?\n",
            "2024-10-08 20:56:49,631 Warning: An empty Sentence was created! Are there empty strings in your dataset?\n",
            "2024-10-08 20:56:49,631 Warning: An empty Sentence was created! Are there empty strings in your dataset?\n",
            "2024-10-08 20:56:49,632 Warning: An empty Sentence was created! Are there empty strings in your dataset?\n",
            "2024-10-08 20:56:49,632 Warning: An empty Sentence was created! Are there empty strings in your dataset?\n",
            "2024-10-08 20:56:49,633 Warning: An empty Sentence was created! Are there empty strings in your dataset?\n",
            "2024-10-08 20:56:53,900 Warning: An empty Sentence was created! Are there empty strings in your dataset?\n",
            "2024-10-08 20:56:53,901 Warning: An empty Sentence was created! Are there empty strings in your dataset?\n",
            "2024-10-08 20:56:53,901 Warning: An empty Sentence was created! Are there empty strings in your dataset?\n",
            "2024-10-08 20:56:53,902 Warning: An empty Sentence was created! Are there empty strings in your dataset?\n",
            "2024-10-08 20:56:53,903 Warning: An empty Sentence was created! Are there empty strings in your dataset?\n",
            "2024-10-08 20:56:53,903 Warning: An empty Sentence was created! Are there empty strings in your dataset?\n",
            "2024-10-08 20:56:53,904 Warning: An empty Sentence was created! Are there empty strings in your dataset?\n",
            "2024-10-08 20:56:53,904 Warning: An empty Sentence was created! Are there empty strings in your dataset?\n",
            "2024-10-08 20:56:53,905 Warning: An empty Sentence was created! Are there empty strings in your dataset?\n",
            "2024-10-08 20:56:53,906 Warning: An empty Sentence was created! Are there empty strings in your dataset?\n",
            "2024-10-08 20:57:06,865 Warning: An empty Sentence was created! Are there empty strings in your dataset?\n",
            "2024-10-08 20:57:06,865 Warning: An empty Sentence was created! Are there empty strings in your dataset?\n",
            "2024-10-08 20:57:06,866 Warning: An empty Sentence was created! Are there empty strings in your dataset?\n",
            "2024-10-08 20:57:06,867 Warning: An empty Sentence was created! Are there empty strings in your dataset?\n",
            "2024-10-08 20:57:06,867 Warning: An empty Sentence was created! Are there empty strings in your dataset?\n",
            "2024-10-08 20:57:06,868 Warning: An empty Sentence was created! Are there empty strings in your dataset?\n",
            "2024-10-08 20:57:06,868 Warning: An empty Sentence was created! Are there empty strings in your dataset?\n",
            "2024-10-08 20:57:06,869 Warning: An empty Sentence was created! Are there empty strings in your dataset?\n",
            "2024-10-08 20:57:07,294 Warning: An empty Sentence was created! Are there empty strings in your dataset?\n",
            "2024-10-08 20:57:07,295 Warning: An empty Sentence was created! Are there empty strings in your dataset?\n",
            "2024-10-08 20:57:07,295 Warning: An empty Sentence was created! Are there empty strings in your dataset?\n",
            "2024-10-08 20:57:07,296 Warning: An empty Sentence was created! Are there empty strings in your dataset?\n",
            "2024-10-08 20:57:07,296 Warning: An empty Sentence was created! Are there empty strings in your dataset?\n",
            "2024-10-08 20:57:07,297 Warning: An empty Sentence was created! Are there empty strings in your dataset?\n",
            "2024-10-08 20:57:07,298 Warning: An empty Sentence was created! Are there empty strings in your dataset?\n",
            "2024-10-08 20:57:07,298 Warning: An empty Sentence was created! Are there empty strings in your dataset?\n",
            "2024-10-08 20:57:07,299 Warning: An empty Sentence was created! Are there empty strings in your dataset?\n",
            "2024-10-08 20:57:07,299 Warning: An empty Sentence was created! Are there empty strings in your dataset?\n",
            "2024-10-08 20:57:10,045 Warning: An empty Sentence was created! Are there empty strings in your dataset?\n",
            "2024-10-08 20:57:10,045 Warning: An empty Sentence was created! Are there empty strings in your dataset?\n",
            "2024-10-08 20:57:10,046 Warning: An empty Sentence was created! Are there empty strings in your dataset?\n",
            "2024-10-08 20:57:10,047 Warning: An empty Sentence was created! Are there empty strings in your dataset?\n",
            "2024-10-08 20:57:10,047 Warning: An empty Sentence was created! Are there empty strings in your dataset?\n",
            "2024-10-08 20:57:10,047 Warning: An empty Sentence was created! Are there empty strings in your dataset?\n",
            "2024-10-08 20:57:10,048 Warning: An empty Sentence was created! Are there empty strings in your dataset?\n",
            "2024-10-08 20:57:10,048 Warning: An empty Sentence was created! Are there empty strings in your dataset?\n",
            "2024-10-08 20:57:10,049 Warning: An empty Sentence was created! Are there empty strings in your dataset?\n"
          ]
        },
        {
          "data": {
            "text/plain": [
              "[\"easyjet quiere duplicar el número de mujeres piloto' verás tú para aparcar el avión.. http://t.co/46nulkm09x\",\n",
              " 'el gobierno debe crear un control estricto de inmigración en las zonas fronterizas con colombia por q después del 20-8querrán venir en masa',\n",
              " 'Yo veo a mujeres destruidas por acoso laboral y callejero. Otras con depresión debido a violación sexual o maltrato físico. Y conocí a varias que se suicidaron por este tipo de comportamientos machistas. Vas a seguir con tu show pobre? https://t.co/JE6MEgvIh4',\n",
              " ' yo soy respetuoso con los demás, sólamenme cuando les recuerdo lo que son. y si son escoria no es culpa mía. ...  ¡claro que lo sé! ¿¡por quién me tomas!?',\n",
              " 'antonio caballero y como ser de mal gusto e ignorante a la vez. claro que no es lo mismo acoso sexual y violación pero hay varias conductas, muchas más que componen la violencia sexual.',\n",
              " '@zurine3 cuánto hijo de puta, gente así sobra en el mundo...',\n",
              " 'Pablo Casado debería estudiar un máster en inmigración https://t.co/Pcz6GPJ6dG',\n",
              " 'vos me haces eso te pego una patada en la cara https://t.co/2drqUu5Rwc',\n",
              " '#noticiasdelalinea: detienen en guatapanal motocicleta y nacional haitiano indocumentado https://t.co/qs9mtkddqk',\n",
              " '@maiveperez llora te lo.mereces por tan excelente',\n",
              " 'padres con hijos. indocumentados realizaron una huelga de hambre para pedir ser liberados https://t.co/zpubt8kurk https://t.co/zrentrv0kq',\n",
              " 'no sé porque hay personas que piensan que todos los que son políticos son delincuentes',\n",
              " 'a tomi alegre jakskksjsj  cállate q tdv estoy de duelo https://t.co/ilhp09ozck',\n",
              " '@mspn95 @sc_espn callate gallina puta, y cntala cmo quieras!! bolso culo comun!! jajajaaj hijooo',\n",
              " 'albondigas! casi al estilo de las fodongas pero en el gabacho.',\n",
              " 'todos: -#notodosloshombres -ppk, presidente de lujo -perú no va al mundial 2017: já, ilusos.',\n",
              " 'el juez cita a declarar a la menor que denunció abusos por parte de jugadores de la #arandina https://t.co/vd92mxs04q https://t.co/kbtiyipwol',\n",
              " 'vamoooo la conc tu madre se lo merecía tanto esfuerzo y haber pasado tantos teléfonos necesitábamos este descanso #soltartenoestáenmisplanesmica',\n",
              " 'pd a ver si cierran de una p*ta vez tv3 que no sé todavía qué servicio público ofrece para que merezca dinero de nuestros impuestos o solo hace daño que roben unos?',\n",
              " 'yo estaba claro que esta vida de trabajador (integrante fundido máquina iba a ser difícil. y es verdad, es difícil jajaja',\n",
              " 'Mira de vd estoy hasta la polla ya, no aguanto más tonterías',\n",
              " '@enkarny282 @irenejunquera no tienes ni p*ta idea.la melodia es mi novia es sevillista...una de sus canciones mas.',\n",
              " '@pepegonzalezrp @esmesese diappoler* jajaja cállate pepe niño polla si me han llenado de notificaciónes jajajajaja',\n",
              " '¿Mojigatas, moralinas? ¿Neta? ¿Por estar en contra del acoso sexual y la violación en el trabajo?',\n",
              " 'Si cualquier cosa es violación o acoso, se minimizan la violación y el acoso. Por lo tanto, pierden las víctimas de las mierdas que se dedican a violar y/o acosar.',\n",
              " 'que divertido que consideres que una piba por estar con uno con novia es una persona totalmente diferente... si mal no recuerdo tambien te habias re confundido con uno con novia, no hay que hacer lo que no nos gusta que nos hagan',\n",
              " 'odio los viejos que se creen que se merecen todo, hijo de puta, sin vida tú lo que te mereces es una tumba.',\n",
              " '@elultimopeter tu eres demasiado de los dos ',\n",
              " '@manu_sainz @elchiringuito el papapapartido imimimporta... callate tartaja!!! come polla de madeira',\n",
              " '@setxuki @daii__24 callate la puta, boca gordo almagro',\n",
              " 'es un gran regalo???? y una polla un regalo, aquí no le han regalado nada. se lo ha currado muchísimo, ya vale con las tonterías #otgala8',\n",
              " 'me saqué un 9 en el final de biología para vos hija de puta, q no me quisiste promocionar por unas centésimas en tu cara y en tu cancha',\n",
              " '@valentinaacruz puteria y perico también somos almas gemelas excepto que tu eres puta, desde él vientre.',\n",
              " '@patonguzman eres una verdadera cagada, puto, mierda, entre la mierda, por eso a los putos argentos, con murad y miserables, se le aborrece, por escorias como estas, cinico sorete mal parido',\n",
              " 'i added a video to a @youtube playlist https://t.co/lwxlqnkxyq el güero bastidas - enigma norteño (2011)',\n",
              " '@agusmariano17 @astrobrix @saintlean asi le digo a tu mami callate perros',\n",
              " '@intonarumori13 cállate y ven ya joder hostia',\n",
              " 'Dos amigos hablando: -Raúl, q me das por mi mujer? -Nada -Trato hecho.',\n",
              " '@angealvarez7 callate perra, re despierta estoy',\n",
              " '#esdemexicanos que te digan güero aunque seas mas güera, y que la noche',\n",
              " 'ah vaina, ¿ahora no puedo criticar porque soy una trans inmigrante? dios mío ¿por que hay gente así?  https://t.co/rahmxdl7g1',\n",
              " 'immigration ? invasion ? entrada masiva de ilegales subsaharianos a ceuta | españa https://t.co/sue4dozlxb via @ryoutub information passée sous silence par les médias belges #desinformation',\n",
              " 'de esto que estás escribiendo y te preguntas lo callada que está la perra. miras hacia atrás y te encuentras esto. https://t.co/lkdwuvhgaj',\n",
              " 'en ese listado deben estar de segundo los cubanos, árabes y chinos que nos tienen jodidos. vienen de sus países con una mano delante y una atrás y consiguen préstamos gigantescos para sus negocios y para maltratar al venezolano. acá en margarita se ve mucho esa vaina https://t.co/ghdymtl68v',\n",
              " 'querida tú eres una persona tan grande sin llenadero.. que dicen tus hijos de tu nuevo amor? sigues siendo su ejemplo ',\n",
              " 'guyana recibirá $30 mil de unicef para atender a refugiados venezolanos -  https://t.co/qat9ezivvw https://t.co/8jm5ezcitq',\n",
              " 'Cómo cuando estás bien prietita y te dicen güera jajaja',\n",
              " '@drodriguezven tu eres la mas bella, la mas mas bella de las perras',\n",
              " 'ilegales intentan fugarse de ceuta escondidos en un ferry https://t.co/pzsyxikvuh vía',\n",
              " '@proctologo: un verdadero hijo de pu... no sé por que no se fue por una maldita letrina en su pueblo y se ahogó en mierda, como lo merecia.']"
            ]
          },
          "execution_count": 78,
          "metadata": {},
          "output_type": "execute_result"
        }
      ],
      "source": [
        "test2 = []\n",
        "for twt in dataTest:\n",
        "    test2.append(editor.replacement_loop(twt, verbose=False, chooser=chooser, n_tokens=(1, 2, 3), n_top=10))\n",
        "test2"
      ]
    },
    {
      "cell_type": "code",
      "execution_count": 79,
      "metadata": {},
      "outputs": [
        {
          "name": "stdout",
          "output_type": "stream",
          "text": [
            "@zurine3 cuánto hijo de puta, gente así sobra en el mundo\n"
          ]
        }
      ],
      "source": [
        "print(editor.translate('@zurine3 cuánto hijo de puta, gente así sobra en el mundo', prnt=False))"
      ]
    },
    {
      "cell_type": "code",
      "execution_count": 80,
      "metadata": {},
      "outputs": [
        {
          "name": "stdout",
          "output_type": "stream",
          "text": [
            "['ine'] -> ['ine']\n",
            "@zurine3 cuánto hijo de puta, gente así sobra en el mundo\n"
          ]
        }
      ],
      "source": [
        "print(editor.replacement_loop('@zurine3 cuánto hijo de puta, gente así sobra en el mundo', verbose=True, chooser=chooser, n_tokens=(1, 2), n_top=10))"
      ]
    },
    {
      "cell_type": "code",
      "execution_count": null,
      "metadata": {},
      "outputs": [],
      "source": []
    }
  ],
  "metadata": {
    "accelerator": "GPU",
    "colab": {
      "collapsed_sections": [
        "Y3knhe94TGeO",
        "OLFNo3VCTGeU",
        "OM4aR-I5TGeW"
      ],
      "gpuType": "T4",
      "provenance": []
    },
    "kernelspec": {
      "display_name": "env",
      "language": "python",
      "name": "python3"
    },
    "language_info": {
      "codemirror_mode": {
        "name": "ipython",
        "version": 3
      },
      "file_extension": ".py",
      "mimetype": "text/x-python",
      "name": "python",
      "nbconvert_exporter": "python",
      "pygments_lexer": "ipython3",
      "version": "3.8.19"
    },
    "widgets": {
      "application/vnd.jupyter.widget-state+json": {
        "04364c85dd3d4c3e9dba12c7b8a361d1": {
          "model_module": "@jupyter-widgets/controls",
          "model_module_version": "1.5.0",
          "model_name": "ProgressStyleModel",
          "state": {
            "_model_module": "@jupyter-widgets/controls",
            "_model_module_version": "1.5.0",
            "_model_name": "ProgressStyleModel",
            "_view_count": null,
            "_view_module": "@jupyter-widgets/base",
            "_view_module_version": "1.2.0",
            "_view_name": "StyleView",
            "bar_color": null,
            "description_width": ""
          }
        },
        "0546fdb0ab094c4891e6ab474ad0db7a": {
          "model_module": "@jupyter-widgets/controls",
          "model_module_version": "1.5.0",
          "model_name": "HTMLModel",
          "state": {
            "_dom_classes": [],
            "_model_module": "@jupyter-widgets/controls",
            "_model_module_version": "1.5.0",
            "_model_name": "HTMLModel",
            "_view_count": null,
            "_view_module": "@jupyter-widgets/controls",
            "_view_module_version": "1.5.0",
            "_view_name": "HTMLView",
            "description": "",
            "description_tooltip": null,
            "layout": "IPY_MODEL_92d03274da734a42a67238eada3c2c85",
            "placeholder": "​",
            "style": "IPY_MODEL_96365b9eab2146f8b89bed15a068e1b1",
            "value": "config.json: 100%"
          }
        },
        "0d117522d0d8410a903ce9cc3b3d103a": {
          "model_module": "@jupyter-widgets/controls",
          "model_module_version": "1.5.0",
          "model_name": "HBoxModel",
          "state": {
            "_dom_classes": [],
            "_model_module": "@jupyter-widgets/controls",
            "_model_module_version": "1.5.0",
            "_model_name": "HBoxModel",
            "_view_count": null,
            "_view_module": "@jupyter-widgets/controls",
            "_view_module_version": "1.5.0",
            "_view_name": "HBoxView",
            "box_style": "",
            "children": [
              "IPY_MODEL_0546fdb0ab094c4891e6ab474ad0db7a",
              "IPY_MODEL_b7ecb1ebae0a488793626e74bc1766df",
              "IPY_MODEL_3b03c937fc054fbe85a033f51f46d72e"
            ],
            "layout": "IPY_MODEL_8cf51edd0dbf47b188571c23a34df20b"
          }
        },
        "10e567d2f55e4f4480fce3698c905008": {
          "model_module": "@jupyter-widgets/base",
          "model_module_version": "1.2.0",
          "model_name": "LayoutModel",
          "state": {
            "_model_module": "@jupyter-widgets/base",
            "_model_module_version": "1.2.0",
            "_model_name": "LayoutModel",
            "_view_count": null,
            "_view_module": "@jupyter-widgets/base",
            "_view_module_version": "1.2.0",
            "_view_name": "LayoutView",
            "align_content": null,
            "align_items": null,
            "align_self": null,
            "border": null,
            "bottom": null,
            "display": null,
            "flex": null,
            "flex_flow": null,
            "grid_area": null,
            "grid_auto_columns": null,
            "grid_auto_flow": null,
            "grid_auto_rows": null,
            "grid_column": null,
            "grid_gap": null,
            "grid_row": null,
            "grid_template_areas": null,
            "grid_template_columns": null,
            "grid_template_rows": null,
            "height": null,
            "justify_content": null,
            "justify_items": null,
            "left": null,
            "margin": null,
            "max_height": null,
            "max_width": null,
            "min_height": null,
            "min_width": null,
            "object_fit": null,
            "object_position": null,
            "order": null,
            "overflow": null,
            "overflow_x": null,
            "overflow_y": null,
            "padding": null,
            "right": null,
            "top": null,
            "visibility": null,
            "width": null
          }
        },
        "2267c9c689e643c3991b0e1c961a29ec": {
          "model_module": "@jupyter-widgets/base",
          "model_module_version": "1.2.0",
          "model_name": "LayoutModel",
          "state": {
            "_model_module": "@jupyter-widgets/base",
            "_model_module_version": "1.2.0",
            "_model_name": "LayoutModel",
            "_view_count": null,
            "_view_module": "@jupyter-widgets/base",
            "_view_module_version": "1.2.0",
            "_view_name": "LayoutView",
            "align_content": null,
            "align_items": null,
            "align_self": null,
            "border": null,
            "bottom": null,
            "display": null,
            "flex": null,
            "flex_flow": null,
            "grid_area": null,
            "grid_auto_columns": null,
            "grid_auto_flow": null,
            "grid_auto_rows": null,
            "grid_column": null,
            "grid_gap": null,
            "grid_row": null,
            "grid_template_areas": null,
            "grid_template_columns": null,
            "grid_template_rows": null,
            "height": null,
            "justify_content": null,
            "justify_items": null,
            "left": null,
            "margin": null,
            "max_height": null,
            "max_width": null,
            "min_height": null,
            "min_width": null,
            "object_fit": null,
            "object_position": null,
            "order": null,
            "overflow": null,
            "overflow_x": null,
            "overflow_y": null,
            "padding": null,
            "right": null,
            "top": null,
            "visibility": null,
            "width": null
          }
        },
        "2f8d1ff60cee4f7ebf914c44f351c445": {
          "model_module": "@jupyter-widgets/base",
          "model_module_version": "1.2.0",
          "model_name": "LayoutModel",
          "state": {
            "_model_module": "@jupyter-widgets/base",
            "_model_module_version": "1.2.0",
            "_model_name": "LayoutModel",
            "_view_count": null,
            "_view_module": "@jupyter-widgets/base",
            "_view_module_version": "1.2.0",
            "_view_name": "LayoutView",
            "align_content": null,
            "align_items": null,
            "align_self": null,
            "border": null,
            "bottom": null,
            "display": null,
            "flex": null,
            "flex_flow": null,
            "grid_area": null,
            "grid_auto_columns": null,
            "grid_auto_flow": null,
            "grid_auto_rows": null,
            "grid_column": null,
            "grid_gap": null,
            "grid_row": null,
            "grid_template_areas": null,
            "grid_template_columns": null,
            "grid_template_rows": null,
            "height": null,
            "justify_content": null,
            "justify_items": null,
            "left": null,
            "margin": null,
            "max_height": null,
            "max_width": null,
            "min_height": null,
            "min_width": null,
            "object_fit": null,
            "object_position": null,
            "order": null,
            "overflow": null,
            "overflow_x": null,
            "overflow_y": null,
            "padding": null,
            "right": null,
            "top": null,
            "visibility": null,
            "width": null
          }
        },
        "32572cb8e1254d0ea6487cef05dfc919": {
          "model_module": "@jupyter-widgets/controls",
          "model_module_version": "1.5.0",
          "model_name": "ProgressStyleModel",
          "state": {
            "_model_module": "@jupyter-widgets/controls",
            "_model_module_version": "1.5.0",
            "_model_name": "ProgressStyleModel",
            "_view_count": null,
            "_view_module": "@jupyter-widgets/base",
            "_view_module_version": "1.2.0",
            "_view_name": "StyleView",
            "bar_color": null,
            "description_width": ""
          }
        },
        "327f16782e8945538eed7d0726507c21": {
          "model_module": "@jupyter-widgets/controls",
          "model_module_version": "1.5.0",
          "model_name": "DescriptionStyleModel",
          "state": {
            "_model_module": "@jupyter-widgets/controls",
            "_model_module_version": "1.5.0",
            "_model_name": "DescriptionStyleModel",
            "_view_count": null,
            "_view_module": "@jupyter-widgets/base",
            "_view_module_version": "1.2.0",
            "_view_name": "StyleView",
            "description_width": ""
          }
        },
        "32904e55fd204ab5a239e066bf3b1ddd": {
          "model_module": "@jupyter-widgets/controls",
          "model_module_version": "1.5.0",
          "model_name": "DescriptionStyleModel",
          "state": {
            "_model_module": "@jupyter-widgets/controls",
            "_model_module_version": "1.5.0",
            "_model_name": "DescriptionStyleModel",
            "_view_count": null,
            "_view_module": "@jupyter-widgets/base",
            "_view_module_version": "1.2.0",
            "_view_name": "StyleView",
            "description_width": ""
          }
        },
        "33585211f7ae4ddda6f7405c1546707f": {
          "model_module": "@jupyter-widgets/base",
          "model_module_version": "1.2.0",
          "model_name": "LayoutModel",
          "state": {
            "_model_module": "@jupyter-widgets/base",
            "_model_module_version": "1.2.0",
            "_model_name": "LayoutModel",
            "_view_count": null,
            "_view_module": "@jupyter-widgets/base",
            "_view_module_version": "1.2.0",
            "_view_name": "LayoutView",
            "align_content": null,
            "align_items": null,
            "align_self": null,
            "border": null,
            "bottom": null,
            "display": null,
            "flex": null,
            "flex_flow": null,
            "grid_area": null,
            "grid_auto_columns": null,
            "grid_auto_flow": null,
            "grid_auto_rows": null,
            "grid_column": null,
            "grid_gap": null,
            "grid_row": null,
            "grid_template_areas": null,
            "grid_template_columns": null,
            "grid_template_rows": null,
            "height": null,
            "justify_content": null,
            "justify_items": null,
            "left": null,
            "margin": null,
            "max_height": null,
            "max_width": null,
            "min_height": null,
            "min_width": null,
            "object_fit": null,
            "object_position": null,
            "order": null,
            "overflow": null,
            "overflow_x": null,
            "overflow_y": null,
            "padding": null,
            "right": null,
            "top": null,
            "visibility": null,
            "width": null
          }
        },
        "33b41b72e2fe49ad8d11f30befd77a48": {
          "model_module": "@jupyter-widgets/base",
          "model_module_version": "1.2.0",
          "model_name": "LayoutModel",
          "state": {
            "_model_module": "@jupyter-widgets/base",
            "_model_module_version": "1.2.0",
            "_model_name": "LayoutModel",
            "_view_count": null,
            "_view_module": "@jupyter-widgets/base",
            "_view_module_version": "1.2.0",
            "_view_name": "LayoutView",
            "align_content": null,
            "align_items": null,
            "align_self": null,
            "border": null,
            "bottom": null,
            "display": null,
            "flex": null,
            "flex_flow": null,
            "grid_area": null,
            "grid_auto_columns": null,
            "grid_auto_flow": null,
            "grid_auto_rows": null,
            "grid_column": null,
            "grid_gap": null,
            "grid_row": null,
            "grid_template_areas": null,
            "grid_template_columns": null,
            "grid_template_rows": null,
            "height": null,
            "justify_content": null,
            "justify_items": null,
            "left": null,
            "margin": null,
            "max_height": null,
            "max_width": null,
            "min_height": null,
            "min_width": null,
            "object_fit": null,
            "object_position": null,
            "order": null,
            "overflow": null,
            "overflow_x": null,
            "overflow_y": null,
            "padding": null,
            "right": null,
            "top": null,
            "visibility": null,
            "width": null
          }
        },
        "3b03c937fc054fbe85a033f51f46d72e": {
          "model_module": "@jupyter-widgets/controls",
          "model_module_version": "1.5.0",
          "model_name": "HTMLModel",
          "state": {
            "_dom_classes": [],
            "_model_module": "@jupyter-widgets/controls",
            "_model_module_version": "1.5.0",
            "_model_name": "HTMLModel",
            "_view_count": null,
            "_view_module": "@jupyter-widgets/controls",
            "_view_module_version": "1.5.0",
            "_view_name": "HTMLView",
            "description": "",
            "description_tooltip": null,
            "layout": "IPY_MODEL_81dbe7a8d82345b09626de2b9cdc8f11",
            "placeholder": "​",
            "style": "IPY_MODEL_dfc7f17ead4f4c88bb2dccc917d7a62b",
            "value": " 677/677 [00:00&lt;00:00, 14.1kB/s]"
          }
        },
        "3c8bc76951a8467aa03639d2c43015a3": {
          "model_module": "@jupyter-widgets/base",
          "model_module_version": "1.2.0",
          "model_name": "LayoutModel",
          "state": {
            "_model_module": "@jupyter-widgets/base",
            "_model_module_version": "1.2.0",
            "_model_name": "LayoutModel",
            "_view_count": null,
            "_view_module": "@jupyter-widgets/base",
            "_view_module_version": "1.2.0",
            "_view_name": "LayoutView",
            "align_content": null,
            "align_items": null,
            "align_self": null,
            "border": null,
            "bottom": null,
            "display": null,
            "flex": null,
            "flex_flow": null,
            "grid_area": null,
            "grid_auto_columns": null,
            "grid_auto_flow": null,
            "grid_auto_rows": null,
            "grid_column": null,
            "grid_gap": null,
            "grid_row": null,
            "grid_template_areas": null,
            "grid_template_columns": null,
            "grid_template_rows": null,
            "height": null,
            "justify_content": null,
            "justify_items": null,
            "left": null,
            "margin": null,
            "max_height": null,
            "max_width": null,
            "min_height": null,
            "min_width": null,
            "object_fit": null,
            "object_position": null,
            "order": null,
            "overflow": null,
            "overflow_x": null,
            "overflow_y": null,
            "padding": null,
            "right": null,
            "top": null,
            "visibility": null,
            "width": null
          }
        },
        "46d7b9862ec34975b421a99ce096b6ce": {
          "model_module": "@jupyter-widgets/controls",
          "model_module_version": "1.5.0",
          "model_name": "DescriptionStyleModel",
          "state": {
            "_model_module": "@jupyter-widgets/controls",
            "_model_module_version": "1.5.0",
            "_model_name": "DescriptionStyleModel",
            "_view_count": null,
            "_view_module": "@jupyter-widgets/base",
            "_view_module_version": "1.2.0",
            "_view_name": "StyleView",
            "description_width": ""
          }
        },
        "4936ebf5f5c9401391c0c0844766f47c": {
          "model_module": "@jupyter-widgets/controls",
          "model_module_version": "1.5.0",
          "model_name": "HBoxModel",
          "state": {
            "_dom_classes": [],
            "_model_module": "@jupyter-widgets/controls",
            "_model_module_version": "1.5.0",
            "_model_name": "HBoxModel",
            "_view_count": null,
            "_view_module": "@jupyter-widgets/controls",
            "_view_module_version": "1.5.0",
            "_view_name": "HBoxView",
            "box_style": "",
            "children": [
              "IPY_MODEL_dd4730209e064beab095f9989ec5797d",
              "IPY_MODEL_78613c9d4c1449948530003d20b354d4",
              "IPY_MODEL_d3e553531b194b1b8b1b773be47be694"
            ],
            "layout": "IPY_MODEL_33585211f7ae4ddda6f7405c1546707f"
          }
        },
        "49845e679c9b4e89abb6ec4818120762": {
          "model_module": "@jupyter-widgets/controls",
          "model_module_version": "1.5.0",
          "model_name": "HTMLModel",
          "state": {
            "_dom_classes": [],
            "_model_module": "@jupyter-widgets/controls",
            "_model_module_version": "1.5.0",
            "_model_name": "HTMLModel",
            "_view_count": null,
            "_view_module": "@jupyter-widgets/controls",
            "_view_module_version": "1.5.0",
            "_view_name": "HTMLView",
            "description": "",
            "description_tooltip": null,
            "layout": "IPY_MODEL_a4ac8b5bc78840ec9887fca7a2784f55",
            "placeholder": "​",
            "style": "IPY_MODEL_9b87a03f57414c07990fbc285ed95135",
            "value": "tokenizer_config.json: 100%"
          }
        },
        "5285b51adfb84248a27d753743d5f690": {
          "model_module": "@jupyter-widgets/controls",
          "model_module_version": "1.5.0",
          "model_name": "HBoxModel",
          "state": {
            "_dom_classes": [],
            "_model_module": "@jupyter-widgets/controls",
            "_model_module_version": "1.5.0",
            "_model_name": "HBoxModel",
            "_view_count": null,
            "_view_module": "@jupyter-widgets/controls",
            "_view_module_version": "1.5.0",
            "_view_name": "HBoxView",
            "box_style": "",
            "children": [
              "IPY_MODEL_8ef1f9d8d68d440fa54bf17b52af7fad",
              "IPY_MODEL_c6fddce6918d4b13920db86eb0abb393",
              "IPY_MODEL_cfa48014c6c746af90c31925f518c2d5"
            ],
            "layout": "IPY_MODEL_a3502bc64216431a9251df1a53d7e764"
          }
        },
        "52ea7c1740d64f27a349e5bd5c507d7f": {
          "model_module": "@jupyter-widgets/base",
          "model_module_version": "1.2.0",
          "model_name": "LayoutModel",
          "state": {
            "_model_module": "@jupyter-widgets/base",
            "_model_module_version": "1.2.0",
            "_model_name": "LayoutModel",
            "_view_count": null,
            "_view_module": "@jupyter-widgets/base",
            "_view_module_version": "1.2.0",
            "_view_name": "LayoutView",
            "align_content": null,
            "align_items": null,
            "align_self": null,
            "border": null,
            "bottom": null,
            "display": null,
            "flex": null,
            "flex_flow": null,
            "grid_area": null,
            "grid_auto_columns": null,
            "grid_auto_flow": null,
            "grid_auto_rows": null,
            "grid_column": null,
            "grid_gap": null,
            "grid_row": null,
            "grid_template_areas": null,
            "grid_template_columns": null,
            "grid_template_rows": null,
            "height": null,
            "justify_content": null,
            "justify_items": null,
            "left": null,
            "margin": null,
            "max_height": null,
            "max_width": null,
            "min_height": null,
            "min_width": null,
            "object_fit": null,
            "object_position": null,
            "order": null,
            "overflow": null,
            "overflow_x": null,
            "overflow_y": null,
            "padding": null,
            "right": null,
            "top": null,
            "visibility": null,
            "width": null
          }
        },
        "54d4e4395abf4f61bb5057d168d72852": {
          "model_module": "@jupyter-widgets/controls",
          "model_module_version": "1.5.0",
          "model_name": "HTMLModel",
          "state": {
            "_dom_classes": [],
            "_model_module": "@jupyter-widgets/controls",
            "_model_module_version": "1.5.0",
            "_model_name": "HTMLModel",
            "_view_count": null,
            "_view_module": "@jupyter-widgets/controls",
            "_view_module_version": "1.5.0",
            "_view_name": "HTMLView",
            "description": "",
            "description_tooltip": null,
            "layout": "IPY_MODEL_edd3c0dac35c4347979164feac1af96f",
            "placeholder": "​",
            "style": "IPY_MODEL_8b85ffbe51ea44cbb13bc9bc58e55654",
            "value": " 858k/858k [00:00&lt;00:00, 1.45MB/s]"
          }
        },
        "5693f1559ba54277bb6fc91dd0ee3d07": {
          "model_module": "@jupyter-widgets/controls",
          "model_module_version": "1.5.0",
          "model_name": "ProgressStyleModel",
          "state": {
            "_model_module": "@jupyter-widgets/controls",
            "_model_module_version": "1.5.0",
            "_model_name": "ProgressStyleModel",
            "_view_count": null,
            "_view_module": "@jupyter-widgets/base",
            "_view_module_version": "1.2.0",
            "_view_name": "StyleView",
            "bar_color": null,
            "description_width": ""
          }
        },
        "5adf5ba846914231b08293d4db2262ea": {
          "model_module": "@jupyter-widgets/controls",
          "model_module_version": "1.5.0",
          "model_name": "FloatProgressModel",
          "state": {
            "_dom_classes": [],
            "_model_module": "@jupyter-widgets/controls",
            "_model_module_version": "1.5.0",
            "_model_name": "FloatProgressModel",
            "_view_count": null,
            "_view_module": "@jupyter-widgets/controls",
            "_view_module_version": "1.5.0",
            "_view_name": "ProgressView",
            "bar_style": "success",
            "description": "",
            "description_tooltip": null,
            "layout": "IPY_MODEL_ff1ca9ccc01648cf8007279344d14a9a",
            "max": 323,
            "min": 0,
            "orientation": "horizontal",
            "style": "IPY_MODEL_cf88313006c649ae811e44272481913a",
            "value": 323
          }
        },
        "5f267b537b75432cb746d9761f9dc424": {
          "model_module": "@jupyter-widgets/controls",
          "model_module_version": "1.5.0",
          "model_name": "FloatProgressModel",
          "state": {
            "_dom_classes": [],
            "_model_module": "@jupyter-widgets/controls",
            "_model_module_version": "1.5.0",
            "_model_name": "FloatProgressModel",
            "_view_count": null,
            "_view_module": "@jupyter-widgets/controls",
            "_view_module_version": "1.5.0",
            "_view_name": "ProgressView",
            "bar_style": "success",
            "description": "",
            "description_tooltip": null,
            "layout": "IPY_MODEL_9f05543611e044fc9f4537b9f5ef3d83",
            "max": 858069,
            "min": 0,
            "orientation": "horizontal",
            "style": "IPY_MODEL_9d78c4c01c1c461e821034332a22ecb0",
            "value": 858069
          }
        },
        "648e28eb1c4e4903a3a6debb4e2c6e8d": {
          "model_module": "@jupyter-widgets/controls",
          "model_module_version": "1.5.0",
          "model_name": "HBoxModel",
          "state": {
            "_dom_classes": [],
            "_model_module": "@jupyter-widgets/controls",
            "_model_module_version": "1.5.0",
            "_model_name": "HBoxModel",
            "_view_count": null,
            "_view_module": "@jupyter-widgets/controls",
            "_view_module_version": "1.5.0",
            "_view_name": "HBoxView",
            "box_style": "",
            "children": [
              "IPY_MODEL_f8211b0452514d40af600bb9fadc3193",
              "IPY_MODEL_5f267b537b75432cb746d9761f9dc424",
              "IPY_MODEL_54d4e4395abf4f61bb5057d168d72852"
            ],
            "layout": "IPY_MODEL_10e567d2f55e4f4480fce3698c905008"
          }
        },
        "6498537257f64f839b9ee6cc2e8e09b6": {
          "model_module": "@jupyter-widgets/controls",
          "model_module_version": "1.5.0",
          "model_name": "DescriptionStyleModel",
          "state": {
            "_model_module": "@jupyter-widgets/controls",
            "_model_module_version": "1.5.0",
            "_model_name": "DescriptionStyleModel",
            "_view_count": null,
            "_view_module": "@jupyter-widgets/base",
            "_view_module_version": "1.2.0",
            "_view_name": "StyleView",
            "description_width": ""
          }
        },
        "6d2a68647b8944a589932daed0e775a5": {
          "model_module": "@jupyter-widgets/base",
          "model_module_version": "1.2.0",
          "model_name": "LayoutModel",
          "state": {
            "_model_module": "@jupyter-widgets/base",
            "_model_module_version": "1.2.0",
            "_model_name": "LayoutModel",
            "_view_count": null,
            "_view_module": "@jupyter-widgets/base",
            "_view_module_version": "1.2.0",
            "_view_name": "LayoutView",
            "align_content": null,
            "align_items": null,
            "align_self": null,
            "border": null,
            "bottom": null,
            "display": null,
            "flex": null,
            "flex_flow": null,
            "grid_area": null,
            "grid_auto_columns": null,
            "grid_auto_flow": null,
            "grid_auto_rows": null,
            "grid_column": null,
            "grid_gap": null,
            "grid_row": null,
            "grid_template_areas": null,
            "grid_template_columns": null,
            "grid_template_rows": null,
            "height": null,
            "justify_content": null,
            "justify_items": null,
            "left": null,
            "margin": null,
            "max_height": null,
            "max_width": null,
            "min_height": null,
            "min_width": null,
            "object_fit": null,
            "object_position": null,
            "order": null,
            "overflow": null,
            "overflow_x": null,
            "overflow_y": null,
            "padding": null,
            "right": null,
            "top": null,
            "visibility": null,
            "width": null
          }
        },
        "78613c9d4c1449948530003d20b354d4": {
          "model_module": "@jupyter-widgets/controls",
          "model_module_version": "1.5.0",
          "model_name": "FloatProgressModel",
          "state": {
            "_dom_classes": [],
            "_model_module": "@jupyter-widgets/controls",
            "_model_module_version": "1.5.0",
            "_model_name": "FloatProgressModel",
            "_view_count": null,
            "_view_module": "@jupyter-widgets/controls",
            "_view_module_version": "1.5.0",
            "_view_name": "ProgressView",
            "bar_style": "success",
            "description": "",
            "description_tooltip": null,
            "layout": "IPY_MODEL_33b41b72e2fe49ad8d11f30befd77a48",
            "max": 435300276,
            "min": 0,
            "orientation": "horizontal",
            "style": "IPY_MODEL_32572cb8e1254d0ea6487cef05dfc919",
            "value": 435300276
          }
        },
        "81d63c6d75424e9b86c1305440cd1f4b": {
          "model_module": "@jupyter-widgets/base",
          "model_module_version": "1.2.0",
          "model_name": "LayoutModel",
          "state": {
            "_model_module": "@jupyter-widgets/base",
            "_model_module_version": "1.2.0",
            "_model_name": "LayoutModel",
            "_view_count": null,
            "_view_module": "@jupyter-widgets/base",
            "_view_module_version": "1.2.0",
            "_view_name": "LayoutView",
            "align_content": null,
            "align_items": null,
            "align_self": null,
            "border": null,
            "bottom": null,
            "display": null,
            "flex": null,
            "flex_flow": null,
            "grid_area": null,
            "grid_auto_columns": null,
            "grid_auto_flow": null,
            "grid_auto_rows": null,
            "grid_column": null,
            "grid_gap": null,
            "grid_row": null,
            "grid_template_areas": null,
            "grid_template_columns": null,
            "grid_template_rows": null,
            "height": null,
            "justify_content": null,
            "justify_items": null,
            "left": null,
            "margin": null,
            "max_height": null,
            "max_width": null,
            "min_height": null,
            "min_width": null,
            "object_fit": null,
            "object_position": null,
            "order": null,
            "overflow": null,
            "overflow_x": null,
            "overflow_y": null,
            "padding": null,
            "right": null,
            "top": null,
            "visibility": null,
            "width": null
          }
        },
        "81dbe7a8d82345b09626de2b9cdc8f11": {
          "model_module": "@jupyter-widgets/base",
          "model_module_version": "1.2.0",
          "model_name": "LayoutModel",
          "state": {
            "_model_module": "@jupyter-widgets/base",
            "_model_module_version": "1.2.0",
            "_model_name": "LayoutModel",
            "_view_count": null,
            "_view_module": "@jupyter-widgets/base",
            "_view_module_version": "1.2.0",
            "_view_name": "LayoutView",
            "align_content": null,
            "align_items": null,
            "align_self": null,
            "border": null,
            "bottom": null,
            "display": null,
            "flex": null,
            "flex_flow": null,
            "grid_area": null,
            "grid_auto_columns": null,
            "grid_auto_flow": null,
            "grid_auto_rows": null,
            "grid_column": null,
            "grid_gap": null,
            "grid_row": null,
            "grid_template_areas": null,
            "grid_template_columns": null,
            "grid_template_rows": null,
            "height": null,
            "justify_content": null,
            "justify_items": null,
            "left": null,
            "margin": null,
            "max_height": null,
            "max_width": null,
            "min_height": null,
            "min_width": null,
            "object_fit": null,
            "object_position": null,
            "order": null,
            "overflow": null,
            "overflow_x": null,
            "overflow_y": null,
            "padding": null,
            "right": null,
            "top": null,
            "visibility": null,
            "width": null
          }
        },
        "8b85ffbe51ea44cbb13bc9bc58e55654": {
          "model_module": "@jupyter-widgets/controls",
          "model_module_version": "1.5.0",
          "model_name": "DescriptionStyleModel",
          "state": {
            "_model_module": "@jupyter-widgets/controls",
            "_model_module_version": "1.5.0",
            "_model_name": "DescriptionStyleModel",
            "_view_count": null,
            "_view_module": "@jupyter-widgets/base",
            "_view_module_version": "1.2.0",
            "_view_name": "StyleView",
            "description_width": ""
          }
        },
        "8cf51edd0dbf47b188571c23a34df20b": {
          "model_module": "@jupyter-widgets/base",
          "model_module_version": "1.2.0",
          "model_name": "LayoutModel",
          "state": {
            "_model_module": "@jupyter-widgets/base",
            "_model_module_version": "1.2.0",
            "_model_name": "LayoutModel",
            "_view_count": null,
            "_view_module": "@jupyter-widgets/base",
            "_view_module_version": "1.2.0",
            "_view_name": "LayoutView",
            "align_content": null,
            "align_items": null,
            "align_self": null,
            "border": null,
            "bottom": null,
            "display": null,
            "flex": null,
            "flex_flow": null,
            "grid_area": null,
            "grid_auto_columns": null,
            "grid_auto_flow": null,
            "grid_auto_rows": null,
            "grid_column": null,
            "grid_gap": null,
            "grid_row": null,
            "grid_template_areas": null,
            "grid_template_columns": null,
            "grid_template_rows": null,
            "height": null,
            "justify_content": null,
            "justify_items": null,
            "left": null,
            "margin": null,
            "max_height": null,
            "max_width": null,
            "min_height": null,
            "min_width": null,
            "object_fit": null,
            "object_position": null,
            "order": null,
            "overflow": null,
            "overflow_x": null,
            "overflow_y": null,
            "padding": null,
            "right": null,
            "top": null,
            "visibility": null,
            "width": null
          }
        },
        "8ef1f9d8d68d440fa54bf17b52af7fad": {
          "model_module": "@jupyter-widgets/controls",
          "model_module_version": "1.5.0",
          "model_name": "HTMLModel",
          "state": {
            "_dom_classes": [],
            "_model_module": "@jupyter-widgets/controls",
            "_model_module_version": "1.5.0",
            "_model_name": "HTMLModel",
            "_view_count": null,
            "_view_module": "@jupyter-widgets/controls",
            "_view_module_version": "1.5.0",
            "_view_name": "HTMLView",
            "description": "",
            "description_tooltip": null,
            "layout": "IPY_MODEL_2f8d1ff60cee4f7ebf914c44f351c445",
            "placeholder": "​",
            "style": "IPY_MODEL_32904e55fd204ab5a239e066bf3b1ddd",
            "value": "special_tokens_map.json: 100%"
          }
        },
        "91a23638067c4dc7ab3a416212b62b8b": {
          "model_module": "@jupyter-widgets/controls",
          "model_module_version": "1.5.0",
          "model_name": "HBoxModel",
          "state": {
            "_dom_classes": [],
            "_model_module": "@jupyter-widgets/controls",
            "_model_module_version": "1.5.0",
            "_model_name": "HBoxModel",
            "_view_count": null,
            "_view_module": "@jupyter-widgets/controls",
            "_view_module_version": "1.5.0",
            "_view_name": "HBoxView",
            "box_style": "",
            "children": [
              "IPY_MODEL_49845e679c9b4e89abb6ec4818120762",
              "IPY_MODEL_5adf5ba846914231b08293d4db2262ea",
              "IPY_MODEL_d56e79ea9d624f728e2ce48516a1df53"
            ],
            "layout": "IPY_MODEL_6d2a68647b8944a589932daed0e775a5"
          }
        },
        "92d03274da734a42a67238eada3c2c85": {
          "model_module": "@jupyter-widgets/base",
          "model_module_version": "1.2.0",
          "model_name": "LayoutModel",
          "state": {
            "_model_module": "@jupyter-widgets/base",
            "_model_module_version": "1.2.0",
            "_model_name": "LayoutModel",
            "_view_count": null,
            "_view_module": "@jupyter-widgets/base",
            "_view_module_version": "1.2.0",
            "_view_name": "LayoutView",
            "align_content": null,
            "align_items": null,
            "align_self": null,
            "border": null,
            "bottom": null,
            "display": null,
            "flex": null,
            "flex_flow": null,
            "grid_area": null,
            "grid_auto_columns": null,
            "grid_auto_flow": null,
            "grid_auto_rows": null,
            "grid_column": null,
            "grid_gap": null,
            "grid_row": null,
            "grid_template_areas": null,
            "grid_template_columns": null,
            "grid_template_rows": null,
            "height": null,
            "justify_content": null,
            "justify_items": null,
            "left": null,
            "margin": null,
            "max_height": null,
            "max_width": null,
            "min_height": null,
            "min_width": null,
            "object_fit": null,
            "object_position": null,
            "order": null,
            "overflow": null,
            "overflow_x": null,
            "overflow_y": null,
            "padding": null,
            "right": null,
            "top": null,
            "visibility": null,
            "width": null
          }
        },
        "96365b9eab2146f8b89bed15a068e1b1": {
          "model_module": "@jupyter-widgets/controls",
          "model_module_version": "1.5.0",
          "model_name": "DescriptionStyleModel",
          "state": {
            "_model_module": "@jupyter-widgets/controls",
            "_model_module_version": "1.5.0",
            "_model_name": "DescriptionStyleModel",
            "_view_count": null,
            "_view_module": "@jupyter-widgets/base",
            "_view_module_version": "1.2.0",
            "_view_name": "StyleView",
            "description_width": ""
          }
        },
        "9b87a03f57414c07990fbc285ed95135": {
          "model_module": "@jupyter-widgets/controls",
          "model_module_version": "1.5.0",
          "model_name": "DescriptionStyleModel",
          "state": {
            "_model_module": "@jupyter-widgets/controls",
            "_model_module_version": "1.5.0",
            "_model_name": "DescriptionStyleModel",
            "_view_count": null,
            "_view_module": "@jupyter-widgets/base",
            "_view_module_version": "1.2.0",
            "_view_name": "StyleView",
            "description_width": ""
          }
        },
        "9d78c4c01c1c461e821034332a22ecb0": {
          "model_module": "@jupyter-widgets/controls",
          "model_module_version": "1.5.0",
          "model_name": "ProgressStyleModel",
          "state": {
            "_model_module": "@jupyter-widgets/controls",
            "_model_module_version": "1.5.0",
            "_model_name": "ProgressStyleModel",
            "_view_count": null,
            "_view_module": "@jupyter-widgets/base",
            "_view_module_version": "1.2.0",
            "_view_name": "StyleView",
            "bar_color": null,
            "description_width": ""
          }
        },
        "9f05543611e044fc9f4537b9f5ef3d83": {
          "model_module": "@jupyter-widgets/base",
          "model_module_version": "1.2.0",
          "model_name": "LayoutModel",
          "state": {
            "_model_module": "@jupyter-widgets/base",
            "_model_module_version": "1.2.0",
            "_model_name": "LayoutModel",
            "_view_count": null,
            "_view_module": "@jupyter-widgets/base",
            "_view_module_version": "1.2.0",
            "_view_name": "LayoutView",
            "align_content": null,
            "align_items": null,
            "align_self": null,
            "border": null,
            "bottom": null,
            "display": null,
            "flex": null,
            "flex_flow": null,
            "grid_area": null,
            "grid_auto_columns": null,
            "grid_auto_flow": null,
            "grid_auto_rows": null,
            "grid_column": null,
            "grid_gap": null,
            "grid_row": null,
            "grid_template_areas": null,
            "grid_template_columns": null,
            "grid_template_rows": null,
            "height": null,
            "justify_content": null,
            "justify_items": null,
            "left": null,
            "margin": null,
            "max_height": null,
            "max_width": null,
            "min_height": null,
            "min_width": null,
            "object_fit": null,
            "object_position": null,
            "order": null,
            "overflow": null,
            "overflow_x": null,
            "overflow_y": null,
            "padding": null,
            "right": null,
            "top": null,
            "visibility": null,
            "width": null
          }
        },
        "a3502bc64216431a9251df1a53d7e764": {
          "model_module": "@jupyter-widgets/base",
          "model_module_version": "1.2.0",
          "model_name": "LayoutModel",
          "state": {
            "_model_module": "@jupyter-widgets/base",
            "_model_module_version": "1.2.0",
            "_model_name": "LayoutModel",
            "_view_count": null,
            "_view_module": "@jupyter-widgets/base",
            "_view_module_version": "1.2.0",
            "_view_name": "LayoutView",
            "align_content": null,
            "align_items": null,
            "align_self": null,
            "border": null,
            "bottom": null,
            "display": null,
            "flex": null,
            "flex_flow": null,
            "grid_area": null,
            "grid_auto_columns": null,
            "grid_auto_flow": null,
            "grid_auto_rows": null,
            "grid_column": null,
            "grid_gap": null,
            "grid_row": null,
            "grid_template_areas": null,
            "grid_template_columns": null,
            "grid_template_rows": null,
            "height": null,
            "justify_content": null,
            "justify_items": null,
            "left": null,
            "margin": null,
            "max_height": null,
            "max_width": null,
            "min_height": null,
            "min_width": null,
            "object_fit": null,
            "object_position": null,
            "order": null,
            "overflow": null,
            "overflow_x": null,
            "overflow_y": null,
            "padding": null,
            "right": null,
            "top": null,
            "visibility": null,
            "width": null
          }
        },
        "a4ac8b5bc78840ec9887fca7a2784f55": {
          "model_module": "@jupyter-widgets/base",
          "model_module_version": "1.2.0",
          "model_name": "LayoutModel",
          "state": {
            "_model_module": "@jupyter-widgets/base",
            "_model_module_version": "1.2.0",
            "_model_name": "LayoutModel",
            "_view_count": null,
            "_view_module": "@jupyter-widgets/base",
            "_view_module_version": "1.2.0",
            "_view_name": "LayoutView",
            "align_content": null,
            "align_items": null,
            "align_self": null,
            "border": null,
            "bottom": null,
            "display": null,
            "flex": null,
            "flex_flow": null,
            "grid_area": null,
            "grid_auto_columns": null,
            "grid_auto_flow": null,
            "grid_auto_rows": null,
            "grid_column": null,
            "grid_gap": null,
            "grid_row": null,
            "grid_template_areas": null,
            "grid_template_columns": null,
            "grid_template_rows": null,
            "height": null,
            "justify_content": null,
            "justify_items": null,
            "left": null,
            "margin": null,
            "max_height": null,
            "max_width": null,
            "min_height": null,
            "min_width": null,
            "object_fit": null,
            "object_position": null,
            "order": null,
            "overflow": null,
            "overflow_x": null,
            "overflow_y": null,
            "padding": null,
            "right": null,
            "top": null,
            "visibility": null,
            "width": null
          }
        },
        "ae00008536f44e6b998f0cd378308f7c": {
          "model_module": "@jupyter-widgets/base",
          "model_module_version": "1.2.0",
          "model_name": "LayoutModel",
          "state": {
            "_model_module": "@jupyter-widgets/base",
            "_model_module_version": "1.2.0",
            "_model_name": "LayoutModel",
            "_view_count": null,
            "_view_module": "@jupyter-widgets/base",
            "_view_module_version": "1.2.0",
            "_view_name": "LayoutView",
            "align_content": null,
            "align_items": null,
            "align_self": null,
            "border": null,
            "bottom": null,
            "display": null,
            "flex": null,
            "flex_flow": null,
            "grid_area": null,
            "grid_auto_columns": null,
            "grid_auto_flow": null,
            "grid_auto_rows": null,
            "grid_column": null,
            "grid_gap": null,
            "grid_row": null,
            "grid_template_areas": null,
            "grid_template_columns": null,
            "grid_template_rows": null,
            "height": null,
            "justify_content": null,
            "justify_items": null,
            "left": null,
            "margin": null,
            "max_height": null,
            "max_width": null,
            "min_height": null,
            "min_width": null,
            "object_fit": null,
            "object_position": null,
            "order": null,
            "overflow": null,
            "overflow_x": null,
            "overflow_y": null,
            "padding": null,
            "right": null,
            "top": null,
            "visibility": null,
            "width": null
          }
        },
        "b3bdbda5a626418ebe2fbb904506befa": {
          "model_module": "@jupyter-widgets/controls",
          "model_module_version": "1.5.0",
          "model_name": "DescriptionStyleModel",
          "state": {
            "_model_module": "@jupyter-widgets/controls",
            "_model_module_version": "1.5.0",
            "_model_name": "DescriptionStyleModel",
            "_view_count": null,
            "_view_module": "@jupyter-widgets/base",
            "_view_module_version": "1.2.0",
            "_view_name": "StyleView",
            "description_width": ""
          }
        },
        "b7ecb1ebae0a488793626e74bc1766df": {
          "model_module": "@jupyter-widgets/controls",
          "model_module_version": "1.5.0",
          "model_name": "FloatProgressModel",
          "state": {
            "_dom_classes": [],
            "_model_module": "@jupyter-widgets/controls",
            "_model_module_version": "1.5.0",
            "_model_name": "FloatProgressModel",
            "_view_count": null,
            "_view_module": "@jupyter-widgets/controls",
            "_view_module_version": "1.5.0",
            "_view_name": "ProgressView",
            "bar_style": "success",
            "description": "",
            "description_tooltip": null,
            "layout": "IPY_MODEL_3c8bc76951a8467aa03639d2c43015a3",
            "max": 677,
            "min": 0,
            "orientation": "horizontal",
            "style": "IPY_MODEL_5693f1559ba54277bb6fc91dd0ee3d07",
            "value": 677
          }
        },
        "bf144e552d074288bdf1d8c888c08af6": {
          "model_module": "@jupyter-widgets/base",
          "model_module_version": "1.2.0",
          "model_name": "LayoutModel",
          "state": {
            "_model_module": "@jupyter-widgets/base",
            "_model_module_version": "1.2.0",
            "_model_name": "LayoutModel",
            "_view_count": null,
            "_view_module": "@jupyter-widgets/base",
            "_view_module_version": "1.2.0",
            "_view_name": "LayoutView",
            "align_content": null,
            "align_items": null,
            "align_self": null,
            "border": null,
            "bottom": null,
            "display": null,
            "flex": null,
            "flex_flow": null,
            "grid_area": null,
            "grid_auto_columns": null,
            "grid_auto_flow": null,
            "grid_auto_rows": null,
            "grid_column": null,
            "grid_gap": null,
            "grid_row": null,
            "grid_template_areas": null,
            "grid_template_columns": null,
            "grid_template_rows": null,
            "height": null,
            "justify_content": null,
            "justify_items": null,
            "left": null,
            "margin": null,
            "max_height": null,
            "max_width": null,
            "min_height": null,
            "min_width": null,
            "object_fit": null,
            "object_position": null,
            "order": null,
            "overflow": null,
            "overflow_x": null,
            "overflow_y": null,
            "padding": null,
            "right": null,
            "top": null,
            "visibility": null,
            "width": null
          }
        },
        "c6fddce6918d4b13920db86eb0abb393": {
          "model_module": "@jupyter-widgets/controls",
          "model_module_version": "1.5.0",
          "model_name": "FloatProgressModel",
          "state": {
            "_dom_classes": [],
            "_model_module": "@jupyter-widgets/controls",
            "_model_module_version": "1.5.0",
            "_model_name": "FloatProgressModel",
            "_view_count": null,
            "_view_module": "@jupyter-widgets/controls",
            "_view_module_version": "1.5.0",
            "_view_name": "ProgressView",
            "bar_style": "success",
            "description": "",
            "description_tooltip": null,
            "layout": "IPY_MODEL_81d63c6d75424e9b86c1305440cd1f4b",
            "max": 150,
            "min": 0,
            "orientation": "horizontal",
            "style": "IPY_MODEL_04364c85dd3d4c3e9dba12c7b8a361d1",
            "value": 150
          }
        },
        "cf88313006c649ae811e44272481913a": {
          "model_module": "@jupyter-widgets/controls",
          "model_module_version": "1.5.0",
          "model_name": "ProgressStyleModel",
          "state": {
            "_model_module": "@jupyter-widgets/controls",
            "_model_module_version": "1.5.0",
            "_model_name": "ProgressStyleModel",
            "_view_count": null,
            "_view_module": "@jupyter-widgets/base",
            "_view_module_version": "1.2.0",
            "_view_name": "StyleView",
            "bar_color": null,
            "description_width": ""
          }
        },
        "cfa48014c6c746af90c31925f518c2d5": {
          "model_module": "@jupyter-widgets/controls",
          "model_module_version": "1.5.0",
          "model_name": "HTMLModel",
          "state": {
            "_dom_classes": [],
            "_model_module": "@jupyter-widgets/controls",
            "_model_module_version": "1.5.0",
            "_model_name": "HTMLModel",
            "_view_count": null,
            "_view_module": "@jupyter-widgets/controls",
            "_view_module_version": "1.5.0",
            "_view_name": "HTMLView",
            "description": "",
            "description_tooltip": null,
            "layout": "IPY_MODEL_ae00008536f44e6b998f0cd378308f7c",
            "placeholder": "​",
            "style": "IPY_MODEL_6498537257f64f839b9ee6cc2e8e09b6",
            "value": " 150/150 [00:00&lt;00:00, 3.84kB/s]"
          }
        },
        "d3e553531b194b1b8b1b773be47be694": {
          "model_module": "@jupyter-widgets/controls",
          "model_module_version": "1.5.0",
          "model_name": "HTMLModel",
          "state": {
            "_dom_classes": [],
            "_model_module": "@jupyter-widgets/controls",
            "_model_module_version": "1.5.0",
            "_model_name": "HTMLModel",
            "_view_count": null,
            "_view_module": "@jupyter-widgets/controls",
            "_view_module_version": "1.5.0",
            "_view_name": "HTMLView",
            "description": "",
            "description_tooltip": null,
            "layout": "IPY_MODEL_bf144e552d074288bdf1d8c888c08af6",
            "placeholder": "​",
            "style": "IPY_MODEL_327f16782e8945538eed7d0726507c21",
            "value": " 435M/435M [00:11&lt;00:00, 30.5MB/s]"
          }
        },
        "d56e79ea9d624f728e2ce48516a1df53": {
          "model_module": "@jupyter-widgets/controls",
          "model_module_version": "1.5.0",
          "model_name": "HTMLModel",
          "state": {
            "_dom_classes": [],
            "_model_module": "@jupyter-widgets/controls",
            "_model_module_version": "1.5.0",
            "_model_name": "HTMLModel",
            "_view_count": null,
            "_view_module": "@jupyter-widgets/controls",
            "_view_module_version": "1.5.0",
            "_view_name": "HTMLView",
            "description": "",
            "description_tooltip": null,
            "layout": "IPY_MODEL_52ea7c1740d64f27a349e5bd5c507d7f",
            "placeholder": "​",
            "style": "IPY_MODEL_b3bdbda5a626418ebe2fbb904506befa",
            "value": " 323/323 [00:00&lt;00:00, 9.14kB/s]"
          }
        },
        "dd4730209e064beab095f9989ec5797d": {
          "model_module": "@jupyter-widgets/controls",
          "model_module_version": "1.5.0",
          "model_name": "HTMLModel",
          "state": {
            "_dom_classes": [],
            "_model_module": "@jupyter-widgets/controls",
            "_model_module_version": "1.5.0",
            "_model_name": "HTMLModel",
            "_view_count": null,
            "_view_module": "@jupyter-widgets/controls",
            "_view_module_version": "1.5.0",
            "_view_name": "HTMLView",
            "description": "",
            "description_tooltip": null,
            "layout": "IPY_MODEL_f324c2be33494227ba2003f21ce54b77",
            "placeholder": "​",
            "style": "IPY_MODEL_fcd6caef97db4f0790f2b83f501ee47e",
            "value": "model.safetensors: 100%"
          }
        },
        "dfc7f17ead4f4c88bb2dccc917d7a62b": {
          "model_module": "@jupyter-widgets/controls",
          "model_module_version": "1.5.0",
          "model_name": "DescriptionStyleModel",
          "state": {
            "_model_module": "@jupyter-widgets/controls",
            "_model_module_version": "1.5.0",
            "_model_name": "DescriptionStyleModel",
            "_view_count": null,
            "_view_module": "@jupyter-widgets/base",
            "_view_module_version": "1.2.0",
            "_view_name": "StyleView",
            "description_width": ""
          }
        },
        "edd3c0dac35c4347979164feac1af96f": {
          "model_module": "@jupyter-widgets/base",
          "model_module_version": "1.2.0",
          "model_name": "LayoutModel",
          "state": {
            "_model_module": "@jupyter-widgets/base",
            "_model_module_version": "1.2.0",
            "_model_name": "LayoutModel",
            "_view_count": null,
            "_view_module": "@jupyter-widgets/base",
            "_view_module_version": "1.2.0",
            "_view_name": "LayoutView",
            "align_content": null,
            "align_items": null,
            "align_self": null,
            "border": null,
            "bottom": null,
            "display": null,
            "flex": null,
            "flex_flow": null,
            "grid_area": null,
            "grid_auto_columns": null,
            "grid_auto_flow": null,
            "grid_auto_rows": null,
            "grid_column": null,
            "grid_gap": null,
            "grid_row": null,
            "grid_template_areas": null,
            "grid_template_columns": null,
            "grid_template_rows": null,
            "height": null,
            "justify_content": null,
            "justify_items": null,
            "left": null,
            "margin": null,
            "max_height": null,
            "max_width": null,
            "min_height": null,
            "min_width": null,
            "object_fit": null,
            "object_position": null,
            "order": null,
            "overflow": null,
            "overflow_x": null,
            "overflow_y": null,
            "padding": null,
            "right": null,
            "top": null,
            "visibility": null,
            "width": null
          }
        },
        "f324c2be33494227ba2003f21ce54b77": {
          "model_module": "@jupyter-widgets/base",
          "model_module_version": "1.2.0",
          "model_name": "LayoutModel",
          "state": {
            "_model_module": "@jupyter-widgets/base",
            "_model_module_version": "1.2.0",
            "_model_name": "LayoutModel",
            "_view_count": null,
            "_view_module": "@jupyter-widgets/base",
            "_view_module_version": "1.2.0",
            "_view_name": "LayoutView",
            "align_content": null,
            "align_items": null,
            "align_self": null,
            "border": null,
            "bottom": null,
            "display": null,
            "flex": null,
            "flex_flow": null,
            "grid_area": null,
            "grid_auto_columns": null,
            "grid_auto_flow": null,
            "grid_auto_rows": null,
            "grid_column": null,
            "grid_gap": null,
            "grid_row": null,
            "grid_template_areas": null,
            "grid_template_columns": null,
            "grid_template_rows": null,
            "height": null,
            "justify_content": null,
            "justify_items": null,
            "left": null,
            "margin": null,
            "max_height": null,
            "max_width": null,
            "min_height": null,
            "min_width": null,
            "object_fit": null,
            "object_position": null,
            "order": null,
            "overflow": null,
            "overflow_x": null,
            "overflow_y": null,
            "padding": null,
            "right": null,
            "top": null,
            "visibility": null,
            "width": null
          }
        },
        "f8211b0452514d40af600bb9fadc3193": {
          "model_module": "@jupyter-widgets/controls",
          "model_module_version": "1.5.0",
          "model_name": "HTMLModel",
          "state": {
            "_dom_classes": [],
            "_model_module": "@jupyter-widgets/controls",
            "_model_module_version": "1.5.0",
            "_model_name": "HTMLModel",
            "_view_count": null,
            "_view_module": "@jupyter-widgets/controls",
            "_view_module_version": "1.5.0",
            "_view_name": "HTMLView",
            "description": "",
            "description_tooltip": null,
            "layout": "IPY_MODEL_2267c9c689e643c3991b0e1c961a29ec",
            "placeholder": "​",
            "style": "IPY_MODEL_46d7b9862ec34975b421a99ce096b6ce",
            "value": "tokenizer.json: 100%"
          }
        },
        "fcd6caef97db4f0790f2b83f501ee47e": {
          "model_module": "@jupyter-widgets/controls",
          "model_module_version": "1.5.0",
          "model_name": "DescriptionStyleModel",
          "state": {
            "_model_module": "@jupyter-widgets/controls",
            "_model_module_version": "1.5.0",
            "_model_name": "DescriptionStyleModel",
            "_view_count": null,
            "_view_module": "@jupyter-widgets/base",
            "_view_module_version": "1.2.0",
            "_view_name": "StyleView",
            "description_width": ""
          }
        },
        "ff1ca9ccc01648cf8007279344d14a9a": {
          "model_module": "@jupyter-widgets/base",
          "model_module_version": "1.2.0",
          "model_name": "LayoutModel",
          "state": {
            "_model_module": "@jupyter-widgets/base",
            "_model_module_version": "1.2.0",
            "_model_name": "LayoutModel",
            "_view_count": null,
            "_view_module": "@jupyter-widgets/base",
            "_view_module_version": "1.2.0",
            "_view_name": "LayoutView",
            "align_content": null,
            "align_items": null,
            "align_self": null,
            "border": null,
            "bottom": null,
            "display": null,
            "flex": null,
            "flex_flow": null,
            "grid_area": null,
            "grid_auto_columns": null,
            "grid_auto_flow": null,
            "grid_auto_rows": null,
            "grid_column": null,
            "grid_gap": null,
            "grid_row": null,
            "grid_template_areas": null,
            "grid_template_columns": null,
            "grid_template_rows": null,
            "height": null,
            "justify_content": null,
            "justify_items": null,
            "left": null,
            "margin": null,
            "max_height": null,
            "max_width": null,
            "min_height": null,
            "min_width": null,
            "object_fit": null,
            "object_position": null,
            "order": null,
            "overflow": null,
            "overflow_x": null,
            "overflow_y": null,
            "padding": null,
            "right": null,
            "top": null,
            "visibility": null,
            "width": null
          }
        }
      }
    }
  },
  "nbformat": 4,
  "nbformat_minor": 0
}
