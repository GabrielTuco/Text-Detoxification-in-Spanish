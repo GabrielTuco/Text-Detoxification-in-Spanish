{
  "cells": [
    {
      "cell_type": "markdown",
      "metadata": {
        "id": "NMW5FgWeTGeJ"
      },
      "source": [
        "This notebook reproduces creation of CondRoBERTuito vocabulary in Google Colaboratory.\n",
        "\n",
        "This notebook creates the files: `positive-words.txt`, `negative-words.txt`, `toxic_words.txt`, `token_toxicities.txt` and `word2coef.pkl`"
      ]
    },
    {
      "cell_type": "markdown",
      "metadata": {
        "id": "Y3knhe94TGeO"
      },
      "source": [
        "# 0. Prerequisites"
      ]
    },
    {
      "cell_type": "code",
      "execution_count": 47,
      "metadata": {
        "colab": {
          "base_uri": "https://localhost:8080/"
        },
        "id": "WlNFLG7exRky",
        "outputId": "149b23c0-e40a-40b8-d8fb-871383ea4c76"
      },
      "outputs": [
        {
          "name": "stdout",
          "output_type": "stream",
          "text": [
            "huggingface/tokenizers: The current process just got forked, after parallelism has already been used. Disabling parallelism to avoid deadlocks...\n",
            "To disable this warning, you can either:\n",
            "\t- Avoid using `tokenizers` before the fork if possible\n",
            "\t- Explicitly set the environment variable TOKENIZERS_PARALLELISM=(true | false)\n",
            "\u001b[33mDEPRECATION: https://github.com/explosion/spacy-models/releases/download/es_core_news_sm-2.3.1/es_core_news_sm-2.3.1.tar.gz#egg=es_core_news_sm==2.3.1 contains an egg fragment with a non-PEP 508 name pip 25.0 will enforce this behaviour change. A possible replacement is to use the req @ url syntax, and remove the egg fragment. Discussion can be found at https://github.com/pypa/pip/issues/11617\u001b[0m\u001b[33m\n",
            "\u001b[0mCollecting es_core_news_sm==2.3.1\n",
            "  Downloading https://github.com/explosion/spacy-models/releases/download/es_core_news_sm-2.3.1/es_core_news_sm-2.3.1.tar.gz (16.2 MB)\n",
            "\u001b[2K     \u001b[90m━━━━━━━━━━━━━━━━━━━━━━━━━━━━━━━━━━━━━━━━\u001b[0m \u001b[32m16.2/16.2 MB\u001b[0m \u001b[31m20.8 MB/s\u001b[0m eta \u001b[36m0:00:00\u001b[0m00:01\u001b[0m00:01\u001b[0m\n",
            "\u001b[?25h  Preparing metadata (setup.py) ... \u001b[?25ldone\n",
            "\u001b[?25hRequirement already satisfied: spacy<2.4.0,>=2.3.0 in /mnt/4CC63D9CC63D876C/loncos/Text-Detoxification-in-Spanish/env/lib/python3.8/site-packages (from es_core_news_sm==2.3.1) (2.3.7)\n",
            "Requirement already satisfied: numpy>=1.15.0 in /mnt/4CC63D9CC63D876C/loncos/Text-Detoxification-in-Spanish/env/lib/python3.8/site-packages (from spacy<2.4.0,>=2.3.0->es_core_news_sm==2.3.1) (1.19.5)\n",
            "Requirement already satisfied: tqdm<5.0.0,>=4.38.0 in /mnt/4CC63D9CC63D876C/loncos/Text-Detoxification-in-Spanish/env/lib/python3.8/site-packages (from spacy<2.4.0,>=2.3.0->es_core_news_sm==2.3.1) (4.66.5)\n",
            "Requirement already satisfied: murmurhash<1.1.0,>=0.28.0 in /mnt/4CC63D9CC63D876C/loncos/Text-Detoxification-in-Spanish/env/lib/python3.8/site-packages (from spacy<2.4.0,>=2.3.0->es_core_news_sm==2.3.1) (1.0.10)\n",
            "Requirement already satisfied: blis<0.8.0,>=0.4.0 in /mnt/4CC63D9CC63D876C/loncos/Text-Detoxification-in-Spanish/env/lib/python3.8/site-packages (from spacy<2.4.0,>=2.3.0->es_core_news_sm==2.3.1) (0.7.11)\n",
            "Requirement already satisfied: preshed<3.1.0,>=3.0.2 in /mnt/4CC63D9CC63D876C/loncos/Text-Detoxification-in-Spanish/env/lib/python3.8/site-packages (from spacy<2.4.0,>=2.3.0->es_core_news_sm==2.3.1) (3.0.9)\n",
            "Requirement already satisfied: cymem<2.1.0,>=2.0.2 in /mnt/4CC63D9CC63D876C/loncos/Text-Detoxification-in-Spanish/env/lib/python3.8/site-packages (from spacy<2.4.0,>=2.3.0->es_core_news_sm==2.3.1) (2.0.8)\n",
            "Requirement already satisfied: wasabi<1.1.0,>=0.4.0 in /mnt/4CC63D9CC63D876C/loncos/Text-Detoxification-in-Spanish/env/lib/python3.8/site-packages (from spacy<2.4.0,>=2.3.0->es_core_news_sm==2.3.1) (0.10.1)\n",
            "Requirement already satisfied: thinc<7.5.0,>=7.4.1 in /mnt/4CC63D9CC63D876C/loncos/Text-Detoxification-in-Spanish/env/lib/python3.8/site-packages (from spacy<2.4.0,>=2.3.0->es_core_news_sm==2.3.1) (7.4.6)\n",
            "Requirement already satisfied: srsly<1.1.0,>=1.0.2 in /mnt/4CC63D9CC63D876C/loncos/Text-Detoxification-in-Spanish/env/lib/python3.8/site-packages (from spacy<2.4.0,>=2.3.0->es_core_news_sm==2.3.1) (1.0.7)\n",
            "Requirement already satisfied: plac<1.2.0,>=0.9.6 in /mnt/4CC63D9CC63D876C/loncos/Text-Detoxification-in-Spanish/env/lib/python3.8/site-packages (from spacy<2.4.0,>=2.3.0->es_core_news_sm==2.3.1) (1.1.3)\n",
            "Requirement already satisfied: catalogue<1.1.0,>=0.0.7 in /mnt/4CC63D9CC63D876C/loncos/Text-Detoxification-in-Spanish/env/lib/python3.8/site-packages (from spacy<2.4.0,>=2.3.0->es_core_news_sm==2.3.1) (1.0.2)\n",
            "Requirement already satisfied: requests<3.0.0,>=2.13.0 in /mnt/4CC63D9CC63D876C/loncos/Text-Detoxification-in-Spanish/env/lib/python3.8/site-packages (from spacy<2.4.0,>=2.3.0->es_core_news_sm==2.3.1) (2.32.3)\n",
            "Requirement already satisfied: setuptools in /mnt/4CC63D9CC63D876C/loncos/Text-Detoxification-in-Spanish/env/lib/python3.8/site-packages (from spacy<2.4.0,>=2.3.0->es_core_news_sm==2.3.1) (56.0.0)\n",
            "Requirement already satisfied: urllib3<3,>=1.21.1 in /mnt/4CC63D9CC63D876C/loncos/Text-Detoxification-in-Spanish/env/lib/python3.8/site-packages (from requests<3.0.0,>=2.13.0->spacy<2.4.0,>=2.3.0->es_core_news_sm==2.3.1) (1.26.20)\n",
            "Requirement already satisfied: charset-normalizer<4,>=2 in /mnt/4CC63D9CC63D876C/loncos/Text-Detoxification-in-Spanish/env/lib/python3.8/site-packages (from requests<3.0.0,>=2.13.0->spacy<2.4.0,>=2.3.0->es_core_news_sm==2.3.1) (3.3.2)\n",
            "Requirement already satisfied: idna<4,>=2.5 in /mnt/4CC63D9CC63D876C/loncos/Text-Detoxification-in-Spanish/env/lib/python3.8/site-packages (from requests<3.0.0,>=2.13.0->spacy<2.4.0,>=2.3.0->es_core_news_sm==2.3.1) (3.8)\n",
            "Requirement already satisfied: certifi>=2017.4.17 in /mnt/4CC63D9CC63D876C/loncos/Text-Detoxification-in-Spanish/env/lib/python3.8/site-packages (from requests<3.0.0,>=2.13.0->spacy<2.4.0,>=2.3.0->es_core_news_sm==2.3.1) (2024.8.30)\n",
            "\u001b[33mWARNING: There was an error checking the latest version of pip.\u001b[0m\u001b[33m\n",
            "\u001b[0m\u001b[38;5;2m✔ Download and installation successful\u001b[0m\n",
            "You can now load the model via spacy.load('es_core_news_sm')\n"
          ]
        }
      ],
      "source": [
        "!python -m spacy download es_core_news_sm"
      ]
    },
    {
      "cell_type": "markdown",
      "metadata": {
        "id": "7QGTX7NNWv6G"
      },
      "source": [
        "## Setting up"
      ]
    },
    {
      "cell_type": "code",
      "execution_count": 48,
      "metadata": {
        "colab": {
          "base_uri": "https://localhost:8080/"
        },
        "id": "8EQtDc-NW6zR",
        "outputId": "fc16a55a-6ece-4528-f87d-465493b8c787"
      },
      "outputs": [
        {
          "data": {
            "text/plain": [
              "<module 'condbert' from '/mnt/4CC63D9CC63D876C/loncos/Text-Detoxification-in-Spanish/style_transfer/condBERT/condbert.py'>"
            ]
          },
          "execution_count": 48,
          "metadata": {},
          "output_type": "execute_result"
        }
      ],
      "source": [
        "from importlib import reload\n",
        "import condbert\n",
        "reload(condbert)"
      ]
    },
    {
      "cell_type": "code",
      "execution_count": 49,
      "metadata": {
        "id": "0u5mJfp2TGeP"
      },
      "outputs": [],
      "source": [
        "VOCAB_DIRNAME = 'vocab'"
      ]
    },
    {
      "cell_type": "code",
      "execution_count": 50,
      "metadata": {
        "id": "I72Hz700TGeR"
      },
      "outputs": [],
      "source": [
        "from condbert import CondBertRewriter\n",
        "from choosers import EmbeddingSimilarityChooser\n",
        "from multiword.masked_token_predictor_bert import MaskedTokenPredictorBert"
      ]
    },
    {
      "cell_type": "markdown",
      "metadata": {
        "id": "7hlfLRHyTGeR"
      },
      "source": [
        "# 1. Loading BERT"
      ]
    },
    {
      "cell_type": "code",
      "execution_count": 51,
      "metadata": {
        "id": "nCJpo0_dTGeS"
      },
      "outputs": [],
      "source": [
        "import torch\n",
        "from transformers import BertTokenizer, BertForMaskedLM\n",
        "import numpy as np\n",
        "import pickle\n",
        "import os\n",
        "from tqdm.auto import tqdm, trange"
      ]
    },
    {
      "cell_type": "code",
      "execution_count": 52,
      "metadata": {
        "id": "OK8ct_krTGeS"
      },
      "outputs": [
        {
          "name": "stdout",
          "output_type": "stream",
          "text": [
            "cuda\n"
          ]
        }
      ],
      "source": [
        "if torch.cuda.is_available():\n",
        "    device = torch.device('cuda:0')\n",
        "    print(\"cuda\")\n",
        "else:\n",
        "    device = torch.device('cpu')\n",
        "    print(\"cpu\")\n",
        "\n",
        "if device.type == 'cuda':\n",
        "    os.environ['CUDA_VISIBLE_DEVICES'] = '0'\n"
      ]
    },
    {
      "cell_type": "code",
      "execution_count": 53,
      "metadata": {
        "id": "in2DVjsdLkq8"
      },
      "outputs": [],
      "source": [
        "from transformers import AutoModelForSequenceClassification, AutoTokenizer\n"
      ]
    },
    {
      "cell_type": "code",
      "execution_count": 54,
      "metadata": {
        "colab": {
          "base_uri": "https://localhost:8080/",
          "referenced_widgets": [
            "91a23638067c4dc7ab3a416212b62b8b",
            "49845e679c9b4e89abb6ec4818120762",
            "5adf5ba846914231b08293d4db2262ea",
            "d56e79ea9d624f728e2ce48516a1df53",
            "6d2a68647b8944a589932daed0e775a5",
            "a4ac8b5bc78840ec9887fca7a2784f55",
            "9b87a03f57414c07990fbc285ed95135",
            "ff1ca9ccc01648cf8007279344d14a9a",
            "cf88313006c649ae811e44272481913a",
            "52ea7c1740d64f27a349e5bd5c507d7f",
            "b3bdbda5a626418ebe2fbb904506befa",
            "648e28eb1c4e4903a3a6debb4e2c6e8d",
            "f8211b0452514d40af600bb9fadc3193",
            "5f267b537b75432cb746d9761f9dc424",
            "54d4e4395abf4f61bb5057d168d72852",
            "10e567d2f55e4f4480fce3698c905008",
            "2267c9c689e643c3991b0e1c961a29ec",
            "46d7b9862ec34975b421a99ce096b6ce",
            "9f05543611e044fc9f4537b9f5ef3d83",
            "9d78c4c01c1c461e821034332a22ecb0",
            "edd3c0dac35c4347979164feac1af96f",
            "8b85ffbe51ea44cbb13bc9bc58e55654",
            "5285b51adfb84248a27d753743d5f690",
            "8ef1f9d8d68d440fa54bf17b52af7fad",
            "c6fddce6918d4b13920db86eb0abb393",
            "cfa48014c6c746af90c31925f518c2d5",
            "a3502bc64216431a9251df1a53d7e764",
            "2f8d1ff60cee4f7ebf914c44f351c445",
            "32904e55fd204ab5a239e066bf3b1ddd",
            "81d63c6d75424e9b86c1305440cd1f4b",
            "04364c85dd3d4c3e9dba12c7b8a361d1",
            "ae00008536f44e6b998f0cd378308f7c",
            "6498537257f64f839b9ee6cc2e8e09b6",
            "0d117522d0d8410a903ce9cc3b3d103a",
            "0546fdb0ab094c4891e6ab474ad0db7a",
            "b7ecb1ebae0a488793626e74bc1766df",
            "3b03c937fc054fbe85a033f51f46d72e",
            "8cf51edd0dbf47b188571c23a34df20b",
            "92d03274da734a42a67238eada3c2c85",
            "96365b9eab2146f8b89bed15a068e1b1",
            "3c8bc76951a8467aa03639d2c43015a3",
            "5693f1559ba54277bb6fc91dd0ee3d07",
            "81dbe7a8d82345b09626de2b9cdc8f11",
            "dfc7f17ead4f4c88bb2dccc917d7a62b",
            "4936ebf5f5c9401391c0c0844766f47c",
            "dd4730209e064beab095f9989ec5797d",
            "78613c9d4c1449948530003d20b354d4",
            "d3e553531b194b1b8b1b773be47be694",
            "33585211f7ae4ddda6f7405c1546707f",
            "f324c2be33494227ba2003f21ce54b77",
            "fcd6caef97db4f0790f2b83f501ee47e",
            "33b41b72e2fe49ad8d11f30befd77a48",
            "32572cb8e1254d0ea6487cef05dfc919",
            "bf144e552d074288bdf1d8c888c08af6",
            "327f16782e8945538eed7d0726507c21"
          ]
        },
        "id": "UY-ozV3X7M3J",
        "outputId": "1e026a27-aea5-451a-b4b2-b0babab5371c"
      },
      "outputs": [
        {
          "name": "stderr",
          "output_type": "stream",
          "text": [
            "/mnt/4CC63D9CC63D876C/loncos/Text-Detoxification-in-Spanish/env/lib/python3.8/site-packages/huggingface_hub/file_download.py:1150: FutureWarning: `resume_download` is deprecated and will be removed in version 1.0.0. Downloads always resume when possible. If you want to force a new download, use `force_download=True`.\n",
            "  warnings.warn(\n"
          ]
        }
      ],
      "source": [
        "from transformers import RobertaForMaskedLM, RobertaTokenizer\n",
        "model_name = \"pysentimiento/robertuito-base-uncased\" #Robertuito\n",
        "tokenizer = AutoTokenizer.from_pretrained(model_name)\n",
        "model = RobertaForMaskedLM.from_pretrained(model_name)"
      ]
    },
    {
      "cell_type": "code",
      "execution_count": 55,
      "metadata": {
        "id": "UnjDIGsXTGeS"
      },
      "outputs": [],
      "source": [
        "#model_name = 'dccuchile/bert-base-spanish-wwm-uncased' #BETO\n",
        "#tokenizer = BertTokenizer.from_pretrained(model_name)\n",
        "#model = BertForMaskedLM.from_pretrained(model_name)"
      ]
    },
    {
      "cell_type": "code",
      "execution_count": 56,
      "metadata": {
        "id": "ym6teU_lTGeU"
      },
      "outputs": [
        {
          "data": {
            "text/plain": [
              "RobertaForMaskedLM(\n",
              "  (roberta): RobertaModel(\n",
              "    (embeddings): RobertaEmbeddings(\n",
              "      (word_embeddings): Embedding(30000, 768, padding_idx=1)\n",
              "      (position_embeddings): Embedding(130, 768, padding_idx=1)\n",
              "      (token_type_embeddings): Embedding(1, 768)\n",
              "      (LayerNorm): LayerNorm((768,), eps=1e-12, elementwise_affine=True)\n",
              "      (dropout): Dropout(p=0.1, inplace=False)\n",
              "    )\n",
              "    (encoder): RobertaEncoder(\n",
              "      (layer): ModuleList(\n",
              "        (0-11): 12 x RobertaLayer(\n",
              "          (attention): RobertaAttention(\n",
              "            (self): RobertaSelfAttention(\n",
              "              (query): Linear(in_features=768, out_features=768, bias=True)\n",
              "              (key): Linear(in_features=768, out_features=768, bias=True)\n",
              "              (value): Linear(in_features=768, out_features=768, bias=True)\n",
              "              (dropout): Dropout(p=0.1, inplace=False)\n",
              "            )\n",
              "            (output): RobertaSelfOutput(\n",
              "              (dense): Linear(in_features=768, out_features=768, bias=True)\n",
              "              (LayerNorm): LayerNorm((768,), eps=1e-12, elementwise_affine=True)\n",
              "              (dropout): Dropout(p=0.1, inplace=False)\n",
              "            )\n",
              "          )\n",
              "          (intermediate): RobertaIntermediate(\n",
              "            (dense): Linear(in_features=768, out_features=3072, bias=True)\n",
              "            (intermediate_act_fn): GELUActivation()\n",
              "          )\n",
              "          (output): RobertaOutput(\n",
              "            (dense): Linear(in_features=3072, out_features=768, bias=True)\n",
              "            (LayerNorm): LayerNorm((768,), eps=1e-12, elementwise_affine=True)\n",
              "            (dropout): Dropout(p=0.1, inplace=False)\n",
              "          )\n",
              "        )\n",
              "      )\n",
              "    )\n",
              "  )\n",
              "  (lm_head): RobertaLMHead(\n",
              "    (dense): Linear(in_features=768, out_features=768, bias=True)\n",
              "    (layer_norm): LayerNorm((768,), eps=1e-12, elementwise_affine=True)\n",
              "    (decoder): Linear(in_features=768, out_features=30000, bias=True)\n",
              "  )\n",
              ")"
            ]
          },
          "execution_count": 56,
          "metadata": {},
          "output_type": "execute_result"
        }
      ],
      "source": [
        "model.to(device)"
      ]
    },
    {
      "cell_type": "markdown",
      "metadata": {
        "id": "OLFNo3VCTGeU"
      },
      "source": [
        "# 2. Preparing the vocabularires."
      ]
    },
    {
      "cell_type": "markdown",
      "metadata": {
        "id": "dNvdRZMoTGeV"
      },
      "source": [
        "\n",
        "- negative-words.txt\n",
        "- positive-words.txt\n",
        "- word2coef.pkl\n",
        "- token_toxicities.txt\n",
        "\n",
        "These files should be prepared once."
      ]
    },
    {
      "cell_type": "code",
      "execution_count": 57,
      "metadata": {
        "id": "WYHFWYu9TGeV"
      },
      "outputs": [],
      "source": [
        "tox_corpus_path = '../../data/processed/toxicCorpusWSpellErr.txt'\n",
        "norm_corpus_path = '../../data/processed/normalCorpusWSpellErr.txt'"
      ]
    },
    {
      "cell_type": "code",
      "execution_count": 58,
      "metadata": {
        "id": "R1OBqsubTGeV"
      },
      "outputs": [],
      "source": [
        "if not os.path.exists(VOCAB_DIRNAME):\n",
        "    os.makedirs(VOCAB_DIRNAME)"
      ]
    },
    {
      "cell_type": "markdown",
      "metadata": {
        "id": "OM4aR-I5TGeW"
      },
      "source": [
        "### 2.1 Preparing the DRG-like vocabularies"
      ]
    },
    {
      "cell_type": "code",
      "execution_count": 59,
      "metadata": {
        "colab": {
          "base_uri": "https://localhost:8080/"
        },
        "id": "6e2U-c_lwVaW",
        "outputId": "0ac138e7-b187-4c93-a1e3-e217aa0c9651"
      },
      "outputs": [
        {
          "name": "stderr",
          "output_type": "stream",
          "text": [
            "[nltk_data] Downloading package stopwords to\n",
            "[nltk_data]     /home/gabriel/nltk_data...\n",
            "[nltk_data]   Package stopwords is already up-to-date!\n"
          ]
        }
      ],
      "source": [
        "import nltk\n",
        "from nltk.corpus import stopwords\n",
        "\n",
        "nltk.download('stopwords')\n",
        "from sklearn.feature_extraction.text import CountVectorizer\n",
        "\n",
        "custom_stop_words = stopwords.words('spanish')\n"
      ]
    },
    {
      "cell_type": "code",
      "execution_count": 60,
      "metadata": {
        "id": "ObUQtA5kTGeW"
      },
      "outputs": [],
      "source": [
        "import os\n",
        "import argparse\n",
        "import numpy as np\n",
        "from tqdm import tqdm\n",
        "from nltk import ngrams\n",
        "from sklearn.linear_model import LogisticRegression\n",
        "from sklearn.feature_extraction.text import TfidfVectorizer, CountVectorizer\n",
        "\n",
        "class NgramSalienceCalculator():\n",
        "    def __init__(self, tox_corpus, norm_corpus, use_ngrams=False):\n",
        "        ngrams = (1, 3) if use_ngrams else (1, 1)\n",
        "        self.vectorizer = CountVectorizer(ngram_range=ngrams, stop_words=custom_stop_words)\n",
        "\n",
        "        tox_count_matrix = self.vectorizer.fit_transform(tox_corpus)\n",
        "        self.tox_vocab = self.vectorizer.vocabulary_\n",
        "        self.tox_counts = np.sum(tox_count_matrix, axis=0)\n",
        "\n",
        "        norm_count_matrix = self.vectorizer.fit_transform(norm_corpus)\n",
        "        self.norm_vocab = self.vectorizer.vocabulary_\n",
        "        self.norm_counts = np.sum(norm_count_matrix, axis=0)\n",
        "\n",
        "    def salience(self, feature, attribute='tox', lmbda=0.5):\n",
        "        assert attribute in ['tox', 'norm']\n",
        "        if feature not in self.tox_vocab:\n",
        "            tox_count = 0.0\n",
        "        else:\n",
        "            tox_count = self.tox_counts[0, self.tox_vocab[feature]]\n",
        "\n",
        "        if feature not in self.norm_vocab:\n",
        "            norm_count = 0.0\n",
        "        else:\n",
        "            norm_count = self.norm_counts[0, self.norm_vocab[feature]]\n",
        "\n",
        "        if attribute == 'tox':\n",
        "            return (tox_count + lmbda) / (norm_count + lmbda)\n",
        "        else:\n",
        "            return (norm_count + lmbda) / (tox_count + lmbda)\n"
      ]
    },
    {
      "cell_type": "code",
      "execution_count": 61,
      "metadata": {
        "colab": {
          "base_uri": "https://localhost:8080/"
        },
        "id": "8BGJjjgVTGeW",
        "outputId": "e0189a9e-81ba-4f2d-8bb9-66f8c3cd1a1a"
      },
      "outputs": [],
      "source": [
        "from collections import Counter\n",
        "c = Counter()\n",
        "\n",
        "for fn in [tox_corpus_path, norm_corpus_path]:\n",
        "    with open(fn, 'r') as corpus:\n",
        "        for line in corpus.readlines():\n",
        "            for tok in line.strip().split():\n",
        "                c[tok] += 1"
      ]
    },
    {
      "cell_type": "code",
      "execution_count": 62,
      "metadata": {
        "colab": {
          "base_uri": "https://localhost:8080/"
        },
        "id": "Loqo1cpXTGeX",
        "outputId": "af53aedd-6433-4b9b-9c08-47946e6574b9"
      },
      "outputs": [],
      "source": [
        "vocab = {w for w, _ in c.most_common() if _ > 0 and  len(w)>2}  # if we took words with > 1 occurences, vocabulary would be x2 smaller, but we'll survive this size"
      ]
    },
    {
      "cell_type": "code",
      "execution_count": 63,
      "metadata": {
        "id": "ueqf7Y5cTGeX"
      },
      "outputs": [],
      "source": [
        "with open(tox_corpus_path, 'r') as tox_corpus, open(norm_corpus_path, 'r') as norm_corpus:\n",
        "    corpus_tox = [' '.join([w if w in vocab else '<unk>' for w in line.strip().split()]) for line in tox_corpus.readlines()]\n",
        "    corpus_norm = [' '.join([w if w in vocab else '<unk>' for w in line.strip().split()]) for line in norm_corpus.readlines()]"
      ]
    },
    {
      "cell_type": "code",
      "execution_count": 64,
      "metadata": {
        "id": "TQgCTb5TTGeX"
      },
      "outputs": [],
      "source": [
        "neg_out_name = VOCAB_DIRNAME + '/negative-words.txt'\n",
        "pos_out_name = VOCAB_DIRNAME + '/positive-words.txt'"
      ]
    },
    {
      "cell_type": "code",
      "execution_count": 65,
      "metadata": {
        "id": "jCOQOZv8TGeY"
      },
      "outputs": [],
      "source": [
        "threshold = 4"
      ]
    },
    {
      "cell_type": "code",
      "execution_count": 66,
      "metadata": {
        "id": "FP9D9aA40DTN"
      },
      "outputs": [],
      "source": [
        "import pandas as pd"
      ]
    },
    {
      "cell_type": "code",
      "execution_count": 67,
      "metadata": {
        "id": "8ULG4TMMSASE"
      },
      "outputs": [],
      "source": [
        "inmi = pd.read_csv('../../data/lexicons/immigrant_lexicon.txt', sep='\\t', names=['token'])\n",
        "ins = pd.read_csv('../../data/lexicons/insults_lexicon.txt', sep='\\t', names=['token'])\n",
        "miso = pd.read_csv('../../data/lexicons/misogyny_lexicon.txt', sep='\\t', names=['token'])\n",
        "xeno = pd.read_csv('../../data/lexicons/xenophobia_lexicon.txt', sep='\\t', names=['token'])\n",
        "que = pd.read_csv('../../data/lexicons/badwords_quechua.txt', sep='\\t', names=['token'])"
      ]
    },
    {
      "cell_type": "code",
      "execution_count": 68,
      "metadata": {
        "id": "46kGatQ1SMED"
      },
      "outputs": [],
      "source": [
        "tokens_lexicon = pd.concat([inmi,ins, miso, xeno,que], axis=0)"
      ]
    },
    {
      "cell_type": "code",
      "execution_count": 69,
      "metadata": {
        "id": "1-wx5d6sS5HW"
      },
      "outputs": [],
      "source": [
        "tokens_lexicon=tokens_lexicon.reset_index(drop=True)"
      ]
    },
    {
      "cell_type": "code",
      "execution_count": 70,
      "metadata": {
        "id": "-WQNAR6xeTLY"
      },
      "outputs": [],
      "source": [
        "import spacy\n",
        "nlp = spacy.load('es_core_news_sm')\n",
        "\n",
        "def es_adjetivo(palabra):\n",
        "    doc = nlp(palabra)\n",
        "    for token in doc:\n",
        "        if token.pos_ == 'ADJ':\n",
        "            return True\n",
        "\n",
        "    return False"
      ]
    },
    {
      "cell_type": "code",
      "execution_count": 71,
      "metadata": {
        "id": "34974tgZTGeY"
      },
      "outputs": [],
      "source": [
        "sc = NgramSalienceCalculator(corpus_tox, corpus_norm, False)\n",
        "seen_grams = set(tuple(row) for row in tokens_lexicon.itertuples(index=False))\n",
        "\n",
        "with open(neg_out_name, 'w') as neg_out, open(pos_out_name, 'w') as pos_out:\n",
        "    for gram in set(sc.tox_vocab.keys()).union(set(sc.norm_vocab.keys())):\n",
        "        if gram not in seen_grams and es_adjetivo(gram):\n",
        "            seen_grams.add(gram)\n",
        "            toxic_salience = sc.salience(gram, attribute='tox')\n",
        "            polite_salience = sc.salience(gram, attribute='norm')\n",
        "            if toxic_salience > threshold:\n",
        "                neg_out.writelines(f'{gram}\\n')\n",
        "            elif polite_salience > threshold:\n",
        "                pos_out.writelines(f'{gram}\\n')"
      ]
    },
    {
      "cell_type": "code",
      "execution_count": 72,
      "metadata": {
        "id": "PgGSe0M3Hp0W"
      },
      "outputs": [],
      "source": [
        "with open(neg_out_name, 'a') as neg_out:\n",
        "  for tok in tokens_lexicon[\"token\"]:\n",
        "    neg_out.writelines(f'{tok}\\n')"
      ]
    },
    {
      "cell_type": "markdown",
      "metadata": {
        "id": "hqqycgtATGeY"
      },
      "source": [
        "## 2.2 Evaluating word toxicities with a logistic regression"
      ]
    },
    {
      "cell_type": "code",
      "execution_count": 73,
      "metadata": {
        "id": "M0b0zWmdTGeZ"
      },
      "outputs": [],
      "source": [
        "from sklearn.pipeline import make_pipeline\n",
        "pipe = make_pipeline(CountVectorizer(stop_words=custom_stop_words), LogisticRegression(max_iter=1000))"
      ]
    },
    {
      "cell_type": "code",
      "execution_count": 74,
      "metadata": {
        "id": "R-__fEjwTGeZ"
      },
      "outputs": [],
      "source": [
        "X_train = corpus_tox + corpus_norm\n",
        "y_train = [1] * len(corpus_tox) + [0] * len(corpus_norm)\n",
        "pipe.fit(X_train, y_train);"
      ]
    },
    {
      "cell_type": "code",
      "execution_count": 75,
      "metadata": {
        "colab": {
          "base_uri": "https://localhost:8080/"
        },
        "id": "KAa3ZwdXTGeZ",
        "outputId": "9ec68af9-596f-456f-c06a-b6bb13ba5afd"
      },
      "outputs": [
        {
          "data": {
            "text/plain": [
              "(96051,)"
            ]
          },
          "execution_count": 75,
          "metadata": {},
          "output_type": "execute_result"
        }
      ],
      "source": [
        "coefs = pipe[1].coef_[0]\n",
        "coefs.shape"
      ]
    },
    {
      "cell_type": "code",
      "execution_count": 76,
      "metadata": {
        "id": "jGAjj_waTGea"
      },
      "outputs": [],
      "source": [
        "word2coef = {w: coefs[idx] for w, idx in pipe[0].vocabulary_.items()}"
      ]
    },
    {
      "cell_type": "code",
      "execution_count": 77,
      "metadata": {
        "id": "GVi5GGh6XoMh"
      },
      "outputs": [],
      "source": [
        "for token in tokens_lexicon['token']:\n",
        "    word2coef[token] = 5"
      ]
    },
    {
      "cell_type": "code",
      "execution_count": 78,
      "metadata": {
        "id": "LrmRRPs4TGeb"
      },
      "outputs": [],
      "source": [
        "import pickle\n",
        "with open(VOCAB_DIRNAME + '/word2coef.pkl', 'wb') as f:\n",
        "    pickle.dump(word2coef, f)"
      ]
    },
    {
      "cell_type": "markdown",
      "metadata": {
        "id": "2UAVOKdSTGeb"
      },
      "source": [
        "## 2.3 Labelling BERT tokens by toxicity"
      ]
    },
    {
      "cell_type": "code",
      "execution_count": 79,
      "metadata": {
        "colab": {
          "base_uri": "https://localhost:8080/"
        },
        "id": "65YfbIzxTGeb",
        "outputId": "1577675a-e33b-4139-e03a-c6fcc194882e"
      },
      "outputs": [
        {
          "name": "stderr",
          "output_type": "stream",
          "text": [
            "100%|██████████| 109372/109372 [00:09<00:00, 11484.72it/s]\n",
            "100%|██████████| 12166/12166 [00:01<00:00, 11039.20it/s]\n"
          ]
        }
      ],
      "source": [
        "from collections import defaultdict\n",
        "toxic_counter = defaultdict(lambda: 1)\n",
        "nontoxic_counter = defaultdict(lambda: 1)\n",
        "\n",
        "for text in tqdm(corpus_tox):\n",
        "    for token in tokenizer.encode(text):\n",
        "        toxic_counter[token] += 1\n",
        "for text in tqdm(corpus_norm):\n",
        "    for token in tokenizer.encode(text):\n",
        "        nontoxic_counter[token] += 1"
      ]
    },
    {
      "cell_type": "code",
      "execution_count": 80,
      "metadata": {
        "id": "ve6NFJGrTGeb"
      },
      "outputs": [],
      "source": [
        "token_toxicities = [toxic_counter[i] / (nontoxic_counter[i] + toxic_counter[i]) for i in range(len(tokenizer.vocab))]"
      ]
    },
    {
      "cell_type": "code",
      "execution_count": 81,
      "metadata": {
        "id": "uDm9v27qTGec"
      },
      "outputs": [],
      "source": [
        "with open(VOCAB_DIRNAME + '/token_toxicities.txt', 'w') as f:\n",
        "    for t in token_toxicities:\n",
        "        f.write(str(t))\n",
        "        f.write('\\n')"
      ]
    },
    {
      "cell_type": "markdown",
      "metadata": {
        "id": "hNZGwX95TGec"
      },
      "source": [
        "# 3. Setting up the model"
      ]
    },
    {
      "cell_type": "markdown",
      "metadata": {
        "id": "BUsrHeztTGec"
      },
      "source": [
        "### 3.1 Loading the vocabularies"
      ]
    },
    {
      "cell_type": "code",
      "execution_count": 82,
      "metadata": {
        "id": "Zp-aObQPTGec"
      },
      "outputs": [],
      "source": [
        "with open(VOCAB_DIRNAME + \"/negative-words.txt\", \"r\") as f:\n",
        "    s = f.readlines()\n",
        "negative_words = list(map(lambda x: x[:-1], s))\n",
        "\n",
        "with open(VOCAB_DIRNAME + \"/positive-words.txt\", \"r\") as f:\n",
        "    s = f.readlines()\n",
        "positive_words = list(map(lambda x: x[:-1], s))"
      ]
    },
    {
      "cell_type": "code",
      "execution_count": 83,
      "metadata": {
        "id": "4srN5nEVTGed"
      },
      "outputs": [],
      "source": [
        "import pickle\n",
        "with open(VOCAB_DIRNAME + '/word2coef.pkl', 'rb') as f:\n",
        "    word2coef = pickle.load(f)"
      ]
    },
    {
      "cell_type": "code",
      "execution_count": 84,
      "metadata": {
        "id": "P0b_xp1sTGed"
      },
      "outputs": [],
      "source": [
        "token_toxicities = []\n",
        "with open(VOCAB_DIRNAME + '/token_toxicities.txt', 'r') as f:\n",
        "    for line in f.readlines():\n",
        "        token_toxicities.append(float(line))\n",
        "token_toxicities = np.array(token_toxicities)\n",
        "token_toxicities = np.maximum(0, np.log(1/(1/token_toxicities-1)))   # log odds ratio\n",
        "\n",
        "# discourage meaningless tokens\n",
        "for tok in ['.', ',', '-']:\n",
        "    token_toxicities[tokenizer.encode(tok)][1] = 3\n",
        "\n",
        "for tok in ['you']:\n",
        "    token_toxicities[tokenizer.encode(tok)][1] = 0"
      ]
    },
    {
      "cell_type": "code",
      "execution_count": 85,
      "metadata": {
        "id": "bhM6Ti42TGed"
      },
      "outputs": [],
      "source": [
        "def adjust_logits(logits, label=0):\n",
        "    return logits - token_toxicities * 100 * (1 - 2 * label)\n",
        "\n",
        "predictor = MaskedTokenPredictorBert(model, tokenizer, max_len=250, device=device, label=0, contrast_penalty=0.0, logits_postprocessor=adjust_logits)\n",
        "\n",
        "editor = CondBertRewriter(\n",
        "    model=model,\n",
        "    tokenizer=tokenizer,\n",
        "    device=device,\n",
        "    neg_words=negative_words,\n",
        "    pos_words=positive_words,\n",
        "    word2coef=word2coef,\n",
        "    token_toxicities=token_toxicities,\n",
        "    predictor=predictor,\n",
        ")"
      ]
    },
    {
      "cell_type": "markdown",
      "metadata": {
        "id": "n0GGXNgLTGed"
      },
      "source": [
        "The model below is used for reranking BERT hypotheses and helps to increase semantic similarity by choosing the hypotheses with  embeddings similar to the orignal words."
      ]
    },
    {
      "cell_type": "code",
      "execution_count": 86,
      "metadata": {
        "colab": {
          "base_uri": "https://localhost:8080/"
        },
        "id": "dbRJ0yztTGek",
        "outputId": "7e035afe-1f42-456c-ba6a-b0229b5577cd"
      },
      "outputs": [],
      "source": [
        "chooser = EmbeddingSimilarityChooser(sim_coef=10, tokenizer=tokenizer)"
      ]
    },
    {
      "cell_type": "markdown",
      "metadata": {
        "id": "5EjucHNgTGek"
      },
      "source": [
        "# 4. Finally, the inference"
      ]
    },
    {
      "cell_type": "code",
      "execution_count": 87,
      "metadata": {
        "colab": {
          "base_uri": "https://localhost:8080/"
        },
        "id": "YCJwtYXZIrKP",
        "outputId": "133d33b2-a5aa-4377-828d-414ddcb1ce56"
      },
      "outputs": [
        {
          "name": "stdout",
          "output_type": "stream",
          "text": [
            "oye por qué no molestas, a tu segunda madre?\n"
          ]
        }
      ],
      "source": [
        "print(editor.translate('Oye por qué no molestas a tu puta madre?', prnt=False))"
      ]
    },
    {
      "cell_type": "code",
      "execution_count": 88,
      "metadata": {
        "colab": {
          "base_uri": "https://localhost:8080/"
        },
        "id": "tJQhLMh6IseI",
        "outputId": "f57a0ff0-a67a-4708-a09d-2674f444ed21"
      },
      "outputs": [
        {
          "name": "stdout",
          "output_type": "stream",
          "text": [
            "2024-09-19 16:38:27,182 Warning: An empty Sentence was created! Are there empty strings in your dataset?\n",
            "2024-09-19 16:38:27,182 Warning: An empty Sentence was created! Are there empty strings in your dataset?\n",
            "2024-09-19 16:38:27,183 Warning: An empty Sentence was created! Are there empty strings in your dataset?\n",
            "2024-09-19 16:38:27,183 Warning: An empty Sentence was created! Are there empty strings in your dataset?\n",
            "2024-09-19 16:38:27,184 Warning: An empty Sentence was created! Are there empty strings in your dataset?\n",
            "2024-09-19 16:38:27,184 Warning: An empty Sentence was created! Are there empty strings in your dataset?\n",
            "2024-09-19 16:38:27,185 Warning: An empty Sentence was created! Are there empty strings in your dataset?\n",
            "2024-09-19 16:38:27,186 Warning: An empty Sentence was created! Are there empty strings in your dataset?\n",
            "['tas'] -> ['tas,']\n",
            "['▁puta'] -> ['▁pinches', '▁señora']\n",
            "oye por qué no molestas, a tu pinches señora madre?\n"
          ]
        }
      ],
      "source": [
        "print(editor.replacement_loop('Oye por qué no molestas a tu puta madre?', verbose=True, chooser=chooser, n_tokens=(1, 2), n_top=10))"
      ]
    },
    {
      "cell_type": "markdown",
      "metadata": {
        "id": "xtm7rUftTGem"
      },
      "source": [
        "Parameters that could be tuned:\n",
        "* The coeffincient in `adjust_logits` - the larger it is, the more the model avoids toxic words\n",
        "* The coefficient in `EmbeddingSimilarityChooser` - the larger it is, the more the model tries to preserve content\n",
        "* n_tokens - how many words can be generated from one\n",
        "* n_top - how many BERT hypotheses are reranked"
      ]
    },
    {
      "cell_type": "code",
      "execution_count": 91,
      "metadata": {},
      "outputs": [
        {
          "name": "stdout",
          "output_type": "stream",
          "text": [
            "feminista de mierda.\n"
          ]
        }
      ],
      "source": [
        "print(editor.translate('feminista de mierda', prnt=False))"
      ]
    },
    {
      "cell_type": "code",
      "execution_count": 90,
      "metadata": {},
      "outputs": [
        {
          "name": "stdout",
          "output_type": "stream",
          "text": [
            "['▁mierda'] -> ['▁mierda,']\n",
            "feminista de mierda,\n"
          ]
        }
      ],
      "source": [
        "print(editor.replacement_loop('feminista de mierda', verbose=True, chooser=chooser, n_tokens=(1, 2), n_top=10))"
      ]
    },
    {
      "cell_type": "code",
      "execution_count": null,
      "metadata": {},
      "outputs": [],
      "source": []
    }
  ],
  "metadata": {
    "accelerator": "GPU",
    "colab": {
      "collapsed_sections": [
        "Y3knhe94TGeO",
        "OLFNo3VCTGeU",
        "OM4aR-I5TGeW"
      ],
      "gpuType": "T4",
      "provenance": []
    },
    "kernelspec": {
      "display_name": "Python 3",
      "name": "python3"
    },
    "language_info": {
      "codemirror_mode": {
        "name": "ipython",
        "version": 3
      },
      "file_extension": ".py",
      "mimetype": "text/x-python",
      "name": "python",
      "nbconvert_exporter": "python",
      "pygments_lexer": "ipython3",
      "version": "3.8.19"
    },
    "widgets": {
      "application/vnd.jupyter.widget-state+json": {
        "04364c85dd3d4c3e9dba12c7b8a361d1": {
          "model_module": "@jupyter-widgets/controls",
          "model_module_version": "1.5.0",
          "model_name": "ProgressStyleModel",
          "state": {
            "_model_module": "@jupyter-widgets/controls",
            "_model_module_version": "1.5.0",
            "_model_name": "ProgressStyleModel",
            "_view_count": null,
            "_view_module": "@jupyter-widgets/base",
            "_view_module_version": "1.2.0",
            "_view_name": "StyleView",
            "bar_color": null,
            "description_width": ""
          }
        },
        "0546fdb0ab094c4891e6ab474ad0db7a": {
          "model_module": "@jupyter-widgets/controls",
          "model_module_version": "1.5.0",
          "model_name": "HTMLModel",
          "state": {
            "_dom_classes": [],
            "_model_module": "@jupyter-widgets/controls",
            "_model_module_version": "1.5.0",
            "_model_name": "HTMLModel",
            "_view_count": null,
            "_view_module": "@jupyter-widgets/controls",
            "_view_module_version": "1.5.0",
            "_view_name": "HTMLView",
            "description": "",
            "description_tooltip": null,
            "layout": "IPY_MODEL_92d03274da734a42a67238eada3c2c85",
            "placeholder": "​",
            "style": "IPY_MODEL_96365b9eab2146f8b89bed15a068e1b1",
            "value": "config.json: 100%"
          }
        },
        "0d117522d0d8410a903ce9cc3b3d103a": {
          "model_module": "@jupyter-widgets/controls",
          "model_module_version": "1.5.0",
          "model_name": "HBoxModel",
          "state": {
            "_dom_classes": [],
            "_model_module": "@jupyter-widgets/controls",
            "_model_module_version": "1.5.0",
            "_model_name": "HBoxModel",
            "_view_count": null,
            "_view_module": "@jupyter-widgets/controls",
            "_view_module_version": "1.5.0",
            "_view_name": "HBoxView",
            "box_style": "",
            "children": [
              "IPY_MODEL_0546fdb0ab094c4891e6ab474ad0db7a",
              "IPY_MODEL_b7ecb1ebae0a488793626e74bc1766df",
              "IPY_MODEL_3b03c937fc054fbe85a033f51f46d72e"
            ],
            "layout": "IPY_MODEL_8cf51edd0dbf47b188571c23a34df20b"
          }
        },
        "10e567d2f55e4f4480fce3698c905008": {
          "model_module": "@jupyter-widgets/base",
          "model_module_version": "1.2.0",
          "model_name": "LayoutModel",
          "state": {
            "_model_module": "@jupyter-widgets/base",
            "_model_module_version": "1.2.0",
            "_model_name": "LayoutModel",
            "_view_count": null,
            "_view_module": "@jupyter-widgets/base",
            "_view_module_version": "1.2.0",
            "_view_name": "LayoutView",
            "align_content": null,
            "align_items": null,
            "align_self": null,
            "border": null,
            "bottom": null,
            "display": null,
            "flex": null,
            "flex_flow": null,
            "grid_area": null,
            "grid_auto_columns": null,
            "grid_auto_flow": null,
            "grid_auto_rows": null,
            "grid_column": null,
            "grid_gap": null,
            "grid_row": null,
            "grid_template_areas": null,
            "grid_template_columns": null,
            "grid_template_rows": null,
            "height": null,
            "justify_content": null,
            "justify_items": null,
            "left": null,
            "margin": null,
            "max_height": null,
            "max_width": null,
            "min_height": null,
            "min_width": null,
            "object_fit": null,
            "object_position": null,
            "order": null,
            "overflow": null,
            "overflow_x": null,
            "overflow_y": null,
            "padding": null,
            "right": null,
            "top": null,
            "visibility": null,
            "width": null
          }
        },
        "2267c9c689e643c3991b0e1c961a29ec": {
          "model_module": "@jupyter-widgets/base",
          "model_module_version": "1.2.0",
          "model_name": "LayoutModel",
          "state": {
            "_model_module": "@jupyter-widgets/base",
            "_model_module_version": "1.2.0",
            "_model_name": "LayoutModel",
            "_view_count": null,
            "_view_module": "@jupyter-widgets/base",
            "_view_module_version": "1.2.0",
            "_view_name": "LayoutView",
            "align_content": null,
            "align_items": null,
            "align_self": null,
            "border": null,
            "bottom": null,
            "display": null,
            "flex": null,
            "flex_flow": null,
            "grid_area": null,
            "grid_auto_columns": null,
            "grid_auto_flow": null,
            "grid_auto_rows": null,
            "grid_column": null,
            "grid_gap": null,
            "grid_row": null,
            "grid_template_areas": null,
            "grid_template_columns": null,
            "grid_template_rows": null,
            "height": null,
            "justify_content": null,
            "justify_items": null,
            "left": null,
            "margin": null,
            "max_height": null,
            "max_width": null,
            "min_height": null,
            "min_width": null,
            "object_fit": null,
            "object_position": null,
            "order": null,
            "overflow": null,
            "overflow_x": null,
            "overflow_y": null,
            "padding": null,
            "right": null,
            "top": null,
            "visibility": null,
            "width": null
          }
        },
        "2f8d1ff60cee4f7ebf914c44f351c445": {
          "model_module": "@jupyter-widgets/base",
          "model_module_version": "1.2.0",
          "model_name": "LayoutModel",
          "state": {
            "_model_module": "@jupyter-widgets/base",
            "_model_module_version": "1.2.0",
            "_model_name": "LayoutModel",
            "_view_count": null,
            "_view_module": "@jupyter-widgets/base",
            "_view_module_version": "1.2.0",
            "_view_name": "LayoutView",
            "align_content": null,
            "align_items": null,
            "align_self": null,
            "border": null,
            "bottom": null,
            "display": null,
            "flex": null,
            "flex_flow": null,
            "grid_area": null,
            "grid_auto_columns": null,
            "grid_auto_flow": null,
            "grid_auto_rows": null,
            "grid_column": null,
            "grid_gap": null,
            "grid_row": null,
            "grid_template_areas": null,
            "grid_template_columns": null,
            "grid_template_rows": null,
            "height": null,
            "justify_content": null,
            "justify_items": null,
            "left": null,
            "margin": null,
            "max_height": null,
            "max_width": null,
            "min_height": null,
            "min_width": null,
            "object_fit": null,
            "object_position": null,
            "order": null,
            "overflow": null,
            "overflow_x": null,
            "overflow_y": null,
            "padding": null,
            "right": null,
            "top": null,
            "visibility": null,
            "width": null
          }
        },
        "32572cb8e1254d0ea6487cef05dfc919": {
          "model_module": "@jupyter-widgets/controls",
          "model_module_version": "1.5.0",
          "model_name": "ProgressStyleModel",
          "state": {
            "_model_module": "@jupyter-widgets/controls",
            "_model_module_version": "1.5.0",
            "_model_name": "ProgressStyleModel",
            "_view_count": null,
            "_view_module": "@jupyter-widgets/base",
            "_view_module_version": "1.2.0",
            "_view_name": "StyleView",
            "bar_color": null,
            "description_width": ""
          }
        },
        "327f16782e8945538eed7d0726507c21": {
          "model_module": "@jupyter-widgets/controls",
          "model_module_version": "1.5.0",
          "model_name": "DescriptionStyleModel",
          "state": {
            "_model_module": "@jupyter-widgets/controls",
            "_model_module_version": "1.5.0",
            "_model_name": "DescriptionStyleModel",
            "_view_count": null,
            "_view_module": "@jupyter-widgets/base",
            "_view_module_version": "1.2.0",
            "_view_name": "StyleView",
            "description_width": ""
          }
        },
        "32904e55fd204ab5a239e066bf3b1ddd": {
          "model_module": "@jupyter-widgets/controls",
          "model_module_version": "1.5.0",
          "model_name": "DescriptionStyleModel",
          "state": {
            "_model_module": "@jupyter-widgets/controls",
            "_model_module_version": "1.5.0",
            "_model_name": "DescriptionStyleModel",
            "_view_count": null,
            "_view_module": "@jupyter-widgets/base",
            "_view_module_version": "1.2.0",
            "_view_name": "StyleView",
            "description_width": ""
          }
        },
        "33585211f7ae4ddda6f7405c1546707f": {
          "model_module": "@jupyter-widgets/base",
          "model_module_version": "1.2.0",
          "model_name": "LayoutModel",
          "state": {
            "_model_module": "@jupyter-widgets/base",
            "_model_module_version": "1.2.0",
            "_model_name": "LayoutModel",
            "_view_count": null,
            "_view_module": "@jupyter-widgets/base",
            "_view_module_version": "1.2.0",
            "_view_name": "LayoutView",
            "align_content": null,
            "align_items": null,
            "align_self": null,
            "border": null,
            "bottom": null,
            "display": null,
            "flex": null,
            "flex_flow": null,
            "grid_area": null,
            "grid_auto_columns": null,
            "grid_auto_flow": null,
            "grid_auto_rows": null,
            "grid_column": null,
            "grid_gap": null,
            "grid_row": null,
            "grid_template_areas": null,
            "grid_template_columns": null,
            "grid_template_rows": null,
            "height": null,
            "justify_content": null,
            "justify_items": null,
            "left": null,
            "margin": null,
            "max_height": null,
            "max_width": null,
            "min_height": null,
            "min_width": null,
            "object_fit": null,
            "object_position": null,
            "order": null,
            "overflow": null,
            "overflow_x": null,
            "overflow_y": null,
            "padding": null,
            "right": null,
            "top": null,
            "visibility": null,
            "width": null
          }
        },
        "33b41b72e2fe49ad8d11f30befd77a48": {
          "model_module": "@jupyter-widgets/base",
          "model_module_version": "1.2.0",
          "model_name": "LayoutModel",
          "state": {
            "_model_module": "@jupyter-widgets/base",
            "_model_module_version": "1.2.0",
            "_model_name": "LayoutModel",
            "_view_count": null,
            "_view_module": "@jupyter-widgets/base",
            "_view_module_version": "1.2.0",
            "_view_name": "LayoutView",
            "align_content": null,
            "align_items": null,
            "align_self": null,
            "border": null,
            "bottom": null,
            "display": null,
            "flex": null,
            "flex_flow": null,
            "grid_area": null,
            "grid_auto_columns": null,
            "grid_auto_flow": null,
            "grid_auto_rows": null,
            "grid_column": null,
            "grid_gap": null,
            "grid_row": null,
            "grid_template_areas": null,
            "grid_template_columns": null,
            "grid_template_rows": null,
            "height": null,
            "justify_content": null,
            "justify_items": null,
            "left": null,
            "margin": null,
            "max_height": null,
            "max_width": null,
            "min_height": null,
            "min_width": null,
            "object_fit": null,
            "object_position": null,
            "order": null,
            "overflow": null,
            "overflow_x": null,
            "overflow_y": null,
            "padding": null,
            "right": null,
            "top": null,
            "visibility": null,
            "width": null
          }
        },
        "3b03c937fc054fbe85a033f51f46d72e": {
          "model_module": "@jupyter-widgets/controls",
          "model_module_version": "1.5.0",
          "model_name": "HTMLModel",
          "state": {
            "_dom_classes": [],
            "_model_module": "@jupyter-widgets/controls",
            "_model_module_version": "1.5.0",
            "_model_name": "HTMLModel",
            "_view_count": null,
            "_view_module": "@jupyter-widgets/controls",
            "_view_module_version": "1.5.0",
            "_view_name": "HTMLView",
            "description": "",
            "description_tooltip": null,
            "layout": "IPY_MODEL_81dbe7a8d82345b09626de2b9cdc8f11",
            "placeholder": "​",
            "style": "IPY_MODEL_dfc7f17ead4f4c88bb2dccc917d7a62b",
            "value": " 677/677 [00:00&lt;00:00, 14.1kB/s]"
          }
        },
        "3c8bc76951a8467aa03639d2c43015a3": {
          "model_module": "@jupyter-widgets/base",
          "model_module_version": "1.2.0",
          "model_name": "LayoutModel",
          "state": {
            "_model_module": "@jupyter-widgets/base",
            "_model_module_version": "1.2.0",
            "_model_name": "LayoutModel",
            "_view_count": null,
            "_view_module": "@jupyter-widgets/base",
            "_view_module_version": "1.2.0",
            "_view_name": "LayoutView",
            "align_content": null,
            "align_items": null,
            "align_self": null,
            "border": null,
            "bottom": null,
            "display": null,
            "flex": null,
            "flex_flow": null,
            "grid_area": null,
            "grid_auto_columns": null,
            "grid_auto_flow": null,
            "grid_auto_rows": null,
            "grid_column": null,
            "grid_gap": null,
            "grid_row": null,
            "grid_template_areas": null,
            "grid_template_columns": null,
            "grid_template_rows": null,
            "height": null,
            "justify_content": null,
            "justify_items": null,
            "left": null,
            "margin": null,
            "max_height": null,
            "max_width": null,
            "min_height": null,
            "min_width": null,
            "object_fit": null,
            "object_position": null,
            "order": null,
            "overflow": null,
            "overflow_x": null,
            "overflow_y": null,
            "padding": null,
            "right": null,
            "top": null,
            "visibility": null,
            "width": null
          }
        },
        "46d7b9862ec34975b421a99ce096b6ce": {
          "model_module": "@jupyter-widgets/controls",
          "model_module_version": "1.5.0",
          "model_name": "DescriptionStyleModel",
          "state": {
            "_model_module": "@jupyter-widgets/controls",
            "_model_module_version": "1.5.0",
            "_model_name": "DescriptionStyleModel",
            "_view_count": null,
            "_view_module": "@jupyter-widgets/base",
            "_view_module_version": "1.2.0",
            "_view_name": "StyleView",
            "description_width": ""
          }
        },
        "4936ebf5f5c9401391c0c0844766f47c": {
          "model_module": "@jupyter-widgets/controls",
          "model_module_version": "1.5.0",
          "model_name": "HBoxModel",
          "state": {
            "_dom_classes": [],
            "_model_module": "@jupyter-widgets/controls",
            "_model_module_version": "1.5.0",
            "_model_name": "HBoxModel",
            "_view_count": null,
            "_view_module": "@jupyter-widgets/controls",
            "_view_module_version": "1.5.0",
            "_view_name": "HBoxView",
            "box_style": "",
            "children": [
              "IPY_MODEL_dd4730209e064beab095f9989ec5797d",
              "IPY_MODEL_78613c9d4c1449948530003d20b354d4",
              "IPY_MODEL_d3e553531b194b1b8b1b773be47be694"
            ],
            "layout": "IPY_MODEL_33585211f7ae4ddda6f7405c1546707f"
          }
        },
        "49845e679c9b4e89abb6ec4818120762": {
          "model_module": "@jupyter-widgets/controls",
          "model_module_version": "1.5.0",
          "model_name": "HTMLModel",
          "state": {
            "_dom_classes": [],
            "_model_module": "@jupyter-widgets/controls",
            "_model_module_version": "1.5.0",
            "_model_name": "HTMLModel",
            "_view_count": null,
            "_view_module": "@jupyter-widgets/controls",
            "_view_module_version": "1.5.0",
            "_view_name": "HTMLView",
            "description": "",
            "description_tooltip": null,
            "layout": "IPY_MODEL_a4ac8b5bc78840ec9887fca7a2784f55",
            "placeholder": "​",
            "style": "IPY_MODEL_9b87a03f57414c07990fbc285ed95135",
            "value": "tokenizer_config.json: 100%"
          }
        },
        "5285b51adfb84248a27d753743d5f690": {
          "model_module": "@jupyter-widgets/controls",
          "model_module_version": "1.5.0",
          "model_name": "HBoxModel",
          "state": {
            "_dom_classes": [],
            "_model_module": "@jupyter-widgets/controls",
            "_model_module_version": "1.5.0",
            "_model_name": "HBoxModel",
            "_view_count": null,
            "_view_module": "@jupyter-widgets/controls",
            "_view_module_version": "1.5.0",
            "_view_name": "HBoxView",
            "box_style": "",
            "children": [
              "IPY_MODEL_8ef1f9d8d68d440fa54bf17b52af7fad",
              "IPY_MODEL_c6fddce6918d4b13920db86eb0abb393",
              "IPY_MODEL_cfa48014c6c746af90c31925f518c2d5"
            ],
            "layout": "IPY_MODEL_a3502bc64216431a9251df1a53d7e764"
          }
        },
        "52ea7c1740d64f27a349e5bd5c507d7f": {
          "model_module": "@jupyter-widgets/base",
          "model_module_version": "1.2.0",
          "model_name": "LayoutModel",
          "state": {
            "_model_module": "@jupyter-widgets/base",
            "_model_module_version": "1.2.0",
            "_model_name": "LayoutModel",
            "_view_count": null,
            "_view_module": "@jupyter-widgets/base",
            "_view_module_version": "1.2.0",
            "_view_name": "LayoutView",
            "align_content": null,
            "align_items": null,
            "align_self": null,
            "border": null,
            "bottom": null,
            "display": null,
            "flex": null,
            "flex_flow": null,
            "grid_area": null,
            "grid_auto_columns": null,
            "grid_auto_flow": null,
            "grid_auto_rows": null,
            "grid_column": null,
            "grid_gap": null,
            "grid_row": null,
            "grid_template_areas": null,
            "grid_template_columns": null,
            "grid_template_rows": null,
            "height": null,
            "justify_content": null,
            "justify_items": null,
            "left": null,
            "margin": null,
            "max_height": null,
            "max_width": null,
            "min_height": null,
            "min_width": null,
            "object_fit": null,
            "object_position": null,
            "order": null,
            "overflow": null,
            "overflow_x": null,
            "overflow_y": null,
            "padding": null,
            "right": null,
            "top": null,
            "visibility": null,
            "width": null
          }
        },
        "54d4e4395abf4f61bb5057d168d72852": {
          "model_module": "@jupyter-widgets/controls",
          "model_module_version": "1.5.0",
          "model_name": "HTMLModel",
          "state": {
            "_dom_classes": [],
            "_model_module": "@jupyter-widgets/controls",
            "_model_module_version": "1.5.0",
            "_model_name": "HTMLModel",
            "_view_count": null,
            "_view_module": "@jupyter-widgets/controls",
            "_view_module_version": "1.5.0",
            "_view_name": "HTMLView",
            "description": "",
            "description_tooltip": null,
            "layout": "IPY_MODEL_edd3c0dac35c4347979164feac1af96f",
            "placeholder": "​",
            "style": "IPY_MODEL_8b85ffbe51ea44cbb13bc9bc58e55654",
            "value": " 858k/858k [00:00&lt;00:00, 1.45MB/s]"
          }
        },
        "5693f1559ba54277bb6fc91dd0ee3d07": {
          "model_module": "@jupyter-widgets/controls",
          "model_module_version": "1.5.0",
          "model_name": "ProgressStyleModel",
          "state": {
            "_model_module": "@jupyter-widgets/controls",
            "_model_module_version": "1.5.0",
            "_model_name": "ProgressStyleModel",
            "_view_count": null,
            "_view_module": "@jupyter-widgets/base",
            "_view_module_version": "1.2.0",
            "_view_name": "StyleView",
            "bar_color": null,
            "description_width": ""
          }
        },
        "5adf5ba846914231b08293d4db2262ea": {
          "model_module": "@jupyter-widgets/controls",
          "model_module_version": "1.5.0",
          "model_name": "FloatProgressModel",
          "state": {
            "_dom_classes": [],
            "_model_module": "@jupyter-widgets/controls",
            "_model_module_version": "1.5.0",
            "_model_name": "FloatProgressModel",
            "_view_count": null,
            "_view_module": "@jupyter-widgets/controls",
            "_view_module_version": "1.5.0",
            "_view_name": "ProgressView",
            "bar_style": "success",
            "description": "",
            "description_tooltip": null,
            "layout": "IPY_MODEL_ff1ca9ccc01648cf8007279344d14a9a",
            "max": 323,
            "min": 0,
            "orientation": "horizontal",
            "style": "IPY_MODEL_cf88313006c649ae811e44272481913a",
            "value": 323
          }
        },
        "5f267b537b75432cb746d9761f9dc424": {
          "model_module": "@jupyter-widgets/controls",
          "model_module_version": "1.5.0",
          "model_name": "FloatProgressModel",
          "state": {
            "_dom_classes": [],
            "_model_module": "@jupyter-widgets/controls",
            "_model_module_version": "1.5.0",
            "_model_name": "FloatProgressModel",
            "_view_count": null,
            "_view_module": "@jupyter-widgets/controls",
            "_view_module_version": "1.5.0",
            "_view_name": "ProgressView",
            "bar_style": "success",
            "description": "",
            "description_tooltip": null,
            "layout": "IPY_MODEL_9f05543611e044fc9f4537b9f5ef3d83",
            "max": 858069,
            "min": 0,
            "orientation": "horizontal",
            "style": "IPY_MODEL_9d78c4c01c1c461e821034332a22ecb0",
            "value": 858069
          }
        },
        "648e28eb1c4e4903a3a6debb4e2c6e8d": {
          "model_module": "@jupyter-widgets/controls",
          "model_module_version": "1.5.0",
          "model_name": "HBoxModel",
          "state": {
            "_dom_classes": [],
            "_model_module": "@jupyter-widgets/controls",
            "_model_module_version": "1.5.0",
            "_model_name": "HBoxModel",
            "_view_count": null,
            "_view_module": "@jupyter-widgets/controls",
            "_view_module_version": "1.5.0",
            "_view_name": "HBoxView",
            "box_style": "",
            "children": [
              "IPY_MODEL_f8211b0452514d40af600bb9fadc3193",
              "IPY_MODEL_5f267b537b75432cb746d9761f9dc424",
              "IPY_MODEL_54d4e4395abf4f61bb5057d168d72852"
            ],
            "layout": "IPY_MODEL_10e567d2f55e4f4480fce3698c905008"
          }
        },
        "6498537257f64f839b9ee6cc2e8e09b6": {
          "model_module": "@jupyter-widgets/controls",
          "model_module_version": "1.5.0",
          "model_name": "DescriptionStyleModel",
          "state": {
            "_model_module": "@jupyter-widgets/controls",
            "_model_module_version": "1.5.0",
            "_model_name": "DescriptionStyleModel",
            "_view_count": null,
            "_view_module": "@jupyter-widgets/base",
            "_view_module_version": "1.2.0",
            "_view_name": "StyleView",
            "description_width": ""
          }
        },
        "6d2a68647b8944a589932daed0e775a5": {
          "model_module": "@jupyter-widgets/base",
          "model_module_version": "1.2.0",
          "model_name": "LayoutModel",
          "state": {
            "_model_module": "@jupyter-widgets/base",
            "_model_module_version": "1.2.0",
            "_model_name": "LayoutModel",
            "_view_count": null,
            "_view_module": "@jupyter-widgets/base",
            "_view_module_version": "1.2.0",
            "_view_name": "LayoutView",
            "align_content": null,
            "align_items": null,
            "align_self": null,
            "border": null,
            "bottom": null,
            "display": null,
            "flex": null,
            "flex_flow": null,
            "grid_area": null,
            "grid_auto_columns": null,
            "grid_auto_flow": null,
            "grid_auto_rows": null,
            "grid_column": null,
            "grid_gap": null,
            "grid_row": null,
            "grid_template_areas": null,
            "grid_template_columns": null,
            "grid_template_rows": null,
            "height": null,
            "justify_content": null,
            "justify_items": null,
            "left": null,
            "margin": null,
            "max_height": null,
            "max_width": null,
            "min_height": null,
            "min_width": null,
            "object_fit": null,
            "object_position": null,
            "order": null,
            "overflow": null,
            "overflow_x": null,
            "overflow_y": null,
            "padding": null,
            "right": null,
            "top": null,
            "visibility": null,
            "width": null
          }
        },
        "78613c9d4c1449948530003d20b354d4": {
          "model_module": "@jupyter-widgets/controls",
          "model_module_version": "1.5.0",
          "model_name": "FloatProgressModel",
          "state": {
            "_dom_classes": [],
            "_model_module": "@jupyter-widgets/controls",
            "_model_module_version": "1.5.0",
            "_model_name": "FloatProgressModel",
            "_view_count": null,
            "_view_module": "@jupyter-widgets/controls",
            "_view_module_version": "1.5.0",
            "_view_name": "ProgressView",
            "bar_style": "success",
            "description": "",
            "description_tooltip": null,
            "layout": "IPY_MODEL_33b41b72e2fe49ad8d11f30befd77a48",
            "max": 435300276,
            "min": 0,
            "orientation": "horizontal",
            "style": "IPY_MODEL_32572cb8e1254d0ea6487cef05dfc919",
            "value": 435300276
          }
        },
        "81d63c6d75424e9b86c1305440cd1f4b": {
          "model_module": "@jupyter-widgets/base",
          "model_module_version": "1.2.0",
          "model_name": "LayoutModel",
          "state": {
            "_model_module": "@jupyter-widgets/base",
            "_model_module_version": "1.2.0",
            "_model_name": "LayoutModel",
            "_view_count": null,
            "_view_module": "@jupyter-widgets/base",
            "_view_module_version": "1.2.0",
            "_view_name": "LayoutView",
            "align_content": null,
            "align_items": null,
            "align_self": null,
            "border": null,
            "bottom": null,
            "display": null,
            "flex": null,
            "flex_flow": null,
            "grid_area": null,
            "grid_auto_columns": null,
            "grid_auto_flow": null,
            "grid_auto_rows": null,
            "grid_column": null,
            "grid_gap": null,
            "grid_row": null,
            "grid_template_areas": null,
            "grid_template_columns": null,
            "grid_template_rows": null,
            "height": null,
            "justify_content": null,
            "justify_items": null,
            "left": null,
            "margin": null,
            "max_height": null,
            "max_width": null,
            "min_height": null,
            "min_width": null,
            "object_fit": null,
            "object_position": null,
            "order": null,
            "overflow": null,
            "overflow_x": null,
            "overflow_y": null,
            "padding": null,
            "right": null,
            "top": null,
            "visibility": null,
            "width": null
          }
        },
        "81dbe7a8d82345b09626de2b9cdc8f11": {
          "model_module": "@jupyter-widgets/base",
          "model_module_version": "1.2.0",
          "model_name": "LayoutModel",
          "state": {
            "_model_module": "@jupyter-widgets/base",
            "_model_module_version": "1.2.0",
            "_model_name": "LayoutModel",
            "_view_count": null,
            "_view_module": "@jupyter-widgets/base",
            "_view_module_version": "1.2.0",
            "_view_name": "LayoutView",
            "align_content": null,
            "align_items": null,
            "align_self": null,
            "border": null,
            "bottom": null,
            "display": null,
            "flex": null,
            "flex_flow": null,
            "grid_area": null,
            "grid_auto_columns": null,
            "grid_auto_flow": null,
            "grid_auto_rows": null,
            "grid_column": null,
            "grid_gap": null,
            "grid_row": null,
            "grid_template_areas": null,
            "grid_template_columns": null,
            "grid_template_rows": null,
            "height": null,
            "justify_content": null,
            "justify_items": null,
            "left": null,
            "margin": null,
            "max_height": null,
            "max_width": null,
            "min_height": null,
            "min_width": null,
            "object_fit": null,
            "object_position": null,
            "order": null,
            "overflow": null,
            "overflow_x": null,
            "overflow_y": null,
            "padding": null,
            "right": null,
            "top": null,
            "visibility": null,
            "width": null
          }
        },
        "8b85ffbe51ea44cbb13bc9bc58e55654": {
          "model_module": "@jupyter-widgets/controls",
          "model_module_version": "1.5.0",
          "model_name": "DescriptionStyleModel",
          "state": {
            "_model_module": "@jupyter-widgets/controls",
            "_model_module_version": "1.5.0",
            "_model_name": "DescriptionStyleModel",
            "_view_count": null,
            "_view_module": "@jupyter-widgets/base",
            "_view_module_version": "1.2.0",
            "_view_name": "StyleView",
            "description_width": ""
          }
        },
        "8cf51edd0dbf47b188571c23a34df20b": {
          "model_module": "@jupyter-widgets/base",
          "model_module_version": "1.2.0",
          "model_name": "LayoutModel",
          "state": {
            "_model_module": "@jupyter-widgets/base",
            "_model_module_version": "1.2.0",
            "_model_name": "LayoutModel",
            "_view_count": null,
            "_view_module": "@jupyter-widgets/base",
            "_view_module_version": "1.2.0",
            "_view_name": "LayoutView",
            "align_content": null,
            "align_items": null,
            "align_self": null,
            "border": null,
            "bottom": null,
            "display": null,
            "flex": null,
            "flex_flow": null,
            "grid_area": null,
            "grid_auto_columns": null,
            "grid_auto_flow": null,
            "grid_auto_rows": null,
            "grid_column": null,
            "grid_gap": null,
            "grid_row": null,
            "grid_template_areas": null,
            "grid_template_columns": null,
            "grid_template_rows": null,
            "height": null,
            "justify_content": null,
            "justify_items": null,
            "left": null,
            "margin": null,
            "max_height": null,
            "max_width": null,
            "min_height": null,
            "min_width": null,
            "object_fit": null,
            "object_position": null,
            "order": null,
            "overflow": null,
            "overflow_x": null,
            "overflow_y": null,
            "padding": null,
            "right": null,
            "top": null,
            "visibility": null,
            "width": null
          }
        },
        "8ef1f9d8d68d440fa54bf17b52af7fad": {
          "model_module": "@jupyter-widgets/controls",
          "model_module_version": "1.5.0",
          "model_name": "HTMLModel",
          "state": {
            "_dom_classes": [],
            "_model_module": "@jupyter-widgets/controls",
            "_model_module_version": "1.5.0",
            "_model_name": "HTMLModel",
            "_view_count": null,
            "_view_module": "@jupyter-widgets/controls",
            "_view_module_version": "1.5.0",
            "_view_name": "HTMLView",
            "description": "",
            "description_tooltip": null,
            "layout": "IPY_MODEL_2f8d1ff60cee4f7ebf914c44f351c445",
            "placeholder": "​",
            "style": "IPY_MODEL_32904e55fd204ab5a239e066bf3b1ddd",
            "value": "special_tokens_map.json: 100%"
          }
        },
        "91a23638067c4dc7ab3a416212b62b8b": {
          "model_module": "@jupyter-widgets/controls",
          "model_module_version": "1.5.0",
          "model_name": "HBoxModel",
          "state": {
            "_dom_classes": [],
            "_model_module": "@jupyter-widgets/controls",
            "_model_module_version": "1.5.0",
            "_model_name": "HBoxModel",
            "_view_count": null,
            "_view_module": "@jupyter-widgets/controls",
            "_view_module_version": "1.5.0",
            "_view_name": "HBoxView",
            "box_style": "",
            "children": [
              "IPY_MODEL_49845e679c9b4e89abb6ec4818120762",
              "IPY_MODEL_5adf5ba846914231b08293d4db2262ea",
              "IPY_MODEL_d56e79ea9d624f728e2ce48516a1df53"
            ],
            "layout": "IPY_MODEL_6d2a68647b8944a589932daed0e775a5"
          }
        },
        "92d03274da734a42a67238eada3c2c85": {
          "model_module": "@jupyter-widgets/base",
          "model_module_version": "1.2.0",
          "model_name": "LayoutModel",
          "state": {
            "_model_module": "@jupyter-widgets/base",
            "_model_module_version": "1.2.0",
            "_model_name": "LayoutModel",
            "_view_count": null,
            "_view_module": "@jupyter-widgets/base",
            "_view_module_version": "1.2.0",
            "_view_name": "LayoutView",
            "align_content": null,
            "align_items": null,
            "align_self": null,
            "border": null,
            "bottom": null,
            "display": null,
            "flex": null,
            "flex_flow": null,
            "grid_area": null,
            "grid_auto_columns": null,
            "grid_auto_flow": null,
            "grid_auto_rows": null,
            "grid_column": null,
            "grid_gap": null,
            "grid_row": null,
            "grid_template_areas": null,
            "grid_template_columns": null,
            "grid_template_rows": null,
            "height": null,
            "justify_content": null,
            "justify_items": null,
            "left": null,
            "margin": null,
            "max_height": null,
            "max_width": null,
            "min_height": null,
            "min_width": null,
            "object_fit": null,
            "object_position": null,
            "order": null,
            "overflow": null,
            "overflow_x": null,
            "overflow_y": null,
            "padding": null,
            "right": null,
            "top": null,
            "visibility": null,
            "width": null
          }
        },
        "96365b9eab2146f8b89bed15a068e1b1": {
          "model_module": "@jupyter-widgets/controls",
          "model_module_version": "1.5.0",
          "model_name": "DescriptionStyleModel",
          "state": {
            "_model_module": "@jupyter-widgets/controls",
            "_model_module_version": "1.5.0",
            "_model_name": "DescriptionStyleModel",
            "_view_count": null,
            "_view_module": "@jupyter-widgets/base",
            "_view_module_version": "1.2.0",
            "_view_name": "StyleView",
            "description_width": ""
          }
        },
        "9b87a03f57414c07990fbc285ed95135": {
          "model_module": "@jupyter-widgets/controls",
          "model_module_version": "1.5.0",
          "model_name": "DescriptionStyleModel",
          "state": {
            "_model_module": "@jupyter-widgets/controls",
            "_model_module_version": "1.5.0",
            "_model_name": "DescriptionStyleModel",
            "_view_count": null,
            "_view_module": "@jupyter-widgets/base",
            "_view_module_version": "1.2.0",
            "_view_name": "StyleView",
            "description_width": ""
          }
        },
        "9d78c4c01c1c461e821034332a22ecb0": {
          "model_module": "@jupyter-widgets/controls",
          "model_module_version": "1.5.0",
          "model_name": "ProgressStyleModel",
          "state": {
            "_model_module": "@jupyter-widgets/controls",
            "_model_module_version": "1.5.0",
            "_model_name": "ProgressStyleModel",
            "_view_count": null,
            "_view_module": "@jupyter-widgets/base",
            "_view_module_version": "1.2.0",
            "_view_name": "StyleView",
            "bar_color": null,
            "description_width": ""
          }
        },
        "9f05543611e044fc9f4537b9f5ef3d83": {
          "model_module": "@jupyter-widgets/base",
          "model_module_version": "1.2.0",
          "model_name": "LayoutModel",
          "state": {
            "_model_module": "@jupyter-widgets/base",
            "_model_module_version": "1.2.0",
            "_model_name": "LayoutModel",
            "_view_count": null,
            "_view_module": "@jupyter-widgets/base",
            "_view_module_version": "1.2.0",
            "_view_name": "LayoutView",
            "align_content": null,
            "align_items": null,
            "align_self": null,
            "border": null,
            "bottom": null,
            "display": null,
            "flex": null,
            "flex_flow": null,
            "grid_area": null,
            "grid_auto_columns": null,
            "grid_auto_flow": null,
            "grid_auto_rows": null,
            "grid_column": null,
            "grid_gap": null,
            "grid_row": null,
            "grid_template_areas": null,
            "grid_template_columns": null,
            "grid_template_rows": null,
            "height": null,
            "justify_content": null,
            "justify_items": null,
            "left": null,
            "margin": null,
            "max_height": null,
            "max_width": null,
            "min_height": null,
            "min_width": null,
            "object_fit": null,
            "object_position": null,
            "order": null,
            "overflow": null,
            "overflow_x": null,
            "overflow_y": null,
            "padding": null,
            "right": null,
            "top": null,
            "visibility": null,
            "width": null
          }
        },
        "a3502bc64216431a9251df1a53d7e764": {
          "model_module": "@jupyter-widgets/base",
          "model_module_version": "1.2.0",
          "model_name": "LayoutModel",
          "state": {
            "_model_module": "@jupyter-widgets/base",
            "_model_module_version": "1.2.0",
            "_model_name": "LayoutModel",
            "_view_count": null,
            "_view_module": "@jupyter-widgets/base",
            "_view_module_version": "1.2.0",
            "_view_name": "LayoutView",
            "align_content": null,
            "align_items": null,
            "align_self": null,
            "border": null,
            "bottom": null,
            "display": null,
            "flex": null,
            "flex_flow": null,
            "grid_area": null,
            "grid_auto_columns": null,
            "grid_auto_flow": null,
            "grid_auto_rows": null,
            "grid_column": null,
            "grid_gap": null,
            "grid_row": null,
            "grid_template_areas": null,
            "grid_template_columns": null,
            "grid_template_rows": null,
            "height": null,
            "justify_content": null,
            "justify_items": null,
            "left": null,
            "margin": null,
            "max_height": null,
            "max_width": null,
            "min_height": null,
            "min_width": null,
            "object_fit": null,
            "object_position": null,
            "order": null,
            "overflow": null,
            "overflow_x": null,
            "overflow_y": null,
            "padding": null,
            "right": null,
            "top": null,
            "visibility": null,
            "width": null
          }
        },
        "a4ac8b5bc78840ec9887fca7a2784f55": {
          "model_module": "@jupyter-widgets/base",
          "model_module_version": "1.2.0",
          "model_name": "LayoutModel",
          "state": {
            "_model_module": "@jupyter-widgets/base",
            "_model_module_version": "1.2.0",
            "_model_name": "LayoutModel",
            "_view_count": null,
            "_view_module": "@jupyter-widgets/base",
            "_view_module_version": "1.2.0",
            "_view_name": "LayoutView",
            "align_content": null,
            "align_items": null,
            "align_self": null,
            "border": null,
            "bottom": null,
            "display": null,
            "flex": null,
            "flex_flow": null,
            "grid_area": null,
            "grid_auto_columns": null,
            "grid_auto_flow": null,
            "grid_auto_rows": null,
            "grid_column": null,
            "grid_gap": null,
            "grid_row": null,
            "grid_template_areas": null,
            "grid_template_columns": null,
            "grid_template_rows": null,
            "height": null,
            "justify_content": null,
            "justify_items": null,
            "left": null,
            "margin": null,
            "max_height": null,
            "max_width": null,
            "min_height": null,
            "min_width": null,
            "object_fit": null,
            "object_position": null,
            "order": null,
            "overflow": null,
            "overflow_x": null,
            "overflow_y": null,
            "padding": null,
            "right": null,
            "top": null,
            "visibility": null,
            "width": null
          }
        },
        "ae00008536f44e6b998f0cd378308f7c": {
          "model_module": "@jupyter-widgets/base",
          "model_module_version": "1.2.0",
          "model_name": "LayoutModel",
          "state": {
            "_model_module": "@jupyter-widgets/base",
            "_model_module_version": "1.2.0",
            "_model_name": "LayoutModel",
            "_view_count": null,
            "_view_module": "@jupyter-widgets/base",
            "_view_module_version": "1.2.0",
            "_view_name": "LayoutView",
            "align_content": null,
            "align_items": null,
            "align_self": null,
            "border": null,
            "bottom": null,
            "display": null,
            "flex": null,
            "flex_flow": null,
            "grid_area": null,
            "grid_auto_columns": null,
            "grid_auto_flow": null,
            "grid_auto_rows": null,
            "grid_column": null,
            "grid_gap": null,
            "grid_row": null,
            "grid_template_areas": null,
            "grid_template_columns": null,
            "grid_template_rows": null,
            "height": null,
            "justify_content": null,
            "justify_items": null,
            "left": null,
            "margin": null,
            "max_height": null,
            "max_width": null,
            "min_height": null,
            "min_width": null,
            "object_fit": null,
            "object_position": null,
            "order": null,
            "overflow": null,
            "overflow_x": null,
            "overflow_y": null,
            "padding": null,
            "right": null,
            "top": null,
            "visibility": null,
            "width": null
          }
        },
        "b3bdbda5a626418ebe2fbb904506befa": {
          "model_module": "@jupyter-widgets/controls",
          "model_module_version": "1.5.0",
          "model_name": "DescriptionStyleModel",
          "state": {
            "_model_module": "@jupyter-widgets/controls",
            "_model_module_version": "1.5.0",
            "_model_name": "DescriptionStyleModel",
            "_view_count": null,
            "_view_module": "@jupyter-widgets/base",
            "_view_module_version": "1.2.0",
            "_view_name": "StyleView",
            "description_width": ""
          }
        },
        "b7ecb1ebae0a488793626e74bc1766df": {
          "model_module": "@jupyter-widgets/controls",
          "model_module_version": "1.5.0",
          "model_name": "FloatProgressModel",
          "state": {
            "_dom_classes": [],
            "_model_module": "@jupyter-widgets/controls",
            "_model_module_version": "1.5.0",
            "_model_name": "FloatProgressModel",
            "_view_count": null,
            "_view_module": "@jupyter-widgets/controls",
            "_view_module_version": "1.5.0",
            "_view_name": "ProgressView",
            "bar_style": "success",
            "description": "",
            "description_tooltip": null,
            "layout": "IPY_MODEL_3c8bc76951a8467aa03639d2c43015a3",
            "max": 677,
            "min": 0,
            "orientation": "horizontal",
            "style": "IPY_MODEL_5693f1559ba54277bb6fc91dd0ee3d07",
            "value": 677
          }
        },
        "bf144e552d074288bdf1d8c888c08af6": {
          "model_module": "@jupyter-widgets/base",
          "model_module_version": "1.2.0",
          "model_name": "LayoutModel",
          "state": {
            "_model_module": "@jupyter-widgets/base",
            "_model_module_version": "1.2.0",
            "_model_name": "LayoutModel",
            "_view_count": null,
            "_view_module": "@jupyter-widgets/base",
            "_view_module_version": "1.2.0",
            "_view_name": "LayoutView",
            "align_content": null,
            "align_items": null,
            "align_self": null,
            "border": null,
            "bottom": null,
            "display": null,
            "flex": null,
            "flex_flow": null,
            "grid_area": null,
            "grid_auto_columns": null,
            "grid_auto_flow": null,
            "grid_auto_rows": null,
            "grid_column": null,
            "grid_gap": null,
            "grid_row": null,
            "grid_template_areas": null,
            "grid_template_columns": null,
            "grid_template_rows": null,
            "height": null,
            "justify_content": null,
            "justify_items": null,
            "left": null,
            "margin": null,
            "max_height": null,
            "max_width": null,
            "min_height": null,
            "min_width": null,
            "object_fit": null,
            "object_position": null,
            "order": null,
            "overflow": null,
            "overflow_x": null,
            "overflow_y": null,
            "padding": null,
            "right": null,
            "top": null,
            "visibility": null,
            "width": null
          }
        },
        "c6fddce6918d4b13920db86eb0abb393": {
          "model_module": "@jupyter-widgets/controls",
          "model_module_version": "1.5.0",
          "model_name": "FloatProgressModel",
          "state": {
            "_dom_classes": [],
            "_model_module": "@jupyter-widgets/controls",
            "_model_module_version": "1.5.0",
            "_model_name": "FloatProgressModel",
            "_view_count": null,
            "_view_module": "@jupyter-widgets/controls",
            "_view_module_version": "1.5.0",
            "_view_name": "ProgressView",
            "bar_style": "success",
            "description": "",
            "description_tooltip": null,
            "layout": "IPY_MODEL_81d63c6d75424e9b86c1305440cd1f4b",
            "max": 150,
            "min": 0,
            "orientation": "horizontal",
            "style": "IPY_MODEL_04364c85dd3d4c3e9dba12c7b8a361d1",
            "value": 150
          }
        },
        "cf88313006c649ae811e44272481913a": {
          "model_module": "@jupyter-widgets/controls",
          "model_module_version": "1.5.0",
          "model_name": "ProgressStyleModel",
          "state": {
            "_model_module": "@jupyter-widgets/controls",
            "_model_module_version": "1.5.0",
            "_model_name": "ProgressStyleModel",
            "_view_count": null,
            "_view_module": "@jupyter-widgets/base",
            "_view_module_version": "1.2.0",
            "_view_name": "StyleView",
            "bar_color": null,
            "description_width": ""
          }
        },
        "cfa48014c6c746af90c31925f518c2d5": {
          "model_module": "@jupyter-widgets/controls",
          "model_module_version": "1.5.0",
          "model_name": "HTMLModel",
          "state": {
            "_dom_classes": [],
            "_model_module": "@jupyter-widgets/controls",
            "_model_module_version": "1.5.0",
            "_model_name": "HTMLModel",
            "_view_count": null,
            "_view_module": "@jupyter-widgets/controls",
            "_view_module_version": "1.5.0",
            "_view_name": "HTMLView",
            "description": "",
            "description_tooltip": null,
            "layout": "IPY_MODEL_ae00008536f44e6b998f0cd378308f7c",
            "placeholder": "​",
            "style": "IPY_MODEL_6498537257f64f839b9ee6cc2e8e09b6",
            "value": " 150/150 [00:00&lt;00:00, 3.84kB/s]"
          }
        },
        "d3e553531b194b1b8b1b773be47be694": {
          "model_module": "@jupyter-widgets/controls",
          "model_module_version": "1.5.0",
          "model_name": "HTMLModel",
          "state": {
            "_dom_classes": [],
            "_model_module": "@jupyter-widgets/controls",
            "_model_module_version": "1.5.0",
            "_model_name": "HTMLModel",
            "_view_count": null,
            "_view_module": "@jupyter-widgets/controls",
            "_view_module_version": "1.5.0",
            "_view_name": "HTMLView",
            "description": "",
            "description_tooltip": null,
            "layout": "IPY_MODEL_bf144e552d074288bdf1d8c888c08af6",
            "placeholder": "​",
            "style": "IPY_MODEL_327f16782e8945538eed7d0726507c21",
            "value": " 435M/435M [00:11&lt;00:00, 30.5MB/s]"
          }
        },
        "d56e79ea9d624f728e2ce48516a1df53": {
          "model_module": "@jupyter-widgets/controls",
          "model_module_version": "1.5.0",
          "model_name": "HTMLModel",
          "state": {
            "_dom_classes": [],
            "_model_module": "@jupyter-widgets/controls",
            "_model_module_version": "1.5.0",
            "_model_name": "HTMLModel",
            "_view_count": null,
            "_view_module": "@jupyter-widgets/controls",
            "_view_module_version": "1.5.0",
            "_view_name": "HTMLView",
            "description": "",
            "description_tooltip": null,
            "layout": "IPY_MODEL_52ea7c1740d64f27a349e5bd5c507d7f",
            "placeholder": "​",
            "style": "IPY_MODEL_b3bdbda5a626418ebe2fbb904506befa",
            "value": " 323/323 [00:00&lt;00:00, 9.14kB/s]"
          }
        },
        "dd4730209e064beab095f9989ec5797d": {
          "model_module": "@jupyter-widgets/controls",
          "model_module_version": "1.5.0",
          "model_name": "HTMLModel",
          "state": {
            "_dom_classes": [],
            "_model_module": "@jupyter-widgets/controls",
            "_model_module_version": "1.5.0",
            "_model_name": "HTMLModel",
            "_view_count": null,
            "_view_module": "@jupyter-widgets/controls",
            "_view_module_version": "1.5.0",
            "_view_name": "HTMLView",
            "description": "",
            "description_tooltip": null,
            "layout": "IPY_MODEL_f324c2be33494227ba2003f21ce54b77",
            "placeholder": "​",
            "style": "IPY_MODEL_fcd6caef97db4f0790f2b83f501ee47e",
            "value": "model.safetensors: 100%"
          }
        },
        "dfc7f17ead4f4c88bb2dccc917d7a62b": {
          "model_module": "@jupyter-widgets/controls",
          "model_module_version": "1.5.0",
          "model_name": "DescriptionStyleModel",
          "state": {
            "_model_module": "@jupyter-widgets/controls",
            "_model_module_version": "1.5.0",
            "_model_name": "DescriptionStyleModel",
            "_view_count": null,
            "_view_module": "@jupyter-widgets/base",
            "_view_module_version": "1.2.0",
            "_view_name": "StyleView",
            "description_width": ""
          }
        },
        "edd3c0dac35c4347979164feac1af96f": {
          "model_module": "@jupyter-widgets/base",
          "model_module_version": "1.2.0",
          "model_name": "LayoutModel",
          "state": {
            "_model_module": "@jupyter-widgets/base",
            "_model_module_version": "1.2.0",
            "_model_name": "LayoutModel",
            "_view_count": null,
            "_view_module": "@jupyter-widgets/base",
            "_view_module_version": "1.2.0",
            "_view_name": "LayoutView",
            "align_content": null,
            "align_items": null,
            "align_self": null,
            "border": null,
            "bottom": null,
            "display": null,
            "flex": null,
            "flex_flow": null,
            "grid_area": null,
            "grid_auto_columns": null,
            "grid_auto_flow": null,
            "grid_auto_rows": null,
            "grid_column": null,
            "grid_gap": null,
            "grid_row": null,
            "grid_template_areas": null,
            "grid_template_columns": null,
            "grid_template_rows": null,
            "height": null,
            "justify_content": null,
            "justify_items": null,
            "left": null,
            "margin": null,
            "max_height": null,
            "max_width": null,
            "min_height": null,
            "min_width": null,
            "object_fit": null,
            "object_position": null,
            "order": null,
            "overflow": null,
            "overflow_x": null,
            "overflow_y": null,
            "padding": null,
            "right": null,
            "top": null,
            "visibility": null,
            "width": null
          }
        },
        "f324c2be33494227ba2003f21ce54b77": {
          "model_module": "@jupyter-widgets/base",
          "model_module_version": "1.2.0",
          "model_name": "LayoutModel",
          "state": {
            "_model_module": "@jupyter-widgets/base",
            "_model_module_version": "1.2.0",
            "_model_name": "LayoutModel",
            "_view_count": null,
            "_view_module": "@jupyter-widgets/base",
            "_view_module_version": "1.2.0",
            "_view_name": "LayoutView",
            "align_content": null,
            "align_items": null,
            "align_self": null,
            "border": null,
            "bottom": null,
            "display": null,
            "flex": null,
            "flex_flow": null,
            "grid_area": null,
            "grid_auto_columns": null,
            "grid_auto_flow": null,
            "grid_auto_rows": null,
            "grid_column": null,
            "grid_gap": null,
            "grid_row": null,
            "grid_template_areas": null,
            "grid_template_columns": null,
            "grid_template_rows": null,
            "height": null,
            "justify_content": null,
            "justify_items": null,
            "left": null,
            "margin": null,
            "max_height": null,
            "max_width": null,
            "min_height": null,
            "min_width": null,
            "object_fit": null,
            "object_position": null,
            "order": null,
            "overflow": null,
            "overflow_x": null,
            "overflow_y": null,
            "padding": null,
            "right": null,
            "top": null,
            "visibility": null,
            "width": null
          }
        },
        "f8211b0452514d40af600bb9fadc3193": {
          "model_module": "@jupyter-widgets/controls",
          "model_module_version": "1.5.0",
          "model_name": "HTMLModel",
          "state": {
            "_dom_classes": [],
            "_model_module": "@jupyter-widgets/controls",
            "_model_module_version": "1.5.0",
            "_model_name": "HTMLModel",
            "_view_count": null,
            "_view_module": "@jupyter-widgets/controls",
            "_view_module_version": "1.5.0",
            "_view_name": "HTMLView",
            "description": "",
            "description_tooltip": null,
            "layout": "IPY_MODEL_2267c9c689e643c3991b0e1c961a29ec",
            "placeholder": "​",
            "style": "IPY_MODEL_46d7b9862ec34975b421a99ce096b6ce",
            "value": "tokenizer.json: 100%"
          }
        },
        "fcd6caef97db4f0790f2b83f501ee47e": {
          "model_module": "@jupyter-widgets/controls",
          "model_module_version": "1.5.0",
          "model_name": "DescriptionStyleModel",
          "state": {
            "_model_module": "@jupyter-widgets/controls",
            "_model_module_version": "1.5.0",
            "_model_name": "DescriptionStyleModel",
            "_view_count": null,
            "_view_module": "@jupyter-widgets/base",
            "_view_module_version": "1.2.0",
            "_view_name": "StyleView",
            "description_width": ""
          }
        },
        "ff1ca9ccc01648cf8007279344d14a9a": {
          "model_module": "@jupyter-widgets/base",
          "model_module_version": "1.2.0",
          "model_name": "LayoutModel",
          "state": {
            "_model_module": "@jupyter-widgets/base",
            "_model_module_version": "1.2.0",
            "_model_name": "LayoutModel",
            "_view_count": null,
            "_view_module": "@jupyter-widgets/base",
            "_view_module_version": "1.2.0",
            "_view_name": "LayoutView",
            "align_content": null,
            "align_items": null,
            "align_self": null,
            "border": null,
            "bottom": null,
            "display": null,
            "flex": null,
            "flex_flow": null,
            "grid_area": null,
            "grid_auto_columns": null,
            "grid_auto_flow": null,
            "grid_auto_rows": null,
            "grid_column": null,
            "grid_gap": null,
            "grid_row": null,
            "grid_template_areas": null,
            "grid_template_columns": null,
            "grid_template_rows": null,
            "height": null,
            "justify_content": null,
            "justify_items": null,
            "left": null,
            "margin": null,
            "max_height": null,
            "max_width": null,
            "min_height": null,
            "min_width": null,
            "object_fit": null,
            "object_position": null,
            "order": null,
            "overflow": null,
            "overflow_x": null,
            "overflow_y": null,
            "padding": null,
            "right": null,
            "top": null,
            "visibility": null,
            "width": null
          }
        }
      }
    }
  },
  "nbformat": 4,
  "nbformat_minor": 0
}
